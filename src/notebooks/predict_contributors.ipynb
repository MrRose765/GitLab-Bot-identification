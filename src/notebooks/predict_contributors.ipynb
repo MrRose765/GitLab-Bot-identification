{
 "cells": [
  {
   "metadata": {},
   "cell_type": "markdown",
   "source": [
    "# Test models\n",
    "This notebook is used to load the test features and predict the labels and confidence using the trained model.\n",
    "The labels are then saved in a csv file. (Its name is defined in the constant `PRED_FILE`).\n",
    "\n",
    "Finally, the predictions will be evaluated and saved in the evaluation file with the given NAME as index.\n",
    "\n",
    "Parameters :\n",
    "- MODEL_NAME : the name of the model to load\n",
    "- FEATURES_FILE : the name of the csv containing the features of bimbas\n",
    "- PRED_FILE : the name of the file to save the predictions (Set None if you don't want to save the predictions)\n",
    "- EVAL_FILE : the name of the csv to save the evaluation\n",
    "- NAME : the name of the evaluation (used as index in the evaluation file)\n",
    "\n",
    "We will compare the predictions made with the real labels and compute the following metrics:\n",
    "- recall\n",
    "- precision\n",
    "- weighted f1-score\n",
    "- accuracy\n",
    "- roc-auc\n",
    "- num_contributors\n",
    "- tn_fp_fn_tp"
   ],
   "id": "3b0d1d2c5a937a46"
  },
  {
   "cell_type": "code",
   "id": "initial_id",
   "metadata": {
    "collapsed": true,
    "ExecuteTime": {
     "end_time": "2025-01-21T16:10:26.288720Z",
     "start_time": "2025-01-21T16:10:25.086211Z"
    }
   },
   "source": [
    "import joblib\n",
    "import pandas as pd\n",
    "\n",
    "from sklearn.metrics import confusion_matrix, classification_report\n",
    "from sklearn.metrics import roc_auc_score\n"
   ],
   "outputs": [],
   "execution_count": 1
  },
  {
   "metadata": {
    "ExecuteTime": {
     "end_time": "2025-01-21T16:10:27.817428Z",
     "start_time": "2025-01-21T16:10:27.813661Z"
    }
   },
   "cell_type": "code",
   "source": [
    "RESOURCE_FOLDER = '../resources'\n",
    "DATA_FOLDER = f'{RESOURCE_FOLDER}/data'\n",
    "MODEL_FOLDER = f'{RESOURCE_FOLDER}/models'\n",
    "EVAL_FOLDER = f'{RESOURCE_FOLDER}/evals'\n",
    "\n",
    "FEATURES_FILE = 'ghmap_features.csv'\n",
    "MODEL_NAME = 'bimbaseline.joblib'\n",
    "\n",
    "PRED_FILE = None\n",
    "EVAL_FILE = 'evaluation.csv'\n",
    "NAME = 'test'\n",
    "\n",
    "RAND_SEED = 42"
   ],
   "id": "a540ee7c291da10e",
   "outputs": [],
   "execution_count": 2
  },
  {
   "metadata": {},
   "cell_type": "markdown",
   "source": "# 1 - Load features and labels",
   "id": "23cfd24e3f378b26"
  },
  {
   "metadata": {
    "ExecuteTime": {
     "end_time": "2025-01-21T16:13:25.248097Z",
     "start_time": "2025-01-21T16:13:25.122683Z"
    }
   },
   "cell_type": "code",
   "source": [
    "df_test = pd.read_csv(f\"{DATA_FOLDER}/{FEATURES_FILE}\")\n",
    "df_test.set_index('contributor', inplace=True)\n",
    "df_test = df_test[df_test['dataset'] == 'test']\n",
    "df_test.drop(columns=['dataset'], inplace=True)\n",
    "\n",
    "df_test['label'].value_counts().plot(kind='bar')\n",
    "display(df_test.head())"
   ],
   "id": "96ee5ba1fc98d00f",
   "outputs": [
    {
     "data": {
      "text/plain": [
       "                label   NA  NT  NR  NOR    ORR  NAR_mean  NAR_median  NAR_std  \\\n",
       "contributor                                                                     \n",
       "otc-zuul[bot]     Bot  200   5  51    4  0.078     3.922         3.0    3.230   \n",
       "ljharb          Human  242  13  84   32  0.381     2.881         2.0    2.673   \n",
       "juancarlospaco  Human  284  13  41   18  0.439     6.927         2.0    9.353   \n",
       "tldr-bot          Bot  210   1   1    1  1.000   210.000       210.0    0.000   \n",
       "jakirkham       Human  222  10  72   13  0.181     3.083         2.0    2.561   \n",
       "\n",
       "                NAR_gini  ...  DCA_mean  DCA_median  DCA_std  DCA_gini  \\\n",
       "contributor               ...                                            \n",
       "otc-zuul[bot]      0.301  ...     3.151       0.001   23.155     0.957   \n",
       "ljharb             0.448  ...     0.799       0.065    2.841     0.869   \n",
       "juancarlospaco     0.611  ...     5.510       0.114   19.007     0.905   \n",
       "tldr-bot           0.000  ...     6.575       1.892    9.855     0.676   \n",
       "jakirkham          0.421  ...     2.673       0.060   24.658     0.955   \n",
       "\n",
       "                DCA_IQR  DCAT_mean  DCAT_median  DCAT_std  DCAT_gini  DCAT_IQR  \n",
       "contributor                                                                     \n",
       "otc-zuul[bot]     0.131      0.595        0.001     2.506      0.920     0.022  \n",
       "ljharb            0.340      1.086        0.065     3.403      0.864     0.394  \n",
       "juancarlospaco    0.975      5.851        0.110    19.125      0.888     1.348  \n",
       "tldr-bot          9.708        NaN          NaN     0.000      0.000       NaN  \n",
       "jakirkham         0.222      3.441        0.054    28.939      0.960     0.225  \n",
       "\n",
       "[5 rows x 46 columns]"
      ],
      "text/html": [
       "<div>\n",
       "<style scoped>\n",
       "    .dataframe tbody tr th:only-of-type {\n",
       "        vertical-align: middle;\n",
       "    }\n",
       "\n",
       "    .dataframe tbody tr th {\n",
       "        vertical-align: top;\n",
       "    }\n",
       "\n",
       "    .dataframe thead th {\n",
       "        text-align: right;\n",
       "    }\n",
       "</style>\n",
       "<table border=\"1\" class=\"dataframe\">\n",
       "  <thead>\n",
       "    <tr style=\"text-align: right;\">\n",
       "      <th></th>\n",
       "      <th>label</th>\n",
       "      <th>NA</th>\n",
       "      <th>NT</th>\n",
       "      <th>NR</th>\n",
       "      <th>NOR</th>\n",
       "      <th>ORR</th>\n",
       "      <th>NAR_mean</th>\n",
       "      <th>NAR_median</th>\n",
       "      <th>NAR_std</th>\n",
       "      <th>NAR_gini</th>\n",
       "      <th>...</th>\n",
       "      <th>DCA_mean</th>\n",
       "      <th>DCA_median</th>\n",
       "      <th>DCA_std</th>\n",
       "      <th>DCA_gini</th>\n",
       "      <th>DCA_IQR</th>\n",
       "      <th>DCAT_mean</th>\n",
       "      <th>DCAT_median</th>\n",
       "      <th>DCAT_std</th>\n",
       "      <th>DCAT_gini</th>\n",
       "      <th>DCAT_IQR</th>\n",
       "    </tr>\n",
       "    <tr>\n",
       "      <th>contributor</th>\n",
       "      <th></th>\n",
       "      <th></th>\n",
       "      <th></th>\n",
       "      <th></th>\n",
       "      <th></th>\n",
       "      <th></th>\n",
       "      <th></th>\n",
       "      <th></th>\n",
       "      <th></th>\n",
       "      <th></th>\n",
       "      <th></th>\n",
       "      <th></th>\n",
       "      <th></th>\n",
       "      <th></th>\n",
       "      <th></th>\n",
       "      <th></th>\n",
       "      <th></th>\n",
       "      <th></th>\n",
       "      <th></th>\n",
       "      <th></th>\n",
       "      <th></th>\n",
       "    </tr>\n",
       "  </thead>\n",
       "  <tbody>\n",
       "    <tr>\n",
       "      <th>otc-zuul[bot]</th>\n",
       "      <td>Bot</td>\n",
       "      <td>200</td>\n",
       "      <td>5</td>\n",
       "      <td>51</td>\n",
       "      <td>4</td>\n",
       "      <td>0.078</td>\n",
       "      <td>3.922</td>\n",
       "      <td>3.0</td>\n",
       "      <td>3.230</td>\n",
       "      <td>0.301</td>\n",
       "      <td>...</td>\n",
       "      <td>3.151</td>\n",
       "      <td>0.001</td>\n",
       "      <td>23.155</td>\n",
       "      <td>0.957</td>\n",
       "      <td>0.131</td>\n",
       "      <td>0.595</td>\n",
       "      <td>0.001</td>\n",
       "      <td>2.506</td>\n",
       "      <td>0.920</td>\n",
       "      <td>0.022</td>\n",
       "    </tr>\n",
       "    <tr>\n",
       "      <th>ljharb</th>\n",
       "      <td>Human</td>\n",
       "      <td>242</td>\n",
       "      <td>13</td>\n",
       "      <td>84</td>\n",
       "      <td>32</td>\n",
       "      <td>0.381</td>\n",
       "      <td>2.881</td>\n",
       "      <td>2.0</td>\n",
       "      <td>2.673</td>\n",
       "      <td>0.448</td>\n",
       "      <td>...</td>\n",
       "      <td>0.799</td>\n",
       "      <td>0.065</td>\n",
       "      <td>2.841</td>\n",
       "      <td>0.869</td>\n",
       "      <td>0.340</td>\n",
       "      <td>1.086</td>\n",
       "      <td>0.065</td>\n",
       "      <td>3.403</td>\n",
       "      <td>0.864</td>\n",
       "      <td>0.394</td>\n",
       "    </tr>\n",
       "    <tr>\n",
       "      <th>juancarlospaco</th>\n",
       "      <td>Human</td>\n",
       "      <td>284</td>\n",
       "      <td>13</td>\n",
       "      <td>41</td>\n",
       "      <td>18</td>\n",
       "      <td>0.439</td>\n",
       "      <td>6.927</td>\n",
       "      <td>2.0</td>\n",
       "      <td>9.353</td>\n",
       "      <td>0.611</td>\n",
       "      <td>...</td>\n",
       "      <td>5.510</td>\n",
       "      <td>0.114</td>\n",
       "      <td>19.007</td>\n",
       "      <td>0.905</td>\n",
       "      <td>0.975</td>\n",
       "      <td>5.851</td>\n",
       "      <td>0.110</td>\n",
       "      <td>19.125</td>\n",
       "      <td>0.888</td>\n",
       "      <td>1.348</td>\n",
       "    </tr>\n",
       "    <tr>\n",
       "      <th>tldr-bot</th>\n",
       "      <td>Bot</td>\n",
       "      <td>210</td>\n",
       "      <td>1</td>\n",
       "      <td>1</td>\n",
       "      <td>1</td>\n",
       "      <td>1.000</td>\n",
       "      <td>210.000</td>\n",
       "      <td>210.0</td>\n",
       "      <td>0.000</td>\n",
       "      <td>0.000</td>\n",
       "      <td>...</td>\n",
       "      <td>6.575</td>\n",
       "      <td>1.892</td>\n",
       "      <td>9.855</td>\n",
       "      <td>0.676</td>\n",
       "      <td>9.708</td>\n",
       "      <td>NaN</td>\n",
       "      <td>NaN</td>\n",
       "      <td>0.000</td>\n",
       "      <td>0.000</td>\n",
       "      <td>NaN</td>\n",
       "    </tr>\n",
       "    <tr>\n",
       "      <th>jakirkham</th>\n",
       "      <td>Human</td>\n",
       "      <td>222</td>\n",
       "      <td>10</td>\n",
       "      <td>72</td>\n",
       "      <td>13</td>\n",
       "      <td>0.181</td>\n",
       "      <td>3.083</td>\n",
       "      <td>2.0</td>\n",
       "      <td>2.561</td>\n",
       "      <td>0.421</td>\n",
       "      <td>...</td>\n",
       "      <td>2.673</td>\n",
       "      <td>0.060</td>\n",
       "      <td>24.658</td>\n",
       "      <td>0.955</td>\n",
       "      <td>0.222</td>\n",
       "      <td>3.441</td>\n",
       "      <td>0.054</td>\n",
       "      <td>28.939</td>\n",
       "      <td>0.960</td>\n",
       "      <td>0.225</td>\n",
       "    </tr>\n",
       "  </tbody>\n",
       "</table>\n",
       "<p>5 rows × 46 columns</p>\n",
       "</div>"
      ]
     },
     "metadata": {},
     "output_type": "display_data"
    },
    {
     "data": {
      "text/plain": [
       "<Figure size 640x480 with 1 Axes>"
      ],
      "image/png": "[encoded data removed]"
     },
     "metadata": {},
     "output_type": "display_data"
    }
   ],
   "execution_count": 14
  },
  {
   "metadata": {
    "ExecuteTime": {
     "end_time": "2025-01-21T16:13:32.692424Z",
     "start_time": "2025-01-21T16:13:32.685350Z"
    }
   },
   "cell_type": "code",
   "source": [
    "df_label = df_test.copy()\n",
    "df_label = df_label[['label']]\n",
    "display(df_label.head())\n",
    "\n",
    "df_test.drop(columns=['label'], inplace=True)"
   ],
   "id": "f27825feb5b7f92e",
   "outputs": [
    {
     "data": {
      "text/plain": [
       "                label\n",
       "contributor          \n",
       "otc-zuul[bot]     Bot\n",
       "ljharb          Human\n",
       "juancarlospaco  Human\n",
       "tldr-bot          Bot\n",
       "jakirkham       Human"
      ],
      "text/html": [
       "<div>\n",
       "<style scoped>\n",
       "    .dataframe tbody tr th:only-of-type {\n",
       "        vertical-align: middle;\n",
       "    }\n",
       "\n",
       "    .dataframe tbody tr th {\n",
       "        vertical-align: top;\n",
       "    }\n",
       "\n",
       "    .dataframe thead th {\n",
       "        text-align: right;\n",
       "    }\n",
       "</style>\n",
       "<table border=\"1\" class=\"dataframe\">\n",
       "  <thead>\n",
       "    <tr style=\"text-align: right;\">\n",
       "      <th></th>\n",
       "      <th>label</th>\n",
       "    </tr>\n",
       "    <tr>\n",
       "      <th>contributor</th>\n",
       "      <th></th>\n",
       "    </tr>\n",
       "  </thead>\n",
       "  <tbody>\n",
       "    <tr>\n",
       "      <th>otc-zuul[bot]</th>\n",
       "      <td>Bot</td>\n",
       "    </tr>\n",
       "    <tr>\n",
       "      <th>ljharb</th>\n",
       "      <td>Human</td>\n",
       "    </tr>\n",
       "    <tr>\n",
       "      <th>juancarlospaco</th>\n",
       "      <td>Human</td>\n",
       "    </tr>\n",
       "    <tr>\n",
       "      <th>tldr-bot</th>\n",
       "      <td>Bot</td>\n",
       "    </tr>\n",
       "    <tr>\n",
       "      <th>jakirkham</th>\n",
       "      <td>Human</td>\n",
       "    </tr>\n",
       "  </tbody>\n",
       "</table>\n",
       "</div>"
      ]
     },
     "metadata": {},
     "output_type": "display_data"
    }
   ],
   "execution_count": 15
  },
  {
   "metadata": {},
   "cell_type": "markdown",
   "source": "# 2 - Load the model",
   "id": "487280741408d176"
  },
  {
   "metadata": {
    "ExecuteTime": {
     "end_time": "2025-01-21T16:13:34.875721Z",
     "start_time": "2025-01-21T16:13:34.866880Z"
    }
   },
   "cell_type": "code",
   "source": "model = joblib.load(f\"{MODEL_FOLDER}/{MODEL_NAME}\")",
   "id": "6a4b490edf72d046",
   "outputs": [],
   "execution_count": 16
  },
  {
   "metadata": {},
   "cell_type": "markdown",
   "source": "# 3 - Predict the labels",
   "id": "6e2b59ca54d17a5"
  },
  {
   "metadata": {
    "ExecuteTime": {
     "end_time": "2025-01-21T16:13:36.971461Z",
     "start_time": "2025-01-21T16:13:36.968066Z"
    }
   },
   "cell_type": "code",
   "source": [
    "from rabbit import compute_confidence\n",
    "import warnings\n",
    "\n",
    "\n",
    "def predict(features, model):\n",
    "    with warnings.catch_warnings():\n",
    "        warnings.simplefilter(\"ignore\", category=UserWarning)\n",
    "        proba = model.predict_proba(features)\n",
    "    return compute_confidence(proba[0][1])"
   ],
   "id": "3d833819378b5f3d",
   "outputs": [],
   "execution_count": 17
  },
  {
   "metadata": {
    "ExecuteTime": {
     "end_time": "2025-01-21T16:13:41.494200Z",
     "start_time": "2025-01-21T16:13:38.198384Z"
    }
   },
   "cell_type": "code",
   "source": [
    "# Create a df with 4 column but with the \"contributor\" column as index\n",
    "df_prediction = pd.DataFrame(columns=['true_bot', 'predicted_bot'])\n",
    "df_prediction = df_prediction.astype(int)\n",
    "\n",
    "for contributor in df_test.index:\n",
    "    true_bot = df_label.loc[contributor, 'label']\n",
    "    y_prediction, confidence = predict(df_test.loc[[contributor]], model)\n",
    "    new_row = pd.DataFrame([{\n",
    "        'contributor': contributor,\n",
    "        'true_bot': true_bot,\n",
    "        'predicted_bot': y_prediction,\n",
    "        'confidence': confidence\n",
    "    }])\n",
    "    # Set true_bot and predicted_bot as int\n",
    "    new_row.set_index('contributor', inplace=True)\n",
    "    df_prediction = pd.concat([df_prediction, new_row], ignore_index=False)\n",
    "\n",
    "df_prediction.index.name = 'contributor'\n",
    "display(df_prediction)"
   ],
   "id": "17601c03e1cc473d",
   "outputs": [
    {
     "data": {
      "text/plain": [
       "               true_bot predicted_bot  confidence\n",
       "contributor                                      \n",
       "otc-zuul[bot]       Bot           Bot       0.816\n",
       "ljharb            Human         Human       0.580\n",
       "juancarlospaco    Human         Human       0.840\n",
       "tldr-bot            Bot           Bot       0.910\n",
       "jakirkham         Human         Human       0.695\n",
       "...                 ...           ...         ...\n",
       "mmstick           Human         Human       0.870\n",
       "asyncapi-bot        Bot         Human       0.460\n",
       "jeffgbutler       Human         Human       0.811\n",
       "mariusvniekerk    Human         Human       0.753\n",
       "team-k8s-bot        Bot         Human       0.790\n",
       "\n",
       "[763 rows x 3 columns]"
      ],
      "text/html": [
       "<div>\n",
       "<style scoped>\n",
       "    .dataframe tbody tr th:only-of-type {\n",
       "        vertical-align: middle;\n",
       "    }\n",
       "\n",
       "    .dataframe tbody tr th {\n",
       "        vertical-align: top;\n",
       "    }\n",
       "\n",
       "    .dataframe thead th {\n",
       "        text-align: right;\n",
       "    }\n",
       "</style>\n",
       "<table border=\"1\" class=\"dataframe\">\n",
       "  <thead>\n",
       "    <tr style=\"text-align: right;\">\n",
       "      <th></th>\n",
       "      <th>true_bot</th>\n",
       "      <th>predicted_bot</th>\n",
       "      <th>confidence</th>\n",
       "    </tr>\n",
       "    <tr>\n",
       "      <th>contributor</th>\n",
       "      <th></th>\n",
       "      <th></th>\n",
       "      <th></th>\n",
       "    </tr>\n",
       "  </thead>\n",
       "  <tbody>\n",
       "    <tr>\n",
       "      <th>otc-zuul[bot]</th>\n",
       "      <td>Bot</td>\n",
       "      <td>Bot</td>\n",
       "      <td>0.816</td>\n",
       "    </tr>\n",
       "    <tr>\n",
       "      <th>ljharb</th>\n",
       "      <td>Human</td>\n",
       "      <td>Human</td>\n",
       "      <td>0.580</td>\n",
       "    </tr>\n",
       "    <tr>\n",
       "      <th>juancarlospaco</th>\n",
       "      <td>Human</td>\n",
       "      <td>Human</td>\n",
       "      <td>0.840</td>\n",
       "    </tr>\n",
       "    <tr>\n",
       "      <th>tldr-bot</th>\n",
       "      <td>Bot</td>\n",
       "      <td>Bot</td>\n",
       "      <td>0.910</td>\n",
       "    </tr>\n",
       "    <tr>\n",
       "      <th>jakirkham</th>\n",
       "      <td>Human</td>\n",
       "      <td>Human</td>\n",
       "      <td>0.695</td>\n",
       "    </tr>\n",
       "    <tr>\n",
       "      <th>...</th>\n",
       "      <td>...</td>\n",
       "      <td>...</td>\n",
       "      <td>...</td>\n",
       "    </tr>\n",
       "    <tr>\n",
       "      <th>mmstick</th>\n",
       "      <td>Human</td>\n",
       "      <td>Human</td>\n",
       "      <td>0.870</td>\n",
       "    </tr>\n",
       "    <tr>\n",
       "      <th>asyncapi-bot</th>\n",
       "      <td>Bot</td>\n",
       "      <td>Human</td>\n",
       "      <td>0.460</td>\n",
       "    </tr>\n",
       "    <tr>\n",
       "      <th>jeffgbutler</th>\n",
       "      <td>Human</td>\n",
       "      <td>Human</td>\n",
       "      <td>0.811</td>\n",
       "    </tr>\n",
       "    <tr>\n",
       "      <th>mariusvniekerk</th>\n",
       "      <td>Human</td>\n",
       "      <td>Human</td>\n",
       "      <td>0.753</td>\n",
       "    </tr>\n",
       "    <tr>\n",
       "      <th>team-k8s-bot</th>\n",
       "      <td>Bot</td>\n",
       "      <td>Human</td>\n",
       "      <td>0.790</td>\n",
       "    </tr>\n",
       "  </tbody>\n",
       "</table>\n",
       "<p>763 rows × 3 columns</p>\n",
       "</div>"
      ]
     },
     "metadata": {},
     "output_type": "display_data"
    }
   ],
   "execution_count": 18
  },
  {
   "metadata": {},
   "cell_type": "markdown",
   "source": "# 4 - Save the predictions",
   "id": "bf780422cbd66485"
  },
  {
   "metadata": {
    "ExecuteTime": {
     "end_time": "2025-01-21T16:13:44.265084Z",
     "start_time": "2025-01-21T16:13:44.262164Z"
    }
   },
   "cell_type": "code",
   "source": [
    "if PRED_FILE:\n",
    "    df_prediction.to_csv(f\"{EVAL_FOLDER}/{PRED_FILE}\", index=True)\n",
    "else:\n",
    "    print(\"No file to save the predictions\")"
   ],
   "id": "5690f1d4b8ebde3c",
   "outputs": [
    {
     "name": "stdout",
     "output_type": "stream",
     "text": [
      "No file to save the predictions\n"
     ]
    }
   ],
   "execution_count": 19
  },
  {
   "metadata": {},
   "cell_type": "markdown",
   "source": "# 5 - Evaluate the predictions",
   "id": "35801994948c2a6d"
  },
  {
   "metadata": {},
   "cell_type": "markdown",
   "source": "## 5.1 - Define the metrics",
   "id": "a306c8488d1cf3d5"
  },
  {
   "metadata": {
    "ExecuteTime": {
     "end_time": "2025-01-21T16:13:45.627209Z",
     "start_time": "2025-01-21T16:13:45.623550Z"
    }
   },
   "cell_type": "code",
   "source": [
    "def evaluate_model(y_pred, y_true, target_names):\n",
    "    \"\"\"\n",
    "    Compute the classification metrics and return them as a DataFrame. The accuracy is also returned.\n",
    "    :return: report_df and the accuracy.\n",
    "    \"\"\"\n",
    "    report = classification_report(y_true, y_pred, target_names=target_names, output_dict=True)\n",
    "    return {\n",
    "        'precision': [report['weighted avg']['precision']],\n",
    "        'bot_precision': [report['Bot']['precision']],\n",
    "        'human_precision': [report['Human']['precision']],\n",
    "        'recall': [report['weighted avg']['recall']],\n",
    "        'bot_recall': [report['Bot']['recall']],\n",
    "        'human_recall': [report['Human']['recall']],\n",
    "        'weighted_f1': [report['weighted avg']['f1-score']],\n",
    "        'accuracy': [report['accuracy']],\n",
    "        'roc_auc': [roc_auc_score(y_true, y_pred)],\n",
    "        'tn_fp_fn_tp': [confusion_matrix(y_true, y_pred).ravel()],\n",
    "        'num_contrib': [df_prediction.index.nunique()],\n",
    "    }"
   ],
   "id": "2acc8764c25a799d",
   "outputs": [],
   "execution_count": 20
  },
  {
   "metadata": {},
   "cell_type": "markdown",
   "source": "## 5.2 - Evaluate the predictions",
   "id": "26817ffa6f68c860"
  },
  {
   "metadata": {
    "ExecuteTime": {
     "end_time": "2025-01-21T16:13:47.889069Z",
     "start_time": "2025-01-21T16:13:47.872042Z"
    }
   },
   "cell_type": "code",
   "source": [
    "contributor_map = {\n",
    "    'Bot': 1,\n",
    "    'Human': 0\n",
    "}\n",
    "\n",
    "df_prediction['predicted_bot'] = df_prediction['predicted_bot'].map(contributor_map)\n",
    "df_prediction['true_bot'] = df_prediction['true_bot'].map(contributor_map)\n",
    "# Set column type to int\n",
    "df_prediction['predicted_bot'] = df_prediction['predicted_bot'].astype(int)\n",
    "df_prediction['true_bot'] = df_prediction['true_bot'].astype(int)\n",
    "\n",
    "y_pred = df_prediction['predicted_bot']\n",
    "y_test = df_prediction['true_bot']\n",
    "\n",
    "\n",
    "\n",
    "performance = pd.DataFrame.from_dict(evaluate_model(y_pred, y_test, ['Human', 'Bot']))\n",
    "performance.index = [NAME]"
   ],
   "id": "8c26010a5416d96b",
   "outputs": [],
   "execution_count": 21
  },
  {
   "metadata": {
    "ExecuteTime": {
     "end_time": "2025-01-21T16:13:49.810169Z",
     "start_time": "2025-01-21T16:13:49.800115Z"
    }
   },
   "cell_type": "code",
   "source": "display(performance)",
   "id": "e86aaa7f812d01e7",
   "outputs": [
    {
     "data": {
      "text/plain": [
       "      precision  bot_precision  human_precision    recall  bot_recall  \\\n",
       "test   0.887289       0.887701         0.886889  0.887287    0.882979   \n",
       "\n",
       "      human_recall  weighted_f1  accuracy   roc_auc         tn_fp_fn_tp  \\\n",
       "test      0.891473     0.887282  0.887287  0.887226  [345, 42, 44, 332]   \n",
       "\n",
       "      num_contrib  \n",
       "test          763  "
      ],
      "text/html": [
       "<div>\n",
       "<style scoped>\n",
       "    .dataframe tbody tr th:only-of-type {\n",
       "        vertical-align: middle;\n",
       "    }\n",
       "\n",
       "    .dataframe tbody tr th {\n",
       "        vertical-align: top;\n",
       "    }\n",
       "\n",
       "    .dataframe thead th {\n",
       "        text-align: right;\n",
       "    }\n",
       "</style>\n",
       "<table border=\"1\" class=\"dataframe\">\n",
       "  <thead>\n",
       "    <tr style=\"text-align: right;\">\n",
       "      <th></th>\n",
       "      <th>precision</th>\n",
       "      <th>bot_precision</th>\n",
       "      <th>human_precision</th>\n",
       "      <th>recall</th>\n",
       "      <th>bot_recall</th>\n",
       "      <th>human_recall</th>\n",
       "      <th>weighted_f1</th>\n",
       "      <th>accuracy</th>\n",
       "      <th>roc_auc</th>\n",
       "      <th>tn_fp_fn_tp</th>\n",
       "      <th>num_contrib</th>\n",
       "    </tr>\n",
       "  </thead>\n",
       "  <tbody>\n",
       "    <tr>\n",
       "      <th>test</th>\n",
       "      <td>0.887289</td>\n",
       "      <td>0.887701</td>\n",
       "      <td>0.886889</td>\n",
       "      <td>0.887287</td>\n",
       "      <td>0.882979</td>\n",
       "      <td>0.891473</td>\n",
       "      <td>0.887282</td>\n",
       "      <td>0.887287</td>\n",
       "      <td>0.887226</td>\n",
       "      <td>[345, 42, 44, 332]</td>\n",
       "      <td>763</td>\n",
       "    </tr>\n",
       "  </tbody>\n",
       "</table>\n",
       "</div>"
      ]
     },
     "metadata": {},
     "output_type": "display_data"
    }
   ],
   "execution_count": 22
  },
  {
   "metadata": {},
   "cell_type": "markdown",
   "source": "## 5.3 - Save the evaluation",
   "id": "2ee780a8cb5ffe4b"
  },
  {
   "metadata": {
    "ExecuteTime": {
     "end_time": "2025-01-21T16:13:56.701940Z",
     "start_time": "2025-01-21T16:13:56.697669Z"
    }
   },
   "cell_type": "code",
   "source": "df_eval = pd.read_csv(f\"{EVAL_FOLDER}/{EVAL_FILE}\", index_col=0)",
   "id": "4f47241ef00e3c03",
   "outputs": [],
   "execution_count": 23
  },
  {
   "metadata": {
    "ExecuteTime": {
     "end_time": "2025-01-21T16:13:57.726405Z",
     "start_time": "2025-01-21T16:13:57.720092Z"
    }
   },
   "cell_type": "code",
   "source": [
    "# If the evaluation already exists, replace the line\n",
    "if NAME in df_eval.index:\n",
    "    df_eval.drop(index=NAME, inplace=True)\n",
    "df_eval = pd.concat([df_eval, performance], axis=0)\n",
    "df_eval.index.name = 'model'\n",
    "df_eval.to_csv(f\"{EVAL_FOLDER}/{EVAL_FILE}\", index=True)"
   ],
   "id": "2b8f03918ef94d74",
   "outputs": [],
   "execution_count": 24
  }
 ],
 "metadata": {
  "kernelspec": {
   "display_name": "Python 3",
   "language": "python",
   "name": "python3"
  },
  "language_info": {
   "codemirror_mode": {
    "name": "ipython",
    "version": 2
   },
   "file_extension": ".py",
   "mimetype": "text/x-python",
   "name": "python",
   "nbconvert_exporter": "python",
   "pygments_lexer": "ipython2",
   "version": "2.7.6"
  }
 },
 "nbformat": 4,
 "nbformat_minor": 5
}
