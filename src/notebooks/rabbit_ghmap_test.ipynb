{
 "cells": [
  {
   "metadata": {},
   "cell_type": "markdown",
   "source": [
    "# Rabbit with ghmap\n",
    "This notebook is a test notebook to extract activities of a GH user using the `ghmap` package and then extract features used by the `rabbit` package."
   ],
   "id": "614e1dd8fe63c8b"
  },
  {
   "metadata": {
    "ExecuteTime": {
     "end_time": "2025-01-05T14:02:52.275335Z",
     "start_time": "2025-01-05T14:02:51.416923Z"
    }
   },
   "cell_type": "code",
   "source": [
    "from src.bimbas_ghmap import query_events, events_to_activities, activity_to_df\n",
    "\n",
    "import important_features as rabbit_features"
   ],
   "id": "374fefaa15f30726",
   "outputs": [],
   "execution_count": 1
  },
  {
   "metadata": {},
   "cell_type": "markdown",
   "source": "# 1 - Extracting activities",
   "id": "245ef1a1f6be91e1"
  },
  {
   "metadata": {},
   "cell_type": "markdown",
   "source": [
    "## 1.1 - Setup the variables\n",
    "We need the api key and the user name to extract the activities."
   ],
   "id": "a7d3ea15c99d8c8"
  },
  {
   "metadata": {
    "ExecuteTime": {
     "end_time": "2025-01-05T14:02:52.281121Z",
     "start_time": "2025-01-05T14:02:52.278858Z"
    }
   },
   "cell_type": "code",
   "source": [
    "API_KEY = None # Set KEY\n",
    "USER = 'robodoo'"
   ],
   "id": "7f96f7d9f96c9a75",
   "outputs": [],
   "execution_count": 2
  },
  {
   "metadata": {},
   "cell_type": "markdown",
   "source": [
    "## 1.2 - Get the raw events from the user\n",
    "By default, `ghmap` needs raw github events to extract the activities."
   ],
   "id": "f21467c0c0219e68"
  },
  {
   "metadata": {
    "ExecuteTime": {
     "end_time": "2025-01-05T14:02:53.690703Z",
     "start_time": "2025-01-05T14:02:52.365752Z"
    }
   },
   "cell_type": "code",
   "source": [
    "raw_events = query_events(USER, API_KEY)\n",
    "raw_events[-1]"
   ],
   "id": "4dfdb897c04488fd",
   "outputs": [
    {
     "data": {
      "text/plain": [
       "{'id': '45243062685',\n",
       " 'type': 'IssueCommentEvent',\n",
       " 'actor': {'id': 16837285,\n",
       "  'login': 'robodoo',\n",
       "  'display_login': 'robodoo',\n",
       "  'gravatar_id': '',\n",
       "  'url': 'https://api.github.com/users/robodoo',\n",
       "  'avatar_url': 'https://avatars.githubusercontent.com/u/16837285?'},\n",
       " 'repo': {'id': 19745004,\n",
       "  'name': 'odoo/odoo',\n",
       "  'url': 'https://api.github.com/repos/odoo/odoo'},\n",
       " 'payload': {'action': 'created',\n",
       "  'issue': {'url': 'https://api.github.com/repos/odoo/odoo/issues/192391',\n",
       "   'repository_url': 'https://api.github.com/repos/odoo/odoo',\n",
       "   'labels_url': 'https://api.github.com/repos/odoo/odoo/issues/192391/labels{/name}',\n",
       "   'comments_url': 'https://api.github.com/repos/odoo/odoo/issues/192391/comments',\n",
       "   'events_url': 'https://api.github.com/repos/odoo/odoo/issues/192391/events',\n",
       "   'html_url': 'https://github.com/odoo/odoo/pull/192391',\n",
       "   'id': 2767897765,\n",
       "   'node_id': 'PR_kwDOAS1I7M6Gremp',\n",
       "   'number': 192391,\n",
       "   'title': '[FW][REV] l10n_cl: create EDI document for credit note (code 61)',\n",
       "   'user': {'login': 'fw-bot',\n",
       "    'id': 54940324,\n",
       "    'node_id': 'MDQ6VXNlcjU0OTQwMzI0',\n",
       "    'avatar_url': 'https://avatars.githubusercontent.com/u/54940324?v=4',\n",
       "    'gravatar_id': '',\n",
       "    'url': 'https://api.github.com/users/fw-bot',\n",
       "    'html_url': 'https://github.com/fw-bot',\n",
       "    'followers_url': 'https://api.github.com/users/fw-bot/followers',\n",
       "    'following_url': 'https://api.github.com/users/fw-bot/following{/other_user}',\n",
       "    'gists_url': 'https://api.github.com/users/fw-bot/gists{/gist_id}',\n",
       "    'starred_url': 'https://api.github.com/users/fw-bot/starred{/owner}{/repo}',\n",
       "    'subscriptions_url': 'https://api.github.com/users/fw-bot/subscriptions',\n",
       "    'organizations_url': 'https://api.github.com/users/fw-bot/orgs',\n",
       "    'repos_url': 'https://api.github.com/users/fw-bot/repos',\n",
       "    'events_url': 'https://api.github.com/users/fw-bot/events{/privacy}',\n",
       "    'received_events_url': 'https://api.github.com/users/fw-bot/received_events',\n",
       "    'type': 'User',\n",
       "    'user_view_type': 'public',\n",
       "    'site_admin': False},\n",
       "   'labels': [{'id': 1614941445,\n",
       "     'node_id': 'MDU6TGFiZWwxNjE0OTQxNDQ1',\n",
       "     'url': 'https://api.github.com/repos/odoo/odoo/labels/forwardport',\n",
       "     'name': 'forwardport',\n",
       "     'color': 'a4fcde',\n",
       "     'default': False,\n",
       "     'description': 'This PR was created by @fw-bot'}],\n",
       "   'state': 'open',\n",
       "   'locked': False,\n",
       "   'assignee': None,\n",
       "   'assignees': [],\n",
       "   'milestone': None,\n",
       "   'comments': 2,\n",
       "   'created_at': '2025-01-03T17:04:19Z',\n",
       "   'updated_at': '2025-01-03T17:04:21Z',\n",
       "   'closed_at': None,\n",
       "   'author_association': 'CONTRIBUTOR',\n",
       "   'active_lock_reason': None,\n",
       "   'draft': False,\n",
       "   'pull_request': {'url': 'https://api.github.com/repos/odoo/odoo/pulls/192391',\n",
       "    'html_url': 'https://github.com/odoo/odoo/pull/192391',\n",
       "    'diff_url': 'https://github.com/odoo/odoo/pull/192391.diff',\n",
       "    'patch_url': 'https://github.com/odoo/odoo/pull/192391.patch',\n",
       "    'merged_at': None},\n",
       "   'body': \"This reverts commit ff3702651a30fd7a6ee3007988df953dda911e41 \\r\\nAfter which customer credit notes share the sequence with supplier credit notes.\\r\\n\\r\\nSteps to reproduce:\\r\\n\\r\\n- Open Vendor Bills journal and enable 'Use Documents?'\\r\\n- Create a Bill with document type '(46) Factura de Compra Electrónica'\\r\\n- Create the credit note\\r\\n- In the Wizard: select 'Full Refund', Document Type 61, Confirm\\r\\n- Document name will be 'N/C 000001'\\r\\n- Now create an invoice with document type '(33) Factura Electrónica'\\r\\n- Add a credit note for the invoice\\r\\n\\r\\nIssue: Credit note name will be 'N/C 000002' but sequences should be unique for move type\\r\\n\\r\\nopw-4268371\\n\\nForward-Port-Of: odoo/odoo#192285\",\n",
       "   'reactions': {'url': 'https://api.github.com/repos/odoo/odoo/issues/192391/reactions',\n",
       "    'total_count': 0,\n",
       "    '+1': 0,\n",
       "    '-1': 0,\n",
       "    'laugh': 0,\n",
       "    'hooray': 0,\n",
       "    'confused': 0,\n",
       "    'heart': 0,\n",
       "    'rocket': 0,\n",
       "    'eyes': 0},\n",
       "   'timeline_url': 'https://api.github.com/repos/odoo/odoo/issues/192391/timeline',\n",
       "   'performed_via_github_app': None,\n",
       "   'state_reason': None},\n",
       "  'comment': {'url': 'https://api.github.com/repos/odoo/odoo/issues/comments/2569548640',\n",
       "   'html_url': 'https://github.com/odoo/odoo/pull/192391#issuecomment-2569548640',\n",
       "   'issue_url': 'https://api.github.com/repos/odoo/odoo/issues/192391',\n",
       "   'id': 2569548640,\n",
       "   'node_id': 'IC_kwDOAS1I7M6ZKDNg',\n",
       "   'user': {'login': 'robodoo',\n",
       "    'id': 16837285,\n",
       "    'node_id': 'MDQ6VXNlcjE2ODM3Mjg1',\n",
       "    'avatar_url': 'https://avatars.githubusercontent.com/u/16837285?v=4',\n",
       "    'gravatar_id': '',\n",
       "    'url': 'https://api.github.com/users/robodoo',\n",
       "    'html_url': 'https://github.com/robodoo',\n",
       "    'followers_url': 'https://api.github.com/users/robodoo/followers',\n",
       "    'following_url': 'https://api.github.com/users/robodoo/following{/other_user}',\n",
       "    'gists_url': 'https://api.github.com/users/robodoo/gists{/gist_id}',\n",
       "    'starred_url': 'https://api.github.com/users/robodoo/starred{/owner}{/repo}',\n",
       "    'subscriptions_url': 'https://api.github.com/users/robodoo/subscriptions',\n",
       "    'organizations_url': 'https://api.github.com/users/robodoo/orgs',\n",
       "    'repos_url': 'https://api.github.com/users/robodoo/repos',\n",
       "    'events_url': 'https://api.github.com/users/robodoo/events{/privacy}',\n",
       "    'received_events_url': 'https://api.github.com/users/robodoo/received_events',\n",
       "    'type': 'User',\n",
       "    'user_view_type': 'public',\n",
       "    'site_admin': False},\n",
       "   'created_at': '2025-01-03T17:04:20Z',\n",
       "   'updated_at': '2025-01-03T17:04:20Z',\n",
       "   'author_association': 'CONTRIBUTOR',\n",
       "   'body': '[![Pull request status dashboard](https://mergebot.odoo.com/odoo/odoo/pull/192391.png)](https://mergebot.odoo.com/odoo/odoo/pull/192391)',\n",
       "   'reactions': {'url': 'https://api.github.com/repos/odoo/odoo/issues/comments/2569548640/reactions',\n",
       "    'total_count': 0,\n",
       "    '+1': 0,\n",
       "    '-1': 0,\n",
       "    'laugh': 0,\n",
       "    'hooray': 0,\n",
       "    'confused': 0,\n",
       "    'heart': 0,\n",
       "    'rocket': 0,\n",
       "    'eyes': 0},\n",
       "   'performed_via_github_app': None}},\n",
       " 'public': True,\n",
       " 'created_at': '2025-01-03T17:04:22Z',\n",
       " 'org': {'id': 6368483,\n",
       "  'login': 'odoo',\n",
       "  'gravatar_id': '',\n",
       "  'url': 'https://api.github.com/orgs/odoo',\n",
       "  'avatar_url': 'https://avatars.githubusercontent.com/u/6368483?'}}"
      ]
     },
     "execution_count": 3,
     "metadata": {},
     "output_type": "execute_result"
    }
   ],
   "execution_count": 3
  },
  {
   "metadata": {},
   "cell_type": "markdown",
   "source": [
    "## 1.3 - Extract the activities\n",
    "We can now use ghmap to extract the activities from the raw events."
   ],
   "id": "90bebdb09da61094"
  },
  {
   "metadata": {
    "ExecuteTime": {
     "end_time": "2025-01-05T14:02:53.742815Z",
     "start_time": "2025-01-05T14:02:53.701806Z"
    }
   },
   "cell_type": "code",
   "source": "activities = events_to_activities(raw_events)",
   "id": "92f3098d72a21cb9",
   "outputs": [
    {
     "name": "stderr",
     "output_type": "stream",
     "text": [
      "Mapping events to actions: 100%|██████████| 243/243 [00:00<00:00, 19301.87event/s]\n",
      "Mapping actions to activities: 100%|██████████| 4/4 [00:00<00:00, 276.74group/s]\n"
     ]
    }
   ],
   "execution_count": 4
  },
  {
   "metadata": {
    "ExecuteTime": {
     "end_time": "2025-01-05T14:02:53.777327Z",
     "start_time": "2025-01-05T14:02:53.774669Z"
    }
   },
   "cell_type": "code",
   "source": "print(activities[-1])",
   "id": "e14d44488f05d5f",
   "outputs": [
    {
     "name": "stdout",
     "output_type": "stream",
     "text": [
      "{'activity': 'CommentPullRequest', 'start_date': '2025-01-05T05:37:27Z', 'end_date': '2025-01-05T05:37:27Z', 'actor': {'id': 16837285, 'login': 'robodoo'}, 'repository': {'id': 19745004, 'name': 'odoo/odoo', 'organisation': 'odoo', 'organisation_id': 6368483}, 'actions': [{'action': 'CreatePullRequestComment', 'event_id': '45266197403', 'date': '2025-01-05T05:37:27Z', 'details': {'pull_request': {'id': 2769124955, 'number': 192434, 'title': '[FIX] hr_timesheet_attendance: fix the timezone related issue', 'state': 'open', 'author': {'id': 24606113, 'login': 'ppr-odoo'}, 'labels': [], 'created_date': '2025-01-05T05:37:22Z', 'updated_date': '2025-01-05T05:37:27Z', 'closed_date': None, 'merged_date': None}, 'comment': {'id': 2571509387, 'position': 1}}}]}\n"
     ]
    }
   ],
   "execution_count": 5
  },
  {
   "metadata": {},
   "cell_type": "markdown",
   "source": [
    "# 2 - Extracting features\n",
    "Now, we can extract the features used by BIMBAS model.\n",
    "The features are devided in 2 groups :\n",
    "- **a** : Counting metrics\n",
    "- **b** : Aggregated metrics (mean, std, median, IQR, gini)\n",
    "\n"
   ],
   "id": "1384d0bffeb6da79"
  },
  {
   "metadata": {},
   "cell_type": "markdown",
   "source": [
    "## 2.1 - Convert to a DataFrame compatible with RABBIT\n",
    "RABBIT needs a DataFrame with the columns 'date', 'activity', 'contributor' and 'repository'.\n"
   ],
   "id": "af6b52d1c504157f"
  },
  {
   "metadata": {
    "ExecuteTime": {
     "end_time": "2025-01-05T14:02:53.908979Z",
     "start_time": "2025-01-05T14:02:53.826423Z"
    }
   },
   "cell_type": "code",
   "source": [
    "df = activity_to_df(activities)\n",
    "display(df)"
   ],
   "id": "e0c0c5adb8bd8cc0",
   "outputs": [
    {
     "data": {
      "text/plain": [
       "                   date            activity contributor          repository\n",
       "0   2025-01-03 17:04:22  CommentPullRequest     robodoo           odoo/odoo\n",
       "1   2025-01-03 17:12:47         PushCommits     robodoo           odoo/odoo\n",
       "2   2025-01-03 17:12:50         PushCommits     robodoo           odoo/odoo\n",
       "3   2025-01-03 17:12:56    ClosePullRequest     robodoo           odoo/odoo\n",
       "4   2025-01-03 17:13:01         PushCommits     robodoo           odoo/odoo\n",
       "..                  ...                 ...         ...                 ...\n",
       "223 2025-01-04 18:42:12         PushCommits     robodoo           odoo/odoo\n",
       "224 2025-01-04 18:42:17         PushCommits     robodoo  odoo/design-themes\n",
       "225 2025-01-04 18:42:18         PushCommits     robodoo  odoo/documentation\n",
       "226 2025-01-04 19:58:42  CommentPullRequest     robodoo           odoo/odoo\n",
       "227 2025-01-05 05:37:27  CommentPullRequest     robodoo           odoo/odoo\n",
       "\n",
       "[228 rows x 4 columns]"
      ],
      "text/html": [
       "<div>\n",
       "<style scoped>\n",
       "    .dataframe tbody tr th:only-of-type {\n",
       "        vertical-align: middle;\n",
       "    }\n",
       "\n",
       "    .dataframe tbody tr th {\n",
       "        vertical-align: top;\n",
       "    }\n",
       "\n",
       "    .dataframe thead th {\n",
       "        text-align: right;\n",
       "    }\n",
       "</style>\n",
       "<table border=\"1\" class=\"dataframe\">\n",
       "  <thead>\n",
       "    <tr style=\"text-align: right;\">\n",
       "      <th></th>\n",
       "      <th>date</th>\n",
       "      <th>activity</th>\n",
       "      <th>contributor</th>\n",
       "      <th>repository</th>\n",
       "    </tr>\n",
       "  </thead>\n",
       "  <tbody>\n",
       "    <tr>\n",
       "      <th>0</th>\n",
       "      <td>2025-01-03 17:04:22</td>\n",
       "      <td>CommentPullRequest</td>\n",
       "      <td>robodoo</td>\n",
       "      <td>odoo/odoo</td>\n",
       "    </tr>\n",
       "    <tr>\n",
       "      <th>1</th>\n",
       "      <td>2025-01-03 17:12:47</td>\n",
       "      <td>PushCommits</td>\n",
       "      <td>robodoo</td>\n",
       "      <td>odoo/odoo</td>\n",
       "    </tr>\n",
       "    <tr>\n",
       "      <th>2</th>\n",
       "      <td>2025-01-03 17:12:50</td>\n",
       "      <td>PushCommits</td>\n",
       "      <td>robodoo</td>\n",
       "      <td>odoo/odoo</td>\n",
       "    </tr>\n",
       "    <tr>\n",
       "      <th>3</th>\n",
       "      <td>2025-01-03 17:12:56</td>\n",
       "      <td>ClosePullRequest</td>\n",
       "      <td>robodoo</td>\n",
       "      <td>odoo/odoo</td>\n",
       "    </tr>\n",
       "    <tr>\n",
       "      <th>4</th>\n",
       "      <td>2025-01-03 17:13:01</td>\n",
       "      <td>PushCommits</td>\n",
       "      <td>robodoo</td>\n",
       "      <td>odoo/odoo</td>\n",
       "    </tr>\n",
       "    <tr>\n",
       "      <th>...</th>\n",
       "      <td>...</td>\n",
       "      <td>...</td>\n",
       "      <td>...</td>\n",
       "      <td>...</td>\n",
       "    </tr>\n",
       "    <tr>\n",
       "      <th>223</th>\n",
       "      <td>2025-01-04 18:42:12</td>\n",
       "      <td>PushCommits</td>\n",
       "      <td>robodoo</td>\n",
       "      <td>odoo/odoo</td>\n",
       "    </tr>\n",
       "    <tr>\n",
       "      <th>224</th>\n",
       "      <td>2025-01-04 18:42:17</td>\n",
       "      <td>PushCommits</td>\n",
       "      <td>robodoo</td>\n",
       "      <td>odoo/design-themes</td>\n",
       "    </tr>\n",
       "    <tr>\n",
       "      <th>225</th>\n",
       "      <td>2025-01-04 18:42:18</td>\n",
       "      <td>PushCommits</td>\n",
       "      <td>robodoo</td>\n",
       "      <td>odoo/documentation</td>\n",
       "    </tr>\n",
       "    <tr>\n",
       "      <th>226</th>\n",
       "      <td>2025-01-04 19:58:42</td>\n",
       "      <td>CommentPullRequest</td>\n",
       "      <td>robodoo</td>\n",
       "      <td>odoo/odoo</td>\n",
       "    </tr>\n",
       "    <tr>\n",
       "      <th>227</th>\n",
       "      <td>2025-01-05 05:37:27</td>\n",
       "      <td>CommentPullRequest</td>\n",
       "      <td>robodoo</td>\n",
       "      <td>odoo/odoo</td>\n",
       "    </tr>\n",
       "  </tbody>\n",
       "</table>\n",
       "<p>228 rows × 4 columns</p>\n",
       "</div>"
      ]
     },
     "metadata": {},
     "output_type": "display_data"
    }
   ],
   "execution_count": 6
  },
  {
   "metadata": {},
   "cell_type": "markdown",
   "source": [
    "## 2.2 - Extract the features\n",
    "Since we have the DataFrame, we can now extract the features using RABBIT extractor."
   ],
   "id": "3e9c9c4f39bfda8c"
  },
  {
   "metadata": {
    "ExecuteTime": {
     "end_time": "2025-01-05T14:02:54.038494Z",
     "start_time": "2025-01-05T14:02:53.952038Z"
    }
   },
   "cell_type": "code",
   "source": [
    "df_feat = (\n",
    "    rabbit_features.extract_features(df)\n",
    "    .set_index([[USER]]) # Set the row index to the username\n",
    ")\n",
    "display(df_feat)"
   ],
   "id": "f21e3d181629279f",
   "outputs": [
    {
     "data": {
      "text/plain": [
       "          NA  NT  NOR   ORR  DCA_mean  DCA_median  DCA_std  DCA_gini  \\\n",
       "robodoo  228   3    1  0.25     0.161       0.002    0.819      0.93   \n",
       "\n",
       "         NAR_mean  NAR_median  ...  DCAT_mean  DCAT_median  DCAT_std  \\\n",
       "robodoo      57.0        37.5  ...      0.178        0.002     0.732   \n",
       "\n",
       "         DCAT_gini  DCAT_IQR  NAT_mean  NAT_median  NAT_std  NAT_gini  NAT_IQR  \n",
       "robodoo      0.914     0.031      76.0        50.0   49.427     0.257     44.0  \n",
       "\n",
       "[1 rows x 38 columns]"
      ],
      "text/html": [
       "<div>\n",
       "<style scoped>\n",
       "    .dataframe tbody tr th:only-of-type {\n",
       "        vertical-align: middle;\n",
       "    }\n",
       "\n",
       "    .dataframe tbody tr th {\n",
       "        vertical-align: top;\n",
       "    }\n",
       "\n",
       "    .dataframe thead th {\n",
       "        text-align: right;\n",
       "    }\n",
       "</style>\n",
       "<table border=\"1\" class=\"dataframe\">\n",
       "  <thead>\n",
       "    <tr style=\"text-align: right;\">\n",
       "      <th></th>\n",
       "      <th>NA</th>\n",
       "      <th>NT</th>\n",
       "      <th>NOR</th>\n",
       "      <th>ORR</th>\n",
       "      <th>DCA_mean</th>\n",
       "      <th>DCA_median</th>\n",
       "      <th>DCA_std</th>\n",
       "      <th>DCA_gini</th>\n",
       "      <th>NAR_mean</th>\n",
       "      <th>NAR_median</th>\n",
       "      <th>...</th>\n",
       "      <th>DCAT_mean</th>\n",
       "      <th>DCAT_median</th>\n",
       "      <th>DCAT_std</th>\n",
       "      <th>DCAT_gini</th>\n",
       "      <th>DCAT_IQR</th>\n",
       "      <th>NAT_mean</th>\n",
       "      <th>NAT_median</th>\n",
       "      <th>NAT_std</th>\n",
       "      <th>NAT_gini</th>\n",
       "      <th>NAT_IQR</th>\n",
       "    </tr>\n",
       "  </thead>\n",
       "  <tbody>\n",
       "    <tr>\n",
       "      <th>robodoo</th>\n",
       "      <td>228</td>\n",
       "      <td>3</td>\n",
       "      <td>1</td>\n",
       "      <td>0.25</td>\n",
       "      <td>0.161</td>\n",
       "      <td>0.002</td>\n",
       "      <td>0.819</td>\n",
       "      <td>0.93</td>\n",
       "      <td>57.0</td>\n",
       "      <td>37.5</td>\n",
       "      <td>...</td>\n",
       "      <td>0.178</td>\n",
       "      <td>0.002</td>\n",
       "      <td>0.732</td>\n",
       "      <td>0.914</td>\n",
       "      <td>0.031</td>\n",
       "      <td>76.0</td>\n",
       "      <td>50.0</td>\n",
       "      <td>49.427</td>\n",
       "      <td>0.257</td>\n",
       "      <td>44.0</td>\n",
       "    </tr>\n",
       "  </tbody>\n",
       "</table>\n",
       "<p>1 rows × 38 columns</p>\n",
       "</div>"
      ]
     },
     "metadata": {},
     "output_type": "display_data"
    }
   ],
   "execution_count": 7
  },
  {
   "metadata": {},
   "cell_type": "markdown",
   "source": [
    "# 3 - Predict if the user is a bot or not\n",
    "We can now use the BIMBAS model to predict if the user is a bot or not."
   ],
   "id": "e636305b799d609b"
  },
  {
   "metadata": {
    "ExecuteTime": {
     "end_time": "2025-01-05T14:02:54.086479Z",
     "start_time": "2025-01-05T14:02:54.068658Z"
    }
   },
   "cell_type": "code",
   "source": [
    "from rabbit import get_model, compute_confidence\n",
    "import warnings\n",
    "\n",
    "model = get_model()\n",
    "with warnings.catch_warnings():\n",
    "    warnings.simplefilter(\"ignore\", category=UserWarning)\n",
    "    proba = model.predict_proba(df_feat)\n",
    "contributor_type, confidence = compute_confidence(proba[0][1])\n",
    "print(f\"{USER} is a {contributor_type} with a confidence of {confidence:}\")\n"
   ],
   "id": "73180a3cbe7805",
   "outputs": [
    {
     "name": "stdout",
     "output_type": "stream",
     "text": [
      "robodoo is a Bot with a confidence of 0.947\n"
     ]
    }
   ],
   "execution_count": 8
  }
 ],
 "metadata": {
  "kernelspec": {
   "display_name": "Python 3",
   "language": "python",
   "name": "python3"
  },
  "language_info": {
   "codemirror_mode": {
    "name": "ipython",
    "version": 2
   },
   "file_extension": ".py",
   "mimetype": "text/x-python",
   "name": "python",
   "nbconvert_exporter": "python",
   "pygments_lexer": "ipython2",
   "version": "2.7.6"
  }
 },
 "nbformat": 4,
 "nbformat_minor": 5
}
