{
 "cells": [
  {
   "metadata": {},
   "cell_type": "markdown",
   "source": [
    "# Rabbit with ghmap\n",
    "This notebook is a test notebook to extract activities of a GH user using the `ghmap` package and then extract features used by the `rabbit` package."
   ],
   "id": "614e1dd8fe63c8b"
  },
  {
   "metadata": {
    "ExecuteTime": {
     "end_time": "2025-01-07T17:11:23.301396Z",
     "start_time": "2025-01-07T17:11:22.519361Z"
    }
   },
   "cell_type": "code",
   "source": [
    "from src.bimbas_ghmap import query_events, events_to_activities, activity_to_df, extract_features\n",
    "\n",
    "import important_features as rabbit_features"
   ],
   "id": "374fefaa15f30726",
   "outputs": [],
   "execution_count": 1
  },
  {
   "metadata": {},
   "cell_type": "markdown",
   "source": "# 1 - Extracting activities",
   "id": "245ef1a1f6be91e1"
  },
  {
   "metadata": {},
   "cell_type": "markdown",
   "source": [
    "## 1.1 - Setup the variables\n",
    "We need the api key and the user name to extract the activities."
   ],
   "id": "a7d3ea15c99d8c8"
  },
  {
   "metadata": {
    "ExecuteTime": {
     "end_time": "2025-01-07T17:11:23.309436Z",
     "start_time": "2025-01-07T17:11:23.306394Z"
    }
   },
   "cell_type": "code",
   "source": [
    "API_KEY = None # Set KEY\n",
    "USER = 'robodoo'"
   ],
   "id": "7f96f7d9f96c9a75",
   "outputs": [],
   "execution_count": 2
  },
  {
   "metadata": {},
   "cell_type": "markdown",
   "source": [
    "## 1.2 - Get the raw events from the user\n",
    "By default, `ghmap` needs raw github events to extract the activities."
   ],
   "id": "f21467c0c0219e68"
  },
  {
   "metadata": {
    "ExecuteTime": {
     "end_time": "2025-01-07T17:11:23.936024Z",
     "start_time": "2025-01-07T17:11:23.400875Z"
    }
   },
   "cell_type": "code",
   "source": [
    "raw_events = query_events(USER, API_KEY)\n",
    "raw_events[-1]"
   ],
   "id": "4dfdb897c04488fd",
   "outputs": [
    {
     "data": {
      "text/plain": [
       "{'id': '45325080089',\n",
       " 'type': 'PushEvent',\n",
       " 'actor': {'id': 16837285,\n",
       "  'login': 'robodoo',\n",
       "  'display_login': 'robodoo',\n",
       "  'gravatar_id': '',\n",
       "  'url': 'https://api.github.com/users/robodoo',\n",
       "  'avatar_url': 'https://avatars.githubusercontent.com/u/16837285?'},\n",
       " 'repo': {'id': 362812569,\n",
       "  'name': 'odoo/design-themes',\n",
       "  'url': 'https://api.github.com/repos/odoo/design-themes'},\n",
       " 'payload': {'repository_id': 362812569,\n",
       "  'push_id': 22005571039,\n",
       "  'size': 1,\n",
       "  'distinct_size': 1,\n",
       "  'ref': 'refs/heads/staging.saas-17.4',\n",
       "  'head': 'fd82a5d0ae99d3dbc20b5ec3102fa7a65538c92d',\n",
       "  'before': '7e723f257eeff9f97f3fa142d9961a53d735698d',\n",
       "  'commits': [{'sha': 'fd82a5d0ae99d3dbc20b5ec3102fa7a65538c92d',\n",
       "    'author': {'email': 'robodoo@odoo.com', 'name': \"Odoo's Mergebot\"},\n",
       "    'message': 'force rebuild\\n\\nuniquifier: nRnFriC1VpIMoiqE\\nFor-Commit-Id: b36b9076cc6e63442a3c8952ce0c6d8f7810602e',\n",
       "    'distinct': True,\n",
       "    'url': 'https://api.github.com/repos/odoo/design-themes/commits/fd82a5d0ae99d3dbc20b5ec3102fa7a65538c92d'}]},\n",
       " 'public': True,\n",
       " 'created_at': '2025-01-07T11:09:02Z',\n",
       " 'org': {'id': 6368483,\n",
       "  'login': 'odoo',\n",
       "  'gravatar_id': '',\n",
       "  'url': 'https://api.github.com/orgs/odoo',\n",
       "  'avatar_url': 'https://avatars.githubusercontent.com/u/6368483?'}}"
      ]
     },
     "execution_count": 3,
     "metadata": {},
     "output_type": "execute_result"
    }
   ],
   "execution_count": 3
  },
  {
   "metadata": {},
   "cell_type": "markdown",
   "source": [
    "## 1.3 - Extract the activities\n",
    "We can now use ghmap to extract the activities from the raw events."
   ],
   "id": "90bebdb09da61094"
  },
  {
   "metadata": {
    "ExecuteTime": {
     "end_time": "2025-01-07T17:11:23.979591Z",
     "start_time": "2025-01-07T17:11:23.941818Z"
    }
   },
   "cell_type": "code",
   "source": "activities = events_to_activities(raw_events)",
   "id": "92f3098d72a21cb9",
   "outputs": [
    {
     "name": "stderr",
     "output_type": "stream",
     "text": [
      "Mapping events to actions: 100%|██████████| 232/232 [00:00<00:00, 15689.50event/s]\n",
      "Mapping actions to activities: 100%|██████████| 7/7 [00:00<00:00, 430.51group/s]\n"
     ]
    }
   ],
   "execution_count": 4
  },
  {
   "metadata": {
    "ExecuteTime": {
     "end_time": "2025-01-07T17:11:23.991907Z",
     "start_time": "2025-01-07T17:11:23.989635Z"
    }
   },
   "cell_type": "code",
   "source": "print(activities[-1])",
   "id": "e14d44488f05d5f",
   "outputs": [
    {
     "name": "stdout",
     "output_type": "stream",
     "text": [
      "{'activity': 'PushCommits', 'start_date': '2025-01-07T14:29:34Z', 'end_date': '2025-01-07T14:29:34Z', 'actor': {'id': 16837285, 'login': 'robodoo'}, 'repository': {'id': 19745004, 'name': 'odoo/odoo', 'organisation': 'odoo', 'organisation_id': 6368483}, 'actions': [{'action': 'PushCommits', 'event_id': '45331739632', 'date': '2025-01-07T14:29:34Z', 'details': {'push': {'id': 22008910634, 'ref': 'refs/heads/staging.17.0', 'commits': 3}}}]}\n"
     ]
    }
   ],
   "execution_count": 5
  },
  {
   "metadata": {},
   "cell_type": "markdown",
   "source": [
    "# 2 - Extracting features\n",
    "Now, we can extract the features used by BIMBAS model.\n",
    "The features are devided in 2 groups :\n",
    "- **a** : Counting metrics\n",
    "- **b** : Aggregated metrics (mean, std, median, IQR, gini)\n",
    "\n"
   ],
   "id": "1384d0bffeb6da79"
  },
  {
   "metadata": {},
   "cell_type": "markdown",
   "source": [
    "## 2.1 - Convert to a DataFrame compatible with RABBIT\n",
    "RABBIT needs a DataFrame with the columns 'date', 'activity', 'contributor' and 'repository'.\n"
   ],
   "id": "af6b52d1c504157f"
  },
  {
   "metadata": {
    "ExecuteTime": {
     "end_time": "2025-01-07T17:11:24.109902Z",
     "start_time": "2025-01-07T17:11:24.038039Z"
    }
   },
   "cell_type": "code",
   "source": [
    "df = activity_to_df(activities)\n",
    "display(df)"
   ],
   "id": "e0c0c5adb8bd8cc0",
   "outputs": [
    {
     "data": {
      "text/plain": [
       "                   date            activity contributor          repository\n",
       "0   2025-01-07 11:09:02         PushCommits     robodoo  odoo/design-themes\n",
       "1   2025-01-07 11:09:04         PushCommits     robodoo  odoo/documentation\n",
       "2   2025-01-07 11:09:15  CommentPullRequest     robodoo           odoo/odoo\n",
       "3   2025-01-07 11:09:32  CommentPullRequest     robodoo           odoo/odoo\n",
       "4   2025-01-07 11:09:46  CommentPullRequest     robodoo           odoo/odoo\n",
       "..                  ...                 ...         ...                 ...\n",
       "205 2025-01-07 14:28:59         PushCommits     robodoo           odoo/odoo\n",
       "206 2025-01-07 14:29:07  CommentPullRequest     robodoo           odoo/odoo\n",
       "207 2025-01-07 14:29:32         PushCommits     robodoo  odoo/design-themes\n",
       "208 2025-01-07 14:29:32         PushCommits     robodoo  odoo/documentation\n",
       "209 2025-01-07 14:29:34         PushCommits     robodoo           odoo/odoo\n",
       "\n",
       "[210 rows x 4 columns]"
      ],
      "text/html": [
       "<div>\n",
       "<style scoped>\n",
       "    .dataframe tbody tr th:only-of-type {\n",
       "        vertical-align: middle;\n",
       "    }\n",
       "\n",
       "    .dataframe tbody tr th {\n",
       "        vertical-align: top;\n",
       "    }\n",
       "\n",
       "    .dataframe thead th {\n",
       "        text-align: right;\n",
       "    }\n",
       "</style>\n",
       "<table border=\"1\" class=\"dataframe\">\n",
       "  <thead>\n",
       "    <tr style=\"text-align: right;\">\n",
       "      <th></th>\n",
       "      <th>date</th>\n",
       "      <th>activity</th>\n",
       "      <th>contributor</th>\n",
       "      <th>repository</th>\n",
       "    </tr>\n",
       "  </thead>\n",
       "  <tbody>\n",
       "    <tr>\n",
       "      <th>0</th>\n",
       "      <td>2025-01-07 11:09:02</td>\n",
       "      <td>PushCommits</td>\n",
       "      <td>robodoo</td>\n",
       "      <td>odoo/design-themes</td>\n",
       "    </tr>\n",
       "    <tr>\n",
       "      <th>1</th>\n",
       "      <td>2025-01-07 11:09:04</td>\n",
       "      <td>PushCommits</td>\n",
       "      <td>robodoo</td>\n",
       "      <td>odoo/documentation</td>\n",
       "    </tr>\n",
       "    <tr>\n",
       "      <th>2</th>\n",
       "      <td>2025-01-07 11:09:15</td>\n",
       "      <td>CommentPullRequest</td>\n",
       "      <td>robodoo</td>\n",
       "      <td>odoo/odoo</td>\n",
       "    </tr>\n",
       "    <tr>\n",
       "      <th>3</th>\n",
       "      <td>2025-01-07 11:09:32</td>\n",
       "      <td>CommentPullRequest</td>\n",
       "      <td>robodoo</td>\n",
       "      <td>odoo/odoo</td>\n",
       "    </tr>\n",
       "    <tr>\n",
       "      <th>4</th>\n",
       "      <td>2025-01-07 11:09:46</td>\n",
       "      <td>CommentPullRequest</td>\n",
       "      <td>robodoo</td>\n",
       "      <td>odoo/odoo</td>\n",
       "    </tr>\n",
       "    <tr>\n",
       "      <th>...</th>\n",
       "      <td>...</td>\n",
       "      <td>...</td>\n",
       "      <td>...</td>\n",
       "      <td>...</td>\n",
       "    </tr>\n",
       "    <tr>\n",
       "      <th>205</th>\n",
       "      <td>2025-01-07 14:28:59</td>\n",
       "      <td>PushCommits</td>\n",
       "      <td>robodoo</td>\n",
       "      <td>odoo/odoo</td>\n",
       "    </tr>\n",
       "    <tr>\n",
       "      <th>206</th>\n",
       "      <td>2025-01-07 14:29:07</td>\n",
       "      <td>CommentPullRequest</td>\n",
       "      <td>robodoo</td>\n",
       "      <td>odoo/odoo</td>\n",
       "    </tr>\n",
       "    <tr>\n",
       "      <th>207</th>\n",
       "      <td>2025-01-07 14:29:32</td>\n",
       "      <td>PushCommits</td>\n",
       "      <td>robodoo</td>\n",
       "      <td>odoo/design-themes</td>\n",
       "    </tr>\n",
       "    <tr>\n",
       "      <th>208</th>\n",
       "      <td>2025-01-07 14:29:32</td>\n",
       "      <td>PushCommits</td>\n",
       "      <td>robodoo</td>\n",
       "      <td>odoo/documentation</td>\n",
       "    </tr>\n",
       "    <tr>\n",
       "      <th>209</th>\n",
       "      <td>2025-01-07 14:29:34</td>\n",
       "      <td>PushCommits</td>\n",
       "      <td>robodoo</td>\n",
       "      <td>odoo/odoo</td>\n",
       "    </tr>\n",
       "  </tbody>\n",
       "</table>\n",
       "<p>210 rows × 4 columns</p>\n",
       "</div>"
      ]
     },
     "metadata": {},
     "output_type": "display_data"
    }
   ],
   "execution_count": 6
  },
  {
   "metadata": {},
   "cell_type": "markdown",
   "source": [
    "## 2.2 - Extract the features\n",
    "Since we have the DataFrame, we can now extract the features using RABBIT extractor."
   ],
   "id": "3e9c9c4f39bfda8c"
  },
  {
   "metadata": {
    "ExecuteTime": {
     "end_time": "2025-01-07T17:11:24.220525Z",
     "start_time": "2025-01-07T17:11:24.153135Z"
    }
   },
   "cell_type": "code",
   "source": [
    "df_feat = extract_features(df, USER)\n",
    "display(df_feat)"
   ],
   "id": "f21e3d181629279f",
   "outputs": [
    {
     "data": {
      "text/plain": [
       "          NA  NT  NOR    ORR  DCA_mean  DCA_median  DCA_std  DCA_gini  \\\n",
       "robodoo  210   3    2  0.286     0.016       0.002    0.037     0.791   \n",
       "\n",
       "         DCA_IQR  NAR_mean  ...  DCAT_mean  DCAT_median  DCAT_std  DCAT_gini  \\\n",
       "robodoo    0.007      30.0  ...      0.015        0.002     0.033      0.775   \n",
       "\n",
       "         DCAT_IQR  NAT_mean  NAT_median  NAT_std  NAT_gini  NAT_IQR  \n",
       "robodoo      0.01      70.0        74.0   15.395     0.095     15.0  \n",
       "\n",
       "[1 rows x 44 columns]"
      ],
      "text/html": [
       "<div>\n",
       "<style scoped>\n",
       "    .dataframe tbody tr th:only-of-type {\n",
       "        vertical-align: middle;\n",
       "    }\n",
       "\n",
       "    .dataframe tbody tr th {\n",
       "        vertical-align: top;\n",
       "    }\n",
       "\n",
       "    .dataframe thead th {\n",
       "        text-align: right;\n",
       "    }\n",
       "</style>\n",
       "<table border=\"1\" class=\"dataframe\">\n",
       "  <thead>\n",
       "    <tr style=\"text-align: right;\">\n",
       "      <th></th>\n",
       "      <th>NA</th>\n",
       "      <th>NT</th>\n",
       "      <th>NOR</th>\n",
       "      <th>ORR</th>\n",
       "      <th>DCA_mean</th>\n",
       "      <th>DCA_median</th>\n",
       "      <th>DCA_std</th>\n",
       "      <th>DCA_gini</th>\n",
       "      <th>DCA_IQR</th>\n",
       "      <th>NAR_mean</th>\n",
       "      <th>...</th>\n",
       "      <th>DCAT_mean</th>\n",
       "      <th>DCAT_median</th>\n",
       "      <th>DCAT_std</th>\n",
       "      <th>DCAT_gini</th>\n",
       "      <th>DCAT_IQR</th>\n",
       "      <th>NAT_mean</th>\n",
       "      <th>NAT_median</th>\n",
       "      <th>NAT_std</th>\n",
       "      <th>NAT_gini</th>\n",
       "      <th>NAT_IQR</th>\n",
       "    </tr>\n",
       "  </thead>\n",
       "  <tbody>\n",
       "    <tr>\n",
       "      <th>robodoo</th>\n",
       "      <td>210</td>\n",
       "      <td>3</td>\n",
       "      <td>2</td>\n",
       "      <td>0.286</td>\n",
       "      <td>0.016</td>\n",
       "      <td>0.002</td>\n",
       "      <td>0.037</td>\n",
       "      <td>0.791</td>\n",
       "      <td>0.007</td>\n",
       "      <td>30.0</td>\n",
       "      <td>...</td>\n",
       "      <td>0.015</td>\n",
       "      <td>0.002</td>\n",
       "      <td>0.033</td>\n",
       "      <td>0.775</td>\n",
       "      <td>0.01</td>\n",
       "      <td>70.0</td>\n",
       "      <td>74.0</td>\n",
       "      <td>15.395</td>\n",
       "      <td>0.095</td>\n",
       "      <td>15.0</td>\n",
       "    </tr>\n",
       "  </tbody>\n",
       "</table>\n",
       "<p>1 rows × 44 columns</p>\n",
       "</div>"
      ]
     },
     "metadata": {},
     "output_type": "display_data"
    }
   ],
   "execution_count": 7
  },
  {
   "metadata": {},
   "cell_type": "markdown",
   "source": [
    "# 3 - Predict if the user is a bot or not\n",
    "We can now use the BIMBAS model to predict if the user is a bot or not."
   ],
   "id": "e636305b799d609b"
  },
  {
   "metadata": {
    "ExecuteTime": {
     "end_time": "2025-01-07T17:11:24.254126Z",
     "start_time": "2025-01-07T17:11:24.233683Z"
    }
   },
   "cell_type": "code",
   "source": [
    "from rabbit import get_model, compute_confidence\n",
    "import warnings\n",
    "\n",
    "model = get_model()\n",
    "with warnings.catch_warnings():\n",
    "    warnings.simplefilter(\"ignore\", category=UserWarning)\n",
    "    proba = model.predict_proba(df_feat)\n",
    "contributor_type, confidence = compute_confidence(proba[0][1])\n",
    "print(f\"{USER} is a {contributor_type} with a confidence of {confidence:}\")\n"
   ],
   "id": "73180a3cbe7805",
   "outputs": [
    {
     "name": "stdout",
     "output_type": "stream",
     "text": [
      "robodoo is a Bot with a confidence of 0.936\n"
     ]
    }
   ],
   "execution_count": 8
  }
 ],
 "metadata": {
  "kernelspec": {
   "display_name": "Python 3",
   "language": "python",
   "name": "python3"
  },
  "language_info": {
   "codemirror_mode": {
    "name": "ipython",
    "version": 2
   },
   "file_extension": ".py",
   "mimetype": "text/x-python",
   "name": "python",
   "nbconvert_exporter": "python",
   "pygments_lexer": "ipython2",
   "version": "2.7.6"
  }
 },
 "nbformat": 4,
 "nbformat_minor": 5
}
