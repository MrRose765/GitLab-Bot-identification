{
 "cells": [
  {
   "metadata": {},
   "cell_type": "markdown",
   "source": [
    "# Test model\n",
    "This notebook is used to load the test features and predict the labels and confidence using the trained model.\n",
    "The labels are then saved in a csv file. (Its name is defined in the constant `PRED_FILE`).\n",
    "\n",
    "Finally, the predictions will be evaluated and saved in the evaluation file with the given NAME as index.\n",
    "\n",
    "Parameters :\n",
    "- MODEL_NAME : the name of the model to load\n",
    "- FEATURES_FILE : the name of the csv containing the features of bimbas\n",
    "- PRED_FILE : the name of the file to save the predictions (Set None if you don't want to save the predictions)\n",
    "- EVAL_FILE : the name of the csv to save the evaluation\n",
    "- NAME : the name of the evaluation (used as index in the evaluation file)\n",
    "\n",
    "We will compare the predictions made with the real labels and compute the following metrics:\n",
    "- recall\n",
    "- precision\n",
    "- weighted f1-score\n",
    "- accuracy\n",
    "- roc-auc\n",
    "- num_contributors\n",
    "- tn_fp_fn_tp"
   ],
   "id": "3b0d1d2c5a937a46"
  },
  {
   "cell_type": "code",
   "id": "initial_id",
   "metadata": {
    "collapsed": true,
    "ExecuteTime": {
     "end_time": "2025-03-04T20:18:34.967916Z",
     "start_time": "2025-03-04T20:18:34.852562Z"
    }
   },
   "source": [
    "import joblib\n",
    "import pandas as pd\n",
    "\n",
    "from sklearn.metrics import confusion_matrix, classification_report\n",
    "from sklearn.metrics import roc_auc_score\n"
   ],
   "outputs": [],
   "execution_count": 1
  },
  {
   "metadata": {
    "ExecuteTime": {
     "end_time": "2025-03-04T20:18:36.455135Z",
     "start_time": "2025-03-04T20:18:36.452097Z"
    }
   },
   "cell_type": "code",
   "source": [
    "RESOURCE_FOLDER = '../resources'\n",
    "DATA_FOLDER = f'{RESOURCE_FOLDER}/data'\n",
    "MODEL_FOLDER = f'{RESOURCE_FOLDER}/models'\n",
    "EVAL_FOLDER = f'{RESOURCE_FOLDER}/evals'\n",
    "\n",
    "FEATURES_FILE = 'new-rbmap_features.csv'\n",
    "MODEL_NAME = 'bimbas.joblib'\n",
    "\n",
    "PRED_FILE = 'bimbas-rbmap_predictions.csv'\n",
    "EVAL_FILE = 'evaluation.csv'\n",
    "NAME = 'BIMBAS' # Name for the line in the evaluation file\n",
    "MAPPING_NAME = 'rbmap' # Name of the mapping used in the evaluation\n",
    "\n",
    "RAND_SEED = 42"
   ],
   "id": "a540ee7c291da10e",
   "outputs": [],
   "execution_count": 2
  },
  {
   "metadata": {},
   "cell_type": "markdown",
   "source": "# 1 - Load features and labels",
   "id": "23cfd24e3f378b26"
  },
  {
   "metadata": {
    "ExecuteTime": {
     "end_time": "2025-03-04T20:18:38.542190Z",
     "start_time": "2025-03-04T20:18:37.979765Z"
    }
   },
   "cell_type": "code",
   "source": [
    "df_test = pd.read_csv(f\"{DATA_FOLDER}/{FEATURES_FILE}\")\n",
    "df_test.set_index('contributor', inplace=True)\n",
    "df_test = df_test[df_test['dataset'] == 'test']\n",
    "df_test.drop(columns=['dataset'], inplace=True)\n",
    "\n",
    "df_test['label'].value_counts().plot(kind='bar')\n",
    "display(df_test.head())"
   ],
   "id": "96ee5ba1fc98d00f",
   "outputs": [
    {
     "data": {
      "text/plain": [
       "                label   NA  NT  NR  NOR    ORR  NAR_mean  NAR_median  NAR_std  \\\n",
       "contributor                                                                     \n",
       "otc-zuul[bot]     Bot  262   5  51    4  0.078     5.137         4.0    4.176   \n",
       "ljharb          Human  261  15  86   31  0.360     3.035         2.0    2.936   \n",
       "juancarlospaco  Human  288  12  41   18  0.439     7.024         3.0    9.467   \n",
       "tldr-bot          Bot  300   1   1    1  1.000   300.000       300.0    0.000   \n",
       "jakirkham       Human  249  12  73   15  0.205     3.411         2.0    3.586   \n",
       "\n",
       "                NAR_gini  ...  DCA_mean  DCA_median  DCA_std  DCA_gini  \\\n",
       "contributor               ...                                            \n",
       "otc-zuul[bot]      0.272  ...     2.403       0.001   20.251     0.968   \n",
       "ljharb             0.459  ...     0.792       0.056    2.782     0.872   \n",
       "juancarlospaco     0.611  ...     5.434       0.111   18.885     0.906   \n",
       "tldr-bot           0.000  ...     4.677       0.423    8.779     0.767   \n",
       "jakirkham          0.466  ...     2.176       0.053   23.197     0.959   \n",
       "\n",
       "                DCA_IQR  DCAT_mean  DCAT_median  DCAT_std  DCAT_gini  DCAT_IQR  \n",
       "contributor                                                                     \n",
       "otc-zuul[bot]     0.021      2.420        0.001    20.444      0.969     0.019  \n",
       "ljharb            0.325      1.000        0.056     3.294      0.870     0.349  \n",
       "juancarlospaco    0.966      5.816        0.109    19.073      0.888     1.331  \n",
       "tldr-bot          5.849        NaN          NaN     0.000      0.000       NaN  \n",
       "jakirkham         0.224      3.205        0.060    29.383      0.963     0.263  \n",
       "\n",
       "[5 rows x 46 columns]"
      ],
      "text/html": [
       "<div>\n",
       "<style scoped>\n",
       "    .dataframe tbody tr th:only-of-type {\n",
       "        vertical-align: middle;\n",
       "    }\n",
       "\n",
       "    .dataframe tbody tr th {\n",
       "        vertical-align: top;\n",
       "    }\n",
       "\n",
       "    .dataframe thead th {\n",
       "        text-align: right;\n",
       "    }\n",
       "</style>\n",
       "<table border=\"1\" class=\"dataframe\">\n",
       "  <thead>\n",
       "    <tr style=\"text-align: right;\">\n",
       "      <th></th>\n",
       "      <th>label</th>\n",
       "      <th>NA</th>\n",
       "      <th>NT</th>\n",
       "      <th>NR</th>\n",
       "      <th>NOR</th>\n",
       "      <th>ORR</th>\n",
       "      <th>NAR_mean</th>\n",
       "      <th>NAR_median</th>\n",
       "      <th>NAR_std</th>\n",
       "      <th>NAR_gini</th>\n",
       "      <th>...</th>\n",
       "      <th>DCA_mean</th>\n",
       "      <th>DCA_median</th>\n",
       "      <th>DCA_std</th>\n",
       "      <th>DCA_gini</th>\n",
       "      <th>DCA_IQR</th>\n",
       "      <th>DCAT_mean</th>\n",
       "      <th>DCAT_median</th>\n",
       "      <th>DCAT_std</th>\n",
       "      <th>DCAT_gini</th>\n",
       "      <th>DCAT_IQR</th>\n",
       "    </tr>\n",
       "    <tr>\n",
       "      <th>contributor</th>\n",
       "      <th></th>\n",
       "      <th></th>\n",
       "      <th></th>\n",
       "      <th></th>\n",
       "      <th></th>\n",
       "      <th></th>\n",
       "      <th></th>\n",
       "      <th></th>\n",
       "      <th></th>\n",
       "      <th></th>\n",
       "      <th></th>\n",
       "      <th></th>\n",
       "      <th></th>\n",
       "      <th></th>\n",
       "      <th></th>\n",
       "      <th></th>\n",
       "      <th></th>\n",
       "      <th></th>\n",
       "      <th></th>\n",
       "      <th></th>\n",
       "      <th></th>\n",
       "    </tr>\n",
       "  </thead>\n",
       "  <tbody>\n",
       "    <tr>\n",
       "      <th>otc-zuul[bot]</th>\n",
       "      <td>Bot</td>\n",
       "      <td>262</td>\n",
       "      <td>5</td>\n",
       "      <td>51</td>\n",
       "      <td>4</td>\n",
       "      <td>0.078</td>\n",
       "      <td>5.137</td>\n",
       "      <td>4.0</td>\n",
       "      <td>4.176</td>\n",
       "      <td>0.272</td>\n",
       "      <td>...</td>\n",
       "      <td>2.403</td>\n",
       "      <td>0.001</td>\n",
       "      <td>20.251</td>\n",
       "      <td>0.968</td>\n",
       "      <td>0.021</td>\n",
       "      <td>2.420</td>\n",
       "      <td>0.001</td>\n",
       "      <td>20.444</td>\n",
       "      <td>0.969</td>\n",
       "      <td>0.019</td>\n",
       "    </tr>\n",
       "    <tr>\n",
       "      <th>ljharb</th>\n",
       "      <td>Human</td>\n",
       "      <td>261</td>\n",
       "      <td>15</td>\n",
       "      <td>86</td>\n",
       "      <td>31</td>\n",
       "      <td>0.360</td>\n",
       "      <td>3.035</td>\n",
       "      <td>2.0</td>\n",
       "      <td>2.936</td>\n",
       "      <td>0.459</td>\n",
       "      <td>...</td>\n",
       "      <td>0.792</td>\n",
       "      <td>0.056</td>\n",
       "      <td>2.782</td>\n",
       "      <td>0.872</td>\n",
       "      <td>0.325</td>\n",
       "      <td>1.000</td>\n",
       "      <td>0.056</td>\n",
       "      <td>3.294</td>\n",
       "      <td>0.870</td>\n",
       "      <td>0.349</td>\n",
       "    </tr>\n",
       "    <tr>\n",
       "      <th>juancarlospaco</th>\n",
       "      <td>Human</td>\n",
       "      <td>288</td>\n",
       "      <td>12</td>\n",
       "      <td>41</td>\n",
       "      <td>18</td>\n",
       "      <td>0.439</td>\n",
       "      <td>7.024</td>\n",
       "      <td>3.0</td>\n",
       "      <td>9.467</td>\n",
       "      <td>0.611</td>\n",
       "      <td>...</td>\n",
       "      <td>5.434</td>\n",
       "      <td>0.111</td>\n",
       "      <td>18.885</td>\n",
       "      <td>0.906</td>\n",
       "      <td>0.966</td>\n",
       "      <td>5.816</td>\n",
       "      <td>0.109</td>\n",
       "      <td>19.073</td>\n",
       "      <td>0.888</td>\n",
       "      <td>1.331</td>\n",
       "    </tr>\n",
       "    <tr>\n",
       "      <th>tldr-bot</th>\n",
       "      <td>Bot</td>\n",
       "      <td>300</td>\n",
       "      <td>1</td>\n",
       "      <td>1</td>\n",
       "      <td>1</td>\n",
       "      <td>1.000</td>\n",
       "      <td>300.000</td>\n",
       "      <td>300.0</td>\n",
       "      <td>0.000</td>\n",
       "      <td>0.000</td>\n",
       "      <td>...</td>\n",
       "      <td>4.677</td>\n",
       "      <td>0.423</td>\n",
       "      <td>8.779</td>\n",
       "      <td>0.767</td>\n",
       "      <td>5.849</td>\n",
       "      <td>NaN</td>\n",
       "      <td>NaN</td>\n",
       "      <td>0.000</td>\n",
       "      <td>0.000</td>\n",
       "      <td>NaN</td>\n",
       "    </tr>\n",
       "    <tr>\n",
       "      <th>jakirkham</th>\n",
       "      <td>Human</td>\n",
       "      <td>249</td>\n",
       "      <td>12</td>\n",
       "      <td>73</td>\n",
       "      <td>15</td>\n",
       "      <td>0.205</td>\n",
       "      <td>3.411</td>\n",
       "      <td>2.0</td>\n",
       "      <td>3.586</td>\n",
       "      <td>0.466</td>\n",
       "      <td>...</td>\n",
       "      <td>2.176</td>\n",
       "      <td>0.053</td>\n",
       "      <td>23.197</td>\n",
       "      <td>0.959</td>\n",
       "      <td>0.224</td>\n",
       "      <td>3.205</td>\n",
       "      <td>0.060</td>\n",
       "      <td>29.383</td>\n",
       "      <td>0.963</td>\n",
       "      <td>0.263</td>\n",
       "    </tr>\n",
       "  </tbody>\n",
       "</table>\n",
       "<p>5 rows × 46 columns</p>\n",
       "</div>"
      ]
     },
     "metadata": {},
     "output_type": "display_data"
    },
    {
     "data": {
      "text/plain": [
       "<Figure size 640x480 with 1 Axes>"
      ],
      "image/png": "[encoded data removed]"
     },
     "metadata": {},
     "output_type": "display_data"
    }
   ],
   "execution_count": 3
  },
  {
   "metadata": {
    "ExecuteTime": {
     "end_time": "2025-03-04T20:18:40.667118Z",
     "start_time": "2025-03-04T20:18:40.657033Z"
    }
   },
   "cell_type": "code",
   "source": [
    "df_label = df_test.copy()\n",
    "df_label = df_label[['label']]\n",
    "display(df_label.head())\n",
    "\n",
    "df_test.drop(columns=['label'], inplace=True)"
   ],
   "id": "f27825feb5b7f92e",
   "outputs": [
    {
     "data": {
      "text/plain": [
       "                label\n",
       "contributor          \n",
       "otc-zuul[bot]     Bot\n",
       "ljharb          Human\n",
       "juancarlospaco  Human\n",
       "tldr-bot          Bot\n",
       "jakirkham       Human"
      ],
      "text/html": [
       "<div>\n",
       "<style scoped>\n",
       "    .dataframe tbody tr th:only-of-type {\n",
       "        vertical-align: middle;\n",
       "    }\n",
       "\n",
       "    .dataframe tbody tr th {\n",
       "        vertical-align: top;\n",
       "    }\n",
       "\n",
       "    .dataframe thead th {\n",
       "        text-align: right;\n",
       "    }\n",
       "</style>\n",
       "<table border=\"1\" class=\"dataframe\">\n",
       "  <thead>\n",
       "    <tr style=\"text-align: right;\">\n",
       "      <th></th>\n",
       "      <th>label</th>\n",
       "    </tr>\n",
       "    <tr>\n",
       "      <th>contributor</th>\n",
       "      <th></th>\n",
       "    </tr>\n",
       "  </thead>\n",
       "  <tbody>\n",
       "    <tr>\n",
       "      <th>otc-zuul[bot]</th>\n",
       "      <td>Bot</td>\n",
       "    </tr>\n",
       "    <tr>\n",
       "      <th>ljharb</th>\n",
       "      <td>Human</td>\n",
       "    </tr>\n",
       "    <tr>\n",
       "      <th>juancarlospaco</th>\n",
       "      <td>Human</td>\n",
       "    </tr>\n",
       "    <tr>\n",
       "      <th>tldr-bot</th>\n",
       "      <td>Bot</td>\n",
       "    </tr>\n",
       "    <tr>\n",
       "      <th>jakirkham</th>\n",
       "      <td>Human</td>\n",
       "    </tr>\n",
       "  </tbody>\n",
       "</table>\n",
       "</div>"
      ]
     },
     "metadata": {},
     "output_type": "display_data"
    }
   ],
   "execution_count": 4
  },
  {
   "metadata": {},
   "cell_type": "markdown",
   "source": "# 2 - Load the model",
   "id": "487280741408d176"
  },
  {
   "metadata": {
    "ExecuteTime": {
     "end_time": "2025-03-04T20:18:42.504902Z",
     "start_time": "2025-03-04T20:18:42.363110Z"
    }
   },
   "cell_type": "code",
   "source": "model = joblib.load(f\"{MODEL_FOLDER}/{MODEL_NAME}\")",
   "id": "6a4b490edf72d046",
   "outputs": [],
   "execution_count": 5
  },
  {
   "metadata": {},
   "cell_type": "markdown",
   "source": "# 3 - Predict the labels",
   "id": "6e2b59ca54d17a5"
  },
  {
   "metadata": {
    "ExecuteTime": {
     "end_time": "2025-03-04T20:18:44.593773Z",
     "start_time": "2025-03-04T20:18:44.110173Z"
    }
   },
   "cell_type": "code",
   "source": [
    "from rabbit import compute_confidence\n",
    "import warnings\n",
    "\n",
    "\n",
    "def predict(features, model):\n",
    "    with warnings.catch_warnings():\n",
    "        warnings.simplefilter(\"ignore\", category=UserWarning)\n",
    "        proba = model.predict_proba(features)\n",
    "    return compute_confidence(proba[0][1])"
   ],
   "id": "3d833819378b5f3d",
   "outputs": [],
   "execution_count": 6
  },
  {
   "metadata": {
    "ExecuteTime": {
     "end_time": "2025-03-04T20:18:49.701585Z",
     "start_time": "2025-03-04T20:18:46.519282Z"
    }
   },
   "cell_type": "code",
   "source": [
    "# Create a df with 4 column but with the \"contributor\" column as index\n",
    "df_prediction = pd.DataFrame(columns=['true_bot', 'predicted_bot'])\n",
    "df_prediction = df_prediction.astype(int)\n",
    "\n",
    "for contributor in df_test.index:\n",
    "    true_bot = df_label.loc[contributor, 'label']\n",
    "    y_prediction, confidence = predict(df_test.loc[[contributor]], model)\n",
    "    new_row = pd.DataFrame([{\n",
    "        'contributor': contributor,\n",
    "        'true_bot': true_bot,\n",
    "        'predicted_bot': y_prediction,\n",
    "        'confidence': confidence\n",
    "    }])\n",
    "    # Set true_bot and predicted_bot as int\n",
    "    new_row.set_index('contributor', inplace=True)\n",
    "    df_prediction = pd.concat([df_prediction, new_row], ignore_index=False)\n",
    "\n",
    "df_prediction.index.name = 'contributor'\n",
    "display(df_prediction)"
   ],
   "id": "17601c03e1cc473d",
   "outputs": [
    {
     "data": {
      "text/plain": [
       "               true_bot predicted_bot  confidence\n",
       "contributor                                      \n",
       "otc-zuul[bot]       Bot           Bot       0.861\n",
       "ljharb            Human         Human       0.907\n",
       "juancarlospaco    Human         Human       0.899\n",
       "tldr-bot            Bot           Bot       0.925\n",
       "jakirkham         Human         Human       0.925\n",
       "...                 ...           ...         ...\n",
       "mmstick           Human         Human       0.934\n",
       "asyncapi-bot        Bot         Human       0.831\n",
       "jeffgbutler       Human         Human       0.881\n",
       "mariusvniekerk    Human         Human       0.861\n",
       "team-k8s-bot        Bot         Human       0.916\n",
       "\n",
       "[763 rows x 3 columns]"
      ],
      "text/html": [
       "<div>\n",
       "<style scoped>\n",
       "    .dataframe tbody tr th:only-of-type {\n",
       "        vertical-align: middle;\n",
       "    }\n",
       "\n",
       "    .dataframe tbody tr th {\n",
       "        vertical-align: top;\n",
       "    }\n",
       "\n",
       "    .dataframe thead th {\n",
       "        text-align: right;\n",
       "    }\n",
       "</style>\n",
       "<table border=\"1\" class=\"dataframe\">\n",
       "  <thead>\n",
       "    <tr style=\"text-align: right;\">\n",
       "      <th></th>\n",
       "      <th>true_bot</th>\n",
       "      <th>predicted_bot</th>\n",
       "      <th>confidence</th>\n",
       "    </tr>\n",
       "    <tr>\n",
       "      <th>contributor</th>\n",
       "      <th></th>\n",
       "      <th></th>\n",
       "      <th></th>\n",
       "    </tr>\n",
       "  </thead>\n",
       "  <tbody>\n",
       "    <tr>\n",
       "      <th>otc-zuul[bot]</th>\n",
       "      <td>Bot</td>\n",
       "      <td>Bot</td>\n",
       "      <td>0.861</td>\n",
       "    </tr>\n",
       "    <tr>\n",
       "      <th>ljharb</th>\n",
       "      <td>Human</td>\n",
       "      <td>Human</td>\n",
       "      <td>0.907</td>\n",
       "    </tr>\n",
       "    <tr>\n",
       "      <th>juancarlospaco</th>\n",
       "      <td>Human</td>\n",
       "      <td>Human</td>\n",
       "      <td>0.899</td>\n",
       "    </tr>\n",
       "    <tr>\n",
       "      <th>tldr-bot</th>\n",
       "      <td>Bot</td>\n",
       "      <td>Bot</td>\n",
       "      <td>0.925</td>\n",
       "    </tr>\n",
       "    <tr>\n",
       "      <th>jakirkham</th>\n",
       "      <td>Human</td>\n",
       "      <td>Human</td>\n",
       "      <td>0.925</td>\n",
       "    </tr>\n",
       "    <tr>\n",
       "      <th>...</th>\n",
       "      <td>...</td>\n",
       "      <td>...</td>\n",
       "      <td>...</td>\n",
       "    </tr>\n",
       "    <tr>\n",
       "      <th>mmstick</th>\n",
       "      <td>Human</td>\n",
       "      <td>Human</td>\n",
       "      <td>0.934</td>\n",
       "    </tr>\n",
       "    <tr>\n",
       "      <th>asyncapi-bot</th>\n",
       "      <td>Bot</td>\n",
       "      <td>Human</td>\n",
       "      <td>0.831</td>\n",
       "    </tr>\n",
       "    <tr>\n",
       "      <th>jeffgbutler</th>\n",
       "      <td>Human</td>\n",
       "      <td>Human</td>\n",
       "      <td>0.881</td>\n",
       "    </tr>\n",
       "    <tr>\n",
       "      <th>mariusvniekerk</th>\n",
       "      <td>Human</td>\n",
       "      <td>Human</td>\n",
       "      <td>0.861</td>\n",
       "    </tr>\n",
       "    <tr>\n",
       "      <th>team-k8s-bot</th>\n",
       "      <td>Bot</td>\n",
       "      <td>Human</td>\n",
       "      <td>0.916</td>\n",
       "    </tr>\n",
       "  </tbody>\n",
       "</table>\n",
       "<p>763 rows × 3 columns</p>\n",
       "</div>"
      ]
     },
     "metadata": {},
     "output_type": "display_data"
    }
   ],
   "execution_count": 7
  },
  {
   "metadata": {},
   "cell_type": "markdown",
   "source": "# 4 - Save the predictions",
   "id": "bf780422cbd66485"
  },
  {
   "metadata": {
    "ExecuteTime": {
     "end_time": "2025-01-21T16:21:05.506862Z",
     "start_time": "2025-01-21T16:21:05.502897Z"
    }
   },
   "cell_type": "code",
   "source": [
    "if PRED_FILE:\n",
    "    df_prediction.to_csv(f\"{EVAL_FOLDER}/{PRED_FILE}\", index=True)\n",
    "else:\n",
    "    print(\"No file to save the predictions\")"
   ],
   "id": "5690f1d4b8ebde3c",
   "outputs": [],
   "execution_count": 32
  },
  {
   "metadata": {},
   "cell_type": "markdown",
   "source": "# 5 - Evaluate the predictions",
   "id": "35801994948c2a6d"
  },
  {
   "metadata": {},
   "cell_type": "markdown",
   "source": "## 5.1 - Define the metrics",
   "id": "a306c8488d1cf3d5"
  },
  {
   "metadata": {
    "ExecuteTime": {
     "end_time": "2025-03-04T20:18:58.586415Z",
     "start_time": "2025-03-04T20:18:58.572176Z"
    }
   },
   "cell_type": "code",
   "source": [
    "def evaluate_model(y_pred, y_true, target_names):\n",
    "    \"\"\"\n",
    "    Compute the classification metrics and return them as a DataFrame. The accuracy is also returned.\n",
    "    :return: report_df and the accuracy.\n",
    "    \"\"\"\n",
    "    report = classification_report(y_true, y_pred, target_names=target_names, output_dict=True)\n",
    "    return {\n",
    "        'precision': [report['weighted avg']['precision']],\n",
    "        'bot_precision': [report['Bot']['precision']],\n",
    "        'human_precision': [report['Human']['precision']],\n",
    "        'recall': [report['weighted avg']['recall']],\n",
    "        'bot_recall': [report['Bot']['recall']],\n",
    "        'human_recall': [report['Human']['recall']],\n",
    "        'weighted_f1': [report['weighted avg']['f1-score']],\n",
    "        'accuracy': [report['accuracy']],\n",
    "        'roc_auc': [roc_auc_score(y_true, y_pred)],\n",
    "        'tn_fp_fn_tp': [confusion_matrix(y_true, y_pred).ravel()],\n",
    "        'num_contrib': [df_prediction.index.nunique()],\n",
    "    }"
   ],
   "id": "2acc8764c25a799d",
   "outputs": [],
   "execution_count": 8
  },
  {
   "metadata": {},
   "cell_type": "markdown",
   "source": "## 5.2 - Evaluate the predictions",
   "id": "26817ffa6f68c860"
  },
  {
   "metadata": {
    "ExecuteTime": {
     "end_time": "2025-03-04T20:19:00.395545Z",
     "start_time": "2025-03-04T20:19:00.335919Z"
    }
   },
   "cell_type": "code",
   "source": [
    "contributor_map = {\n",
    "    'Bot': 1,\n",
    "    'Human': 0\n",
    "}\n",
    "\n",
    "df_prediction['predicted_bot'] = df_prediction['predicted_bot'].map(contributor_map)\n",
    "df_prediction['true_bot'] = df_prediction['true_bot'].map(contributor_map)\n",
    "# Set column type to int\n",
    "df_prediction['predicted_bot'] = df_prediction['predicted_bot'].astype(int)\n",
    "df_prediction['true_bot'] = df_prediction['true_bot'].astype(int)\n",
    "\n",
    "y_pred = df_prediction['predicted_bot']\n",
    "y_test = df_prediction['true_bot']\n",
    "\n",
    "\n",
    "\n",
    "performance = pd.DataFrame.from_dict(evaluate_model(y_pred, y_test, ['Human', 'Bot']))\n",
    "performance.index = [NAME]\n",
    "performance['mapping'] = MAPPING_NAME"
   ],
   "id": "8c26010a5416d96b",
   "outputs": [],
   "execution_count": 9
  },
  {
   "metadata": {
    "ExecuteTime": {
     "end_time": "2025-03-04T20:19:02.717616Z",
     "start_time": "2025-03-04T20:19:02.680031Z"
    }
   },
   "cell_type": "code",
   "source": "display(performance)",
   "id": "e86aaa7f812d01e7",
   "outputs": [
    {
     "data": {
      "text/plain": [
       "        precision  bot_precision  human_precision    recall  bot_recall  \\\n",
       "BIMBAS   0.900745       0.912088         0.889724  0.900393    0.882979   \n",
       "\n",
       "        human_recall  weighted_f1  accuracy   roc_auc         tn_fp_fn_tp  \\\n",
       "BIMBAS      0.917313     0.900346  0.900393  0.900146  [355, 32, 44, 332]   \n",
       "\n",
       "        num_contrib mapping  \n",
       "BIMBAS          763   rbmap  "
      ],
      "text/html": [
       "<div>\n",
       "<style scoped>\n",
       "    .dataframe tbody tr th:only-of-type {\n",
       "        vertical-align: middle;\n",
       "    }\n",
       "\n",
       "    .dataframe tbody tr th {\n",
       "        vertical-align: top;\n",
       "    }\n",
       "\n",
       "    .dataframe thead th {\n",
       "        text-align: right;\n",
       "    }\n",
       "</style>\n",
       "<table border=\"1\" class=\"dataframe\">\n",
       "  <thead>\n",
       "    <tr style=\"text-align: right;\">\n",
       "      <th></th>\n",
       "      <th>precision</th>\n",
       "      <th>bot_precision</th>\n",
       "      <th>human_precision</th>\n",
       "      <th>recall</th>\n",
       "      <th>bot_recall</th>\n",
       "      <th>human_recall</th>\n",
       "      <th>weighted_f1</th>\n",
       "      <th>accuracy</th>\n",
       "      <th>roc_auc</th>\n",
       "      <th>tn_fp_fn_tp</th>\n",
       "      <th>num_contrib</th>\n",
       "      <th>mapping</th>\n",
       "    </tr>\n",
       "  </thead>\n",
       "  <tbody>\n",
       "    <tr>\n",
       "      <th>BIMBAS</th>\n",
       "      <td>0.900745</td>\n",
       "      <td>0.912088</td>\n",
       "      <td>0.889724</td>\n",
       "      <td>0.900393</td>\n",
       "      <td>0.882979</td>\n",
       "      <td>0.917313</td>\n",
       "      <td>0.900346</td>\n",
       "      <td>0.900393</td>\n",
       "      <td>0.900146</td>\n",
       "      <td>[355, 32, 44, 332]</td>\n",
       "      <td>763</td>\n",
       "      <td>rbmap</td>\n",
       "    </tr>\n",
       "  </tbody>\n",
       "</table>\n",
       "</div>"
      ]
     },
     "metadata": {},
     "output_type": "display_data"
    }
   ],
   "execution_count": 10
  },
  {
   "metadata": {},
   "cell_type": "markdown",
   "source": "## 5.3 - Save the evaluation",
   "id": "2ee780a8cb5ffe4b"
  },
  {
   "metadata": {
    "ExecuteTime": {
     "end_time": "2025-03-04T20:19:33.370776Z",
     "start_time": "2025-03-04T20:19:33.363170Z"
    }
   },
   "cell_type": "code",
   "source": [
    "# Round the values\n",
    "performance = performance.round(6)"
   ],
   "id": "8295add4e4a60434",
   "outputs": [],
   "execution_count": 11
  },
  {
   "metadata": {
    "ExecuteTime": {
     "end_time": "2025-03-04T20:19:35.942945Z",
     "start_time": "2025-03-04T20:19:35.928108Z"
    }
   },
   "cell_type": "code",
   "source": "df_eval = pd.read_csv(f\"{EVAL_FOLDER}/{EVAL_FILE}\", index_col=0)",
   "id": "4f47241ef00e3c03",
   "outputs": [],
   "execution_count": 12
  },
  {
   "metadata": {
    "ExecuteTime": {
     "end_time": "2025-03-04T20:19:37.748074Z",
     "start_time": "2025-03-04T20:19:37.728860Z"
    }
   },
   "cell_type": "code",
   "source": [
    "# If the evaluation already exists, replace the line\n",
    "if NAME in df_eval.index:\n",
    "    df_eval.drop(index=NAME, inplace=True)\n",
    "df_eval = pd.concat([df_eval, performance], axis=0)\n",
    "df_eval.index.name = 'model'\n",
    "df_eval.to_csv(f\"{EVAL_FOLDER}/{EVAL_FILE}\", index=True)"
   ],
   "id": "2b8f03918ef94d74",
   "outputs": [],
   "execution_count": 13
  }
 ],
 "metadata": {
  "kernelspec": {
   "display_name": "Python 3",
   "language": "python",
   "name": "python3"
  },
  "language_info": {
   "codemirror_mode": {
    "name": "ipython",
    "version": 2
   },
   "file_extension": ".py",
   "mimetype": "text/x-python",
   "name": "python",
   "nbconvert_exporter": "python",
   "pygments_lexer": "ipython2",
   "version": "2.7.6"
  }
 },
 "nbformat": 4,
 "nbformat_minor": 5
}
