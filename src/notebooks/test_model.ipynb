{
 "cells": [
  {
   "metadata": {},
   "cell_type": "markdown",
   "source": [
    "# Test model\n",
    "This notebook is used to load the test features and predict the labels and confidence using the trained model.\n",
    "The labels are then saved in a csv file. (Its name is defined in the constant `PRED_FILE`).\n",
    "\n",
    "Finally, the predictions will be evaluated and saved in the evaluation file with the given NAME as index.\n",
    "\n",
    "Parameters :\n",
    "- MODEL_NAME : the name of the model to load\n",
    "- FEATURES_FILE : the name of the csv containing the features of bimbas\n",
    "- PRED_FILE : the name of the file to save the predictions (Set None if you don't want to save the predictions)\n",
    "- EVAL_FILE : the name of the csv to save the evaluation\n",
    "- NAME : the name of the evaluation (used as index in the evaluation file)\n",
    "\n",
    "We will compare the predictions made with the real labels and compute the following metrics:\n",
    "- recall\n",
    "- precision\n",
    "- weighted f1-score\n",
    "- accuracy\n",
    "- roc-auc\n",
    "- num_contributors\n",
    "- tn_fp_fn_tp"
   ],
   "id": "3b0d1d2c5a937a46"
  },
  {
   "cell_type": "code",
   "id": "initial_id",
   "metadata": {
    "collapsed": true,
    "ExecuteTime": {
     "end_time": "2025-05-29T17:32:31.507159Z",
     "start_time": "2025-05-29T17:32:30.447202Z"
    }
   },
   "source": [
    "import joblib\n",
    "import pandas as pd\n",
    "\n",
    "from sklearn.metrics import confusion_matrix, classification_report\n",
    "from sklearn.metrics import roc_auc_score\n"
   ],
   "outputs": [],
   "execution_count": 1
  },
  {
   "metadata": {
    "ExecuteTime": {
     "end_time": "2025-05-29T17:35:35.552795Z",
     "start_time": "2025-05-29T17:35:35.549693Z"
    }
   },
   "cell_type": "code",
   "source": [
    "RESOURCE_FOLDER = '../resources'\n",
    "DATA_FOLDER = f'{RESOURCE_FOLDER}/data/gitlab'\n",
    "MODEL_FOLDER = f'{RESOURCE_FOLDER}/models'\n",
    "EVAL_FOLDER = f'{RESOURCE_FOLDER}/evals'\n",
    "\n",
    "FEATURES_FILE = 'gitlab_glmap_features.csv'\n",
    "MODEL_NAME = 'bimbis.joblib'\n",
    "\n",
    "PRED_FILE = 'bimbis-glmap_predictions.csv'\n",
    "EVAL_FILE = 'evaluation_gitlab.csv'\n",
    "NAME = 'bimbis' # Name for the line in the evaluation file\n",
    "MAPPING_NAME = 'glmap' # Name of the mapping used in the evaluation\n",
    "\n",
    "RAND_SEED = 42"
   ],
   "id": "a540ee7c291da10e",
   "outputs": [],
   "execution_count": 41
  },
  {
   "metadata": {},
   "cell_type": "markdown",
   "source": "# 1 - Load features and labels",
   "id": "23cfd24e3f378b26"
  },
  {
   "metadata": {
    "ExecuteTime": {
     "end_time": "2025-05-29T17:35:35.670747Z",
     "start_time": "2025-05-29T17:35:35.567759Z"
    }
   },
   "cell_type": "code",
   "source": [
    "df_test = pd.read_csv(f\"{DATA_FOLDER}/{FEATURES_FILE}\")\n",
    "df_test.set_index('contributor', inplace=True)\n",
    "df_test = df_test[df_test['dataset'] == 'test']\n",
    "df_test.drop(columns=['dataset'], inplace=True)\n",
    "\n",
    "df_test['label'].value_counts().plot(kind='bar')\n",
    "display(df_test.head())"
   ],
   "id": "96ee5ba1fc98d00f",
   "outputs": [
    {
     "data": {
      "text/plain": [
       "               label origin   NA  NT   NR  NOR    ORR  NAR_mean  NAR_median  \\\n",
       "contributor                                                                   \n",
       "svedova        Human  human  264  12  6.0    5  0.833    44.000         3.5   \n",
       "jarka          Human  human  289   9  4.0    3  0.750    72.250         2.5   \n",
       "jprovaznik     Human  human  265  10  8.0    7  0.875    33.125        13.5   \n",
       "eduardobonet   Human  human  236  11  9.0    9  1.000    26.222         2.0   \n",
       "dmeshcharakou  Human  human  238  10  5.0    4  0.800    47.600         3.0   \n",
       "\n",
       "               NAR_std  ...  DCA_mean  DCA_median  DCA_std  DCA_gini  DCA_IQR  \\\n",
       "contributor             ...                                                     \n",
       "svedova         98.513  ...     2.924       0.047   19.479     0.942    0.394   \n",
       "jarka          140.507  ...     3.770       0.052   27.338     0.938    0.697   \n",
       "jprovaznik      43.341  ...     4.117       0.121   21.330     0.911    1.148   \n",
       "eduardobonet    55.315  ...     4.024       0.125   22.131     0.927    0.729   \n",
       "dmeshcharakou   99.211  ...     1.854       0.131    7.730     0.881    0.719   \n",
       "\n",
       "               DCAT_mean  DCAT_median  DCAT_std  DCAT_gini  DCAT_IQR  \n",
       "contributor                                                           \n",
       "svedova            1.797        0.043     7.444      0.911     0.379  \n",
       "jarka              4.032        0.065    29.618      0.938     0.749  \n",
       "jprovaznik         2.948        0.082     9.843      0.888     1.024  \n",
       "eduardobonet       2.582        0.072    16.171      0.935     0.353  \n",
       "dmeshcharakou      2.105        0.089     8.712      0.897     0.668  \n",
       "\n",
       "[5 rows x 47 columns]"
      ],
      "text/html": [
       "<div>\n",
       "<style scoped>\n",
       "    .dataframe tbody tr th:only-of-type {\n",
       "        vertical-align: middle;\n",
       "    }\n",
       "\n",
       "    .dataframe tbody tr th {\n",
       "        vertical-align: top;\n",
       "    }\n",
       "\n",
       "    .dataframe thead th {\n",
       "        text-align: right;\n",
       "    }\n",
       "</style>\n",
       "<table border=\"1\" class=\"dataframe\">\n",
       "  <thead>\n",
       "    <tr style=\"text-align: right;\">\n",
       "      <th></th>\n",
       "      <th>label</th>\n",
       "      <th>origin</th>\n",
       "      <th>NA</th>\n",
       "      <th>NT</th>\n",
       "      <th>NR</th>\n",
       "      <th>NOR</th>\n",
       "      <th>ORR</th>\n",
       "      <th>NAR_mean</th>\n",
       "      <th>NAR_median</th>\n",
       "      <th>NAR_std</th>\n",
       "      <th>...</th>\n",
       "      <th>DCA_mean</th>\n",
       "      <th>DCA_median</th>\n",
       "      <th>DCA_std</th>\n",
       "      <th>DCA_gini</th>\n",
       "      <th>DCA_IQR</th>\n",
       "      <th>DCAT_mean</th>\n",
       "      <th>DCAT_median</th>\n",
       "      <th>DCAT_std</th>\n",
       "      <th>DCAT_gini</th>\n",
       "      <th>DCAT_IQR</th>\n",
       "    </tr>\n",
       "    <tr>\n",
       "      <th>contributor</th>\n",
       "      <th></th>\n",
       "      <th></th>\n",
       "      <th></th>\n",
       "      <th></th>\n",
       "      <th></th>\n",
       "      <th></th>\n",
       "      <th></th>\n",
       "      <th></th>\n",
       "      <th></th>\n",
       "      <th></th>\n",
       "      <th></th>\n",
       "      <th></th>\n",
       "      <th></th>\n",
       "      <th></th>\n",
       "      <th></th>\n",
       "      <th></th>\n",
       "      <th></th>\n",
       "      <th></th>\n",
       "      <th></th>\n",
       "      <th></th>\n",
       "      <th></th>\n",
       "    </tr>\n",
       "  </thead>\n",
       "  <tbody>\n",
       "    <tr>\n",
       "      <th>svedova</th>\n",
       "      <td>Human</td>\n",
       "      <td>human</td>\n",
       "      <td>264</td>\n",
       "      <td>12</td>\n",
       "      <td>6.0</td>\n",
       "      <td>5</td>\n",
       "      <td>0.833</td>\n",
       "      <td>44.000</td>\n",
       "      <td>3.5</td>\n",
       "      <td>98.513</td>\n",
       "      <td>...</td>\n",
       "      <td>2.924</td>\n",
       "      <td>0.047</td>\n",
       "      <td>19.479</td>\n",
       "      <td>0.942</td>\n",
       "      <td>0.394</td>\n",
       "      <td>1.797</td>\n",
       "      <td>0.043</td>\n",
       "      <td>7.444</td>\n",
       "      <td>0.911</td>\n",
       "      <td>0.379</td>\n",
       "    </tr>\n",
       "    <tr>\n",
       "      <th>jarka</th>\n",
       "      <td>Human</td>\n",
       "      <td>human</td>\n",
       "      <td>289</td>\n",
       "      <td>9</td>\n",
       "      <td>4.0</td>\n",
       "      <td>3</td>\n",
       "      <td>0.750</td>\n",
       "      <td>72.250</td>\n",
       "      <td>2.5</td>\n",
       "      <td>140.507</td>\n",
       "      <td>...</td>\n",
       "      <td>3.770</td>\n",
       "      <td>0.052</td>\n",
       "      <td>27.338</td>\n",
       "      <td>0.938</td>\n",
       "      <td>0.697</td>\n",
       "      <td>4.032</td>\n",
       "      <td>0.065</td>\n",
       "      <td>29.618</td>\n",
       "      <td>0.938</td>\n",
       "      <td>0.749</td>\n",
       "    </tr>\n",
       "    <tr>\n",
       "      <th>jprovaznik</th>\n",
       "      <td>Human</td>\n",
       "      <td>human</td>\n",
       "      <td>265</td>\n",
       "      <td>10</td>\n",
       "      <td>8.0</td>\n",
       "      <td>7</td>\n",
       "      <td>0.875</td>\n",
       "      <td>33.125</td>\n",
       "      <td>13.5</td>\n",
       "      <td>43.341</td>\n",
       "      <td>...</td>\n",
       "      <td>4.117</td>\n",
       "      <td>0.121</td>\n",
       "      <td>21.330</td>\n",
       "      <td>0.911</td>\n",
       "      <td>1.148</td>\n",
       "      <td>2.948</td>\n",
       "      <td>0.082</td>\n",
       "      <td>9.843</td>\n",
       "      <td>0.888</td>\n",
       "      <td>1.024</td>\n",
       "    </tr>\n",
       "    <tr>\n",
       "      <th>eduardobonet</th>\n",
       "      <td>Human</td>\n",
       "      <td>human</td>\n",
       "      <td>236</td>\n",
       "      <td>11</td>\n",
       "      <td>9.0</td>\n",
       "      <td>9</td>\n",
       "      <td>1.000</td>\n",
       "      <td>26.222</td>\n",
       "      <td>2.0</td>\n",
       "      <td>55.315</td>\n",
       "      <td>...</td>\n",
       "      <td>4.024</td>\n",
       "      <td>0.125</td>\n",
       "      <td>22.131</td>\n",
       "      <td>0.927</td>\n",
       "      <td>0.729</td>\n",
       "      <td>2.582</td>\n",
       "      <td>0.072</td>\n",
       "      <td>16.171</td>\n",
       "      <td>0.935</td>\n",
       "      <td>0.353</td>\n",
       "    </tr>\n",
       "    <tr>\n",
       "      <th>dmeshcharakou</th>\n",
       "      <td>Human</td>\n",
       "      <td>human</td>\n",
       "      <td>238</td>\n",
       "      <td>10</td>\n",
       "      <td>5.0</td>\n",
       "      <td>4</td>\n",
       "      <td>0.800</td>\n",
       "      <td>47.600</td>\n",
       "      <td>3.0</td>\n",
       "      <td>99.211</td>\n",
       "      <td>...</td>\n",
       "      <td>1.854</td>\n",
       "      <td>0.131</td>\n",
       "      <td>7.730</td>\n",
       "      <td>0.881</td>\n",
       "      <td>0.719</td>\n",
       "      <td>2.105</td>\n",
       "      <td>0.089</td>\n",
       "      <td>8.712</td>\n",
       "      <td>0.897</td>\n",
       "      <td>0.668</td>\n",
       "    </tr>\n",
       "  </tbody>\n",
       "</table>\n",
       "<p>5 rows × 47 columns</p>\n",
       "</div>"
      ]
     },
     "metadata": {},
     "output_type": "display_data"
    },
    {
     "data": {
      "text/plain": [
       "<Figure size 640x480 with 1 Axes>"
      ],
      "image/png": "[encoded data removed]"
     },
     "metadata": {},
     "output_type": "display_data"
    }
   ],
   "execution_count": 42
  },
  {
   "metadata": {
    "ExecuteTime": {
     "end_time": "2025-05-29T17:35:35.715084Z",
     "start_time": "2025-05-29T17:35:35.706951Z"
    }
   },
   "cell_type": "code",
   "source": [
    "df_label = df_test.copy()\n",
    "df_label = df_label[['label']]\n",
    "display(df_label.head())\n",
    "\n",
    "df_test.drop(columns=['label'], inplace=True)"
   ],
   "id": "f27825feb5b7f92e",
   "outputs": [
    {
     "data": {
      "text/plain": [
       "               label\n",
       "contributor         \n",
       "svedova        Human\n",
       "jarka          Human\n",
       "jprovaznik     Human\n",
       "eduardobonet   Human\n",
       "dmeshcharakou  Human"
      ],
      "text/html": [
       "<div>\n",
       "<style scoped>\n",
       "    .dataframe tbody tr th:only-of-type {\n",
       "        vertical-align: middle;\n",
       "    }\n",
       "\n",
       "    .dataframe tbody tr th {\n",
       "        vertical-align: top;\n",
       "    }\n",
       "\n",
       "    .dataframe thead th {\n",
       "        text-align: right;\n",
       "    }\n",
       "</style>\n",
       "<table border=\"1\" class=\"dataframe\">\n",
       "  <thead>\n",
       "    <tr style=\"text-align: right;\">\n",
       "      <th></th>\n",
       "      <th>label</th>\n",
       "    </tr>\n",
       "    <tr>\n",
       "      <th>contributor</th>\n",
       "      <th></th>\n",
       "    </tr>\n",
       "  </thead>\n",
       "  <tbody>\n",
       "    <tr>\n",
       "      <th>svedova</th>\n",
       "      <td>Human</td>\n",
       "    </tr>\n",
       "    <tr>\n",
       "      <th>jarka</th>\n",
       "      <td>Human</td>\n",
       "    </tr>\n",
       "    <tr>\n",
       "      <th>jprovaznik</th>\n",
       "      <td>Human</td>\n",
       "    </tr>\n",
       "    <tr>\n",
       "      <th>eduardobonet</th>\n",
       "      <td>Human</td>\n",
       "    </tr>\n",
       "    <tr>\n",
       "      <th>dmeshcharakou</th>\n",
       "      <td>Human</td>\n",
       "    </tr>\n",
       "  </tbody>\n",
       "</table>\n",
       "</div>"
      ]
     },
     "metadata": {},
     "output_type": "display_data"
    }
   ],
   "execution_count": 43
  },
  {
   "metadata": {},
   "cell_type": "markdown",
   "source": "# 2 - Load the model",
   "id": "487280741408d176"
  },
  {
   "metadata": {
    "ExecuteTime": {
     "end_time": "2025-05-29T17:35:35.759878Z",
     "start_time": "2025-05-29T17:35:35.751991Z"
    }
   },
   "cell_type": "code",
   "source": "model = joblib.load(f\"{MODEL_FOLDER}/{MODEL_NAME}\")",
   "id": "6a4b490edf72d046",
   "outputs": [],
   "execution_count": 44
  },
  {
   "metadata": {},
   "cell_type": "markdown",
   "source": "# 3 - Predict the labels",
   "id": "6e2b59ca54d17a5"
  },
  {
   "metadata": {
    "ExecuteTime": {
     "end_time": "2025-05-29T17:35:35.824186Z",
     "start_time": "2025-05-29T17:35:35.821275Z"
    }
   },
   "cell_type": "code",
   "source": [
    "from rabbit import compute_confidence\n",
    "import warnings\n",
    "\n",
    "\n",
    "def predict(features, model):\n",
    "    with warnings.catch_warnings():\n",
    "        warnings.simplefilter(\"ignore\", category=UserWarning)\n",
    "        proba = model.predict_proba(features)\n",
    "    return compute_confidence(proba[0][1])"
   ],
   "id": "3d833819378b5f3d",
   "outputs": [],
   "execution_count": 45
  },
  {
   "metadata": {
    "ExecuteTime": {
     "end_time": "2025-05-29T17:35:38.099082Z",
     "start_time": "2025-05-29T17:35:35.881729Z"
    }
   },
   "cell_type": "code",
   "source": [
    "# Create a df with 4 column but with the \"contributor\" column as index\n",
    "df_prediction = pd.DataFrame(columns=['true_bot', 'predicted_bot'])\n",
    "df_prediction = df_prediction.astype(int)\n",
    "\n",
    "for contributor in df_test.index:\n",
    "    true_bot = df_label.loc[contributor, 'label']\n",
    "    y_prediction, confidence = predict(df_test.loc[[contributor]], model)\n",
    "    new_row = pd.DataFrame([{\n",
    "        'contributor': contributor,\n",
    "        'true_bot': true_bot,\n",
    "        'predicted_bot': y_prediction,\n",
    "        'confidence': confidence\n",
    "    }])\n",
    "    # Set true_bot and predicted_bot as int\n",
    "    new_row.set_index('contributor', inplace=True)\n",
    "    df_prediction = pd.concat([df_prediction, new_row], ignore_index=False)\n",
    "\n",
    "df_prediction.index.name = 'contributor'\n",
    "display(df_prediction)"
   ],
   "id": "17601c03e1cc473d",
   "outputs": [
    {
     "data": {
      "text/plain": [
       "                           true_bot predicted_bot  confidence\n",
       "contributor                                                  \n",
       "svedova                       Human         Human       0.922\n",
       "jarka                         Human         Human       0.886\n",
       "jprovaznik                    Human         Human       0.839\n",
       "eduardobonet                  Human         Human       0.941\n",
       "dmeshcharakou                 Human         Human       0.887\n",
       "...                             ...           ...         ...\n",
       "manuel.bottini                Human           Bot       0.236\n",
       "renovate-bot.davinkevin.fr      Bot           Bot       0.821\n",
       "coqbot                          Bot           Bot       0.730\n",
       "mender-test-bot                 Bot           Bot       0.915\n",
       "translatewiki                   Bot           Bot       0.434\n",
       "\n",
       "[573 rows x 3 columns]"
      ],
      "text/html": [
       "<div>\n",
       "<style scoped>\n",
       "    .dataframe tbody tr th:only-of-type {\n",
       "        vertical-align: middle;\n",
       "    }\n",
       "\n",
       "    .dataframe tbody tr th {\n",
       "        vertical-align: top;\n",
       "    }\n",
       "\n",
       "    .dataframe thead th {\n",
       "        text-align: right;\n",
       "    }\n",
       "</style>\n",
       "<table border=\"1\" class=\"dataframe\">\n",
       "  <thead>\n",
       "    <tr style=\"text-align: right;\">\n",
       "      <th></th>\n",
       "      <th>true_bot</th>\n",
       "      <th>predicted_bot</th>\n",
       "      <th>confidence</th>\n",
       "    </tr>\n",
       "    <tr>\n",
       "      <th>contributor</th>\n",
       "      <th></th>\n",
       "      <th></th>\n",
       "      <th></th>\n",
       "    </tr>\n",
       "  </thead>\n",
       "  <tbody>\n",
       "    <tr>\n",
       "      <th>svedova</th>\n",
       "      <td>Human</td>\n",
       "      <td>Human</td>\n",
       "      <td>0.922</td>\n",
       "    </tr>\n",
       "    <tr>\n",
       "      <th>jarka</th>\n",
       "      <td>Human</td>\n",
       "      <td>Human</td>\n",
       "      <td>0.886</td>\n",
       "    </tr>\n",
       "    <tr>\n",
       "      <th>jprovaznik</th>\n",
       "      <td>Human</td>\n",
       "      <td>Human</td>\n",
       "      <td>0.839</td>\n",
       "    </tr>\n",
       "    <tr>\n",
       "      <th>eduardobonet</th>\n",
       "      <td>Human</td>\n",
       "      <td>Human</td>\n",
       "      <td>0.941</td>\n",
       "    </tr>\n",
       "    <tr>\n",
       "      <th>dmeshcharakou</th>\n",
       "      <td>Human</td>\n",
       "      <td>Human</td>\n",
       "      <td>0.887</td>\n",
       "    </tr>\n",
       "    <tr>\n",
       "      <th>...</th>\n",
       "      <td>...</td>\n",
       "      <td>...</td>\n",
       "      <td>...</td>\n",
       "    </tr>\n",
       "    <tr>\n",
       "      <th>manuel.bottini</th>\n",
       "      <td>Human</td>\n",
       "      <td>Bot</td>\n",
       "      <td>0.236</td>\n",
       "    </tr>\n",
       "    <tr>\n",
       "      <th>renovate-bot.davinkevin.fr</th>\n",
       "      <td>Bot</td>\n",
       "      <td>Bot</td>\n",
       "      <td>0.821</td>\n",
       "    </tr>\n",
       "    <tr>\n",
       "      <th>coqbot</th>\n",
       "      <td>Bot</td>\n",
       "      <td>Bot</td>\n",
       "      <td>0.730</td>\n",
       "    </tr>\n",
       "    <tr>\n",
       "      <th>mender-test-bot</th>\n",
       "      <td>Bot</td>\n",
       "      <td>Bot</td>\n",
       "      <td>0.915</td>\n",
       "    </tr>\n",
       "    <tr>\n",
       "      <th>translatewiki</th>\n",
       "      <td>Bot</td>\n",
       "      <td>Bot</td>\n",
       "      <td>0.434</td>\n",
       "    </tr>\n",
       "  </tbody>\n",
       "</table>\n",
       "<p>573 rows × 3 columns</p>\n",
       "</div>"
      ]
     },
     "metadata": {},
     "output_type": "display_data"
    }
   ],
   "execution_count": 46
  },
  {
   "metadata": {},
   "cell_type": "markdown",
   "source": "# 4 - Save the predictions",
   "id": "bf780422cbd66485"
  },
  {
   "metadata": {
    "ExecuteTime": {
     "end_time": "2025-05-29T17:35:38.129619Z",
     "start_time": "2025-05-29T17:35:38.125486Z"
    }
   },
   "cell_type": "code",
   "source": [
    "if PRED_FILE:\n",
    "    df_prediction.to_csv(f\"{EVAL_FOLDER}/{PRED_FILE}\", index=True)\n",
    "else:\n",
    "    print(\"No file to save the predictions\")"
   ],
   "id": "5690f1d4b8ebde3c",
   "outputs": [],
   "execution_count": 47
  },
  {
   "metadata": {},
   "cell_type": "markdown",
   "source": "# 5 - Evaluate the predictions",
   "id": "35801994948c2a6d"
  },
  {
   "metadata": {},
   "cell_type": "markdown",
   "source": "## 5.1 - Define the metrics",
   "id": "a306c8488d1cf3d5"
  },
  {
   "metadata": {
    "ExecuteTime": {
     "end_time": "2025-05-29T17:35:38.203826Z",
     "start_time": "2025-05-29T17:35:38.200794Z"
    }
   },
   "cell_type": "code",
   "source": [
    "def evaluate_model(y_pred, y_true, target_names):\n",
    "    \"\"\"\n",
    "    Compute the classification metrics and return them as a DataFrame. The accuracy is also returned.\n",
    "    :return: report_df and the accuracy.\n",
    "    \"\"\"\n",
    "    report = classification_report(y_true, y_pred, target_names=target_names, output_dict=True)\n",
    "    return {\n",
    "        'precision': [report['weighted avg']['precision']],\n",
    "        'bot_precision': [report['Bot']['precision']],\n",
    "        'human_precision': [report['Human']['precision']],\n",
    "        'recall': [report['weighted avg']['recall']],\n",
    "        'bot_recall': [report['Bot']['recall']],\n",
    "        'human_recall': [report['Human']['recall']],\n",
    "        'weighted_f1': [report['weighted avg']['f1-score']],\n",
    "        'accuracy': [report['accuracy']],\n",
    "        'roc_auc': [roc_auc_score(y_true, y_pred)],\n",
    "        'tn_fp_fn_tp': [confusion_matrix(y_true, y_pred).ravel()],\n",
    "        'num_contrib': [df_prediction.index.nunique()],\n",
    "    }"
   ],
   "id": "2acc8764c25a799d",
   "outputs": [],
   "execution_count": 48
  },
  {
   "metadata": {},
   "cell_type": "markdown",
   "source": "## 5.2 - Evaluate the predictions",
   "id": "26817ffa6f68c860"
  },
  {
   "metadata": {
    "ExecuteTime": {
     "end_time": "2025-05-29T17:35:38.256471Z",
     "start_time": "2025-05-29T17:35:38.243650Z"
    }
   },
   "cell_type": "code",
   "source": [
    "contributor_map = {\n",
    "    'Bot': 1,\n",
    "    'Human': 0\n",
    "}\n",
    "\n",
    "df_prediction['predicted_bot'] = df_prediction['predicted_bot'].map(contributor_map)\n",
    "df_prediction['true_bot'] = df_prediction['true_bot'].map(contributor_map)\n",
    "# Set column type to int\n",
    "df_prediction['predicted_bot'] = df_prediction['predicted_bot'].astype(int)\n",
    "df_prediction['true_bot'] = df_prediction['true_bot'].astype(int)\n",
    "\n",
    "y_pred = df_prediction['predicted_bot']\n",
    "y_test = df_prediction['true_bot']\n",
    "\n",
    "\n",
    "\n",
    "performance = pd.DataFrame.from_dict(evaluate_model(y_pred, y_test, ['Human', 'Bot']))\n",
    "performance.index = [NAME]\n",
    "performance['mapping'] = MAPPING_NAME"
   ],
   "id": "8c26010a5416d96b",
   "outputs": [],
   "execution_count": 49
  },
  {
   "metadata": {
    "ExecuteTime": {
     "end_time": "2025-05-29T17:35:38.302441Z",
     "start_time": "2025-05-29T17:35:38.294162Z"
    }
   },
   "cell_type": "code",
   "source": "display(performance)",
   "id": "e86aaa7f812d01e7",
   "outputs": [
    {
     "data": {
      "text/plain": [
       "        precision  bot_precision  human_precision    recall  bot_recall  \\\n",
       "bimbis   0.949285       0.902174         0.986532  0.945899     0.98419   \n",
       "\n",
       "        human_recall  weighted_f1  accuracy   roc_auc        tn_fp_fn_tp  \\\n",
       "bimbis      0.915625     0.946067  0.945899  0.949907  [293, 27, 4, 249]   \n",
       "\n",
       "        num_contrib mapping  \n",
       "bimbis          573   glmap  "
      ],
      "text/html": [
       "<div>\n",
       "<style scoped>\n",
       "    .dataframe tbody tr th:only-of-type {\n",
       "        vertical-align: middle;\n",
       "    }\n",
       "\n",
       "    .dataframe tbody tr th {\n",
       "        vertical-align: top;\n",
       "    }\n",
       "\n",
       "    .dataframe thead th {\n",
       "        text-align: right;\n",
       "    }\n",
       "</style>\n",
       "<table border=\"1\" class=\"dataframe\">\n",
       "  <thead>\n",
       "    <tr style=\"text-align: right;\">\n",
       "      <th></th>\n",
       "      <th>precision</th>\n",
       "      <th>bot_precision</th>\n",
       "      <th>human_precision</th>\n",
       "      <th>recall</th>\n",
       "      <th>bot_recall</th>\n",
       "      <th>human_recall</th>\n",
       "      <th>weighted_f1</th>\n",
       "      <th>accuracy</th>\n",
       "      <th>roc_auc</th>\n",
       "      <th>tn_fp_fn_tp</th>\n",
       "      <th>num_contrib</th>\n",
       "      <th>mapping</th>\n",
       "    </tr>\n",
       "  </thead>\n",
       "  <tbody>\n",
       "    <tr>\n",
       "      <th>bimbis</th>\n",
       "      <td>0.949285</td>\n",
       "      <td>0.902174</td>\n",
       "      <td>0.986532</td>\n",
       "      <td>0.945899</td>\n",
       "      <td>0.98419</td>\n",
       "      <td>0.915625</td>\n",
       "      <td>0.946067</td>\n",
       "      <td>0.945899</td>\n",
       "      <td>0.949907</td>\n",
       "      <td>[293, 27, 4, 249]</td>\n",
       "      <td>573</td>\n",
       "      <td>glmap</td>\n",
       "    </tr>\n",
       "  </tbody>\n",
       "</table>\n",
       "</div>"
      ]
     },
     "metadata": {},
     "output_type": "display_data"
    }
   ],
   "execution_count": 50
  },
  {
   "metadata": {},
   "cell_type": "markdown",
   "source": "## 5.3 - Save the evaluation",
   "id": "2ee780a8cb5ffe4b"
  },
  {
   "metadata": {
    "ExecuteTime": {
     "end_time": "2025-05-29T17:35:38.350663Z",
     "start_time": "2025-05-29T17:35:38.348304Z"
    }
   },
   "cell_type": "code",
   "source": [
    "# Round the values\n",
    "performance = performance.round(6)"
   ],
   "id": "8295add4e4a60434",
   "outputs": [],
   "execution_count": 51
  },
  {
   "metadata": {
    "ExecuteTime": {
     "end_time": "2025-05-29T17:35:38.405739Z",
     "start_time": "2025-05-29T17:35:38.400711Z"
    }
   },
   "cell_type": "code",
   "source": "df_eval = pd.read_csv(f\"{EVAL_FOLDER}/{EVAL_FILE}\", index_col=0)",
   "id": "4f47241ef00e3c03",
   "outputs": [],
   "execution_count": 52
  },
  {
   "metadata": {
    "ExecuteTime": {
     "end_time": "2025-05-29T17:35:38.460291Z",
     "start_time": "2025-05-29T17:35:38.455056Z"
    }
   },
   "cell_type": "code",
   "source": [
    "# If the evaluation already exists, replace the line\n",
    "if NAME in df_eval.index:\n",
    "    df_eval.drop(index=NAME, inplace=True)\n",
    "df_eval = pd.concat([df_eval, performance], axis=0)\n",
    "df_eval.index.name = 'model'\n",
    "df_eval.to_csv(f\"{EVAL_FOLDER}/{EVAL_FILE}\", index=True)"
   ],
   "id": "2b8f03918ef94d74",
   "outputs": [],
   "execution_count": 53
  }
 ],
 "metadata": {
  "kernelspec": {
   "display_name": "Python 3",
   "language": "python",
   "name": "python3"
  },
  "language_info": {
   "codemirror_mode": {
    "name": "ipython",
    "version": 2
   },
   "file_extension": ".py",
   "mimetype": "text/x-python",
   "name": "python",
   "nbconvert_exporter": "python",
   "pygments_lexer": "ipython2",
   "version": "2.7.6"
  }
 },
 "nbformat": 4,
 "nbformat_minor": 5
}
