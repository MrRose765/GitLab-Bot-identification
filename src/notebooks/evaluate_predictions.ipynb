{
 "cells": [
  {
   "metadata": {},
   "cell_type": "markdown",
   "source": [
    "# Evaluate predictions\n",
    "This notebook serves as a general evaluation of the predictions made on the test dataset.\n",
    "The results will be added to the evaluation file with the given NAME as index.\n",
    "\n",
    "Constants to change:\n",
    "- PRED_FILE : the name of the csv containing the predictions\n",
    "- EVAL_FILE : the name of the csv to save the evaluation\n",
    "- NAME : the name of the evaluation (used as index in the evaluation file)\n",
    "\n",
    "\n",
    "The prediction file should have the following columns:\n",
    "- contributor\n",
    "- true_bot (Human, Bot)\n",
    "- predicted_bot (Human, Bot)\n",
    "\n",
    "We will compare the predictions made with the real labels and compute the following metrics:\n",
    "- recall\n",
    "- precision\n",
    "- weighted f1-score\n",
    "- accuracy\n",
    "- roc-auc\n",
    "- num_contributors\n",
    "- tn_fp_fn_tp\n"
   ],
   "id": "c91897599c801eec"
  },
  {
   "cell_type": "code",
   "id": "initial_id",
   "metadata": {
    "collapsed": true,
    "ExecuteTime": {
     "end_time": "2025-01-20T13:54:09.834537Z",
     "start_time": "2025-01-20T13:54:09.831891Z"
    }
   },
   "source": [
    "import pandas as pd\n",
    "\n",
    "from sklearn.metrics import confusion_matrix, make_scorer, precision_recall_fscore_support, classification_report\n",
    "from sklearn.metrics import f1_score, precision_score, recall_score, accuracy_score, roc_auc_score\n",
    "from sklearn.metrics import precision_recall_curve, auc\n"
   ],
   "outputs": [],
   "execution_count": 36
  },
  {
   "metadata": {},
   "cell_type": "markdown",
   "source": [
    "## Parameters\n",
    "The metrics will be added at the end the given evaluation file. The \"NAME\" variable is used to identify the evaluation in the file."
   ],
   "id": "e4d97dfbfb25047b"
  },
  {
   "metadata": {
    "ExecuteTime": {
     "end_time": "2025-01-20T13:54:09.878374Z",
     "start_time": "2025-01-20T13:54:09.876003Z"
    }
   },
   "cell_type": "code",
   "source": [
    "RESOURCE_FOLDER = '../resources'\n",
    "DATA_FOLDER = f'{RESOURCE_FOLDER}/data'\n",
    "EVAL_FOLDER = f'{RESOURCE_FOLDER}/evals'\n",
    "\n",
    "PRED_FILE = 'bimbas2_predictions.csv'\n",
    "EVAL_FILE = 'evaluation.csv'\n",
    "NAME = 'bimbas2'"
   ],
   "id": "f3fca498eb917577",
   "outputs": [],
   "execution_count": 37
  },
  {
   "metadata": {},
   "cell_type": "markdown",
   "source": "# 1 - Load data",
   "id": "3a0d89ecab22c091"
  },
  {
   "metadata": {},
   "cell_type": "markdown",
   "source": "## 1.1 - Load predictions",
   "id": "5b6e1084af71e93"
  },
  {
   "metadata": {
    "ExecuteTime": {
     "end_time": "2025-01-20T13:54:09.931571Z",
     "start_time": "2025-01-20T13:54:09.923560Z"
    }
   },
   "cell_type": "code",
   "source": [
    "df_prediction = pd.read_csv(f\"{EVAL_FOLDER}/{PRED_FILE}\", index_col=0)\n",
    "df_prediction.drop(columns=['confidence'], inplace=True)\n",
    "display(df_prediction.head())\n",
    "\n"
   ],
   "id": "e31146ed6319c34",
   "outputs": [
    {
     "data": {
      "text/plain": [
       "               true_bot predicted_bot\n",
       "contributor                          \n",
       "otc-zuul[bot]       Bot           Bot\n",
       "ljharb            Human         Human\n",
       "juancarlospaco    Human         Human\n",
       "tldr-bot            Bot           Bot\n",
       "jakirkham         Human         Human"
      ],
      "text/html": [
       "<div>\n",
       "<style scoped>\n",
       "    .dataframe tbody tr th:only-of-type {\n",
       "        vertical-align: middle;\n",
       "    }\n",
       "\n",
       "    .dataframe tbody tr th {\n",
       "        vertical-align: top;\n",
       "    }\n",
       "\n",
       "    .dataframe thead th {\n",
       "        text-align: right;\n",
       "    }\n",
       "</style>\n",
       "<table border=\"1\" class=\"dataframe\">\n",
       "  <thead>\n",
       "    <tr style=\"text-align: right;\">\n",
       "      <th></th>\n",
       "      <th>true_bot</th>\n",
       "      <th>predicted_bot</th>\n",
       "    </tr>\n",
       "    <tr>\n",
       "      <th>contributor</th>\n",
       "      <th></th>\n",
       "      <th></th>\n",
       "    </tr>\n",
       "  </thead>\n",
       "  <tbody>\n",
       "    <tr>\n",
       "      <th>otc-zuul[bot]</th>\n",
       "      <td>Bot</td>\n",
       "      <td>Bot</td>\n",
       "    </tr>\n",
       "    <tr>\n",
       "      <th>ljharb</th>\n",
       "      <td>Human</td>\n",
       "      <td>Human</td>\n",
       "    </tr>\n",
       "    <tr>\n",
       "      <th>juancarlospaco</th>\n",
       "      <td>Human</td>\n",
       "      <td>Human</td>\n",
       "    </tr>\n",
       "    <tr>\n",
       "      <th>tldr-bot</th>\n",
       "      <td>Bot</td>\n",
       "      <td>Bot</td>\n",
       "    </tr>\n",
       "    <tr>\n",
       "      <th>jakirkham</th>\n",
       "      <td>Human</td>\n",
       "      <td>Human</td>\n",
       "    </tr>\n",
       "  </tbody>\n",
       "</table>\n",
       "</div>"
      ]
     },
     "metadata": {},
     "output_type": "display_data"
    }
   ],
   "execution_count": 38
  },
  {
   "metadata": {},
   "cell_type": "markdown",
   "source": "Remove the unknown (< 5 events) and invalid (not found) contributors.",
   "id": "4066bf5d0ea10036"
  },
  {
   "metadata": {
    "ExecuteTime": {
     "end_time": "2025-01-20T13:54:09.975010Z",
     "start_time": "2025-01-20T13:54:09.971611Z"
    }
   },
   "cell_type": "code",
   "source": [
    "# Remove the 'Unknown' and Invalid types\n",
    "df_prediction = df_prediction[df_prediction['predicted_bot'] != 'Unknown']\n",
    "df_prediction = df_prediction[df_prediction['predicted_bot'] != 'Invalid']"
   ],
   "id": "dd4dc92638d7cc35",
   "outputs": [],
   "execution_count": 39
  },
  {
   "metadata": {},
   "cell_type": "markdown",
   "source": "Convert Bot and Human to 1 and 0 respectively.",
   "id": "aff3726e82bcf351"
  },
  {
   "metadata": {
    "ExecuteTime": {
     "end_time": "2025-01-20T13:54:10.046763Z",
     "start_time": "2025-01-20T13:54:10.039985Z"
    }
   },
   "cell_type": "code",
   "source": [
    "contributor_map = {\n",
    "    'Bot': 1,\n",
    "    'Human': 0\n",
    "}\n",
    "\n",
    "df_prediction['predicted_bot'] = df_prediction['predicted_bot'].map(contributor_map)\n",
    "\n",
    "# Set column type to int\n",
    "df_prediction['predicted_bot'] = df_prediction['predicted_bot'].astype(int)\n",
    "df_prediction.head()"
   ],
   "id": "690fc9979638ef3c",
   "outputs": [
    {
     "data": {
      "text/plain": [
       "               true_bot  predicted_bot\n",
       "contributor                           \n",
       "otc-zuul[bot]       Bot              1\n",
       "ljharb            Human              0\n",
       "juancarlospaco    Human              0\n",
       "tldr-bot            Bot              1\n",
       "jakirkham         Human              0"
      ],
      "text/html": [
       "<div>\n",
       "<style scoped>\n",
       "    .dataframe tbody tr th:only-of-type {\n",
       "        vertical-align: middle;\n",
       "    }\n",
       "\n",
       "    .dataframe tbody tr th {\n",
       "        vertical-align: top;\n",
       "    }\n",
       "\n",
       "    .dataframe thead th {\n",
       "        text-align: right;\n",
       "    }\n",
       "</style>\n",
       "<table border=\"1\" class=\"dataframe\">\n",
       "  <thead>\n",
       "    <tr style=\"text-align: right;\">\n",
       "      <th></th>\n",
       "      <th>true_bot</th>\n",
       "      <th>predicted_bot</th>\n",
       "    </tr>\n",
       "    <tr>\n",
       "      <th>contributor</th>\n",
       "      <th></th>\n",
       "      <th></th>\n",
       "    </tr>\n",
       "  </thead>\n",
       "  <tbody>\n",
       "    <tr>\n",
       "      <th>otc-zuul[bot]</th>\n",
       "      <td>Bot</td>\n",
       "      <td>1</td>\n",
       "    </tr>\n",
       "    <tr>\n",
       "      <th>ljharb</th>\n",
       "      <td>Human</td>\n",
       "      <td>0</td>\n",
       "    </tr>\n",
       "    <tr>\n",
       "      <th>juancarlospaco</th>\n",
       "      <td>Human</td>\n",
       "      <td>0</td>\n",
       "    </tr>\n",
       "    <tr>\n",
       "      <th>tldr-bot</th>\n",
       "      <td>Bot</td>\n",
       "      <td>1</td>\n",
       "    </tr>\n",
       "    <tr>\n",
       "      <th>jakirkham</th>\n",
       "      <td>Human</td>\n",
       "      <td>0</td>\n",
       "    </tr>\n",
       "  </tbody>\n",
       "</table>\n",
       "</div>"
      ]
     },
     "execution_count": 40,
     "metadata": {},
     "output_type": "execute_result"
    }
   ],
   "execution_count": 40
  },
  {
   "metadata": {},
   "cell_type": "markdown",
   "source": "## 1.2 - Load labels",
   "id": "7d1cca638393cf08"
  },
  {
   "metadata": {
    "ExecuteTime": {
     "end_time": "2025-01-20T13:54:10.120894Z",
     "start_time": "2025-01-20T13:54:10.114899Z"
    }
   },
   "cell_type": "code",
   "source": [
    "df_prediction['true_bot'] = df_prediction['true_bot'].map(contributor_map)\n",
    "df_prediction['true_bot'] = df_prediction['true_bot'].astype(int)\n",
    "df_prediction.head()"
   ],
   "id": "bd83e25a69eea52",
   "outputs": [
    {
     "data": {
      "text/plain": [
       "                true_bot  predicted_bot\n",
       "contributor                            \n",
       "otc-zuul[bot]          1              1\n",
       "ljharb                 0              0\n",
       "juancarlospaco         0              0\n",
       "tldr-bot               1              1\n",
       "jakirkham              0              0"
      ],
      "text/html": [
       "<div>\n",
       "<style scoped>\n",
       "    .dataframe tbody tr th:only-of-type {\n",
       "        vertical-align: middle;\n",
       "    }\n",
       "\n",
       "    .dataframe tbody tr th {\n",
       "        vertical-align: top;\n",
       "    }\n",
       "\n",
       "    .dataframe thead th {\n",
       "        text-align: right;\n",
       "    }\n",
       "</style>\n",
       "<table border=\"1\" class=\"dataframe\">\n",
       "  <thead>\n",
       "    <tr style=\"text-align: right;\">\n",
       "      <th></th>\n",
       "      <th>true_bot</th>\n",
       "      <th>predicted_bot</th>\n",
       "    </tr>\n",
       "    <tr>\n",
       "      <th>contributor</th>\n",
       "      <th></th>\n",
       "      <th></th>\n",
       "    </tr>\n",
       "  </thead>\n",
       "  <tbody>\n",
       "    <tr>\n",
       "      <th>otc-zuul[bot]</th>\n",
       "      <td>1</td>\n",
       "      <td>1</td>\n",
       "    </tr>\n",
       "    <tr>\n",
       "      <th>ljharb</th>\n",
       "      <td>0</td>\n",
       "      <td>0</td>\n",
       "    </tr>\n",
       "    <tr>\n",
       "      <th>juancarlospaco</th>\n",
       "      <td>0</td>\n",
       "      <td>0</td>\n",
       "    </tr>\n",
       "    <tr>\n",
       "      <th>tldr-bot</th>\n",
       "      <td>1</td>\n",
       "      <td>1</td>\n",
       "    </tr>\n",
       "    <tr>\n",
       "      <th>jakirkham</th>\n",
       "      <td>0</td>\n",
       "      <td>0</td>\n",
       "    </tr>\n",
       "  </tbody>\n",
       "</table>\n",
       "</div>"
      ]
     },
     "execution_count": 41,
     "metadata": {},
     "output_type": "execute_result"
    }
   ],
   "execution_count": 41
  },
  {
   "metadata": {},
   "cell_type": "markdown",
   "source": "# 2 - Evaluate predictions",
   "id": "c34becab914583ae"
  },
  {
   "metadata": {},
   "cell_type": "markdown",
   "source": "## 2.1 - Define the metrics",
   "id": "6c70e8cc92419d17"
  },
  {
   "metadata": {
    "ExecuteTime": {
     "end_time": "2025-01-20T13:54:10.182872Z",
     "start_time": "2025-01-20T13:54:10.179597Z"
    }
   },
   "cell_type": "code",
   "source": [
    "def evaluate_model(y_pred, y_true, target_names):\n",
    "    \"\"\"\n",
    "    Compute the classification metrics and return them as a DataFrame. The accuracy is also returned.\n",
    "    :return: report_df and the accuracy.\n",
    "    \"\"\"\n",
    "    report = classification_report(y_true, y_pred, target_names=target_names, output_dict=True)\n",
    "    return {\n",
    "        'precision': [report['weighted avg']['precision']],\n",
    "        'bot_precision': [report['Bot']['precision']],\n",
    "        'human_precision': [report['Human']['precision']],\n",
    "        'recall': [report['weighted avg']['recall']],\n",
    "        'bot_recall': [report['Bot']['recall']],\n",
    "        'human_recall': [report['Human']['recall']],\n",
    "        'weighted_f1': [report['weighted avg']['f1-score']],\n",
    "        'accuracy': [report['accuracy']],\n",
    "        'roc_auc': [roc_auc_score(y_true, y_pred)],\n",
    "        'tn_fp_fn_tp': [confusion_matrix(y_true, y_pred).ravel()],\n",
    "        'num_contrib': [df_prediction.index.nunique()],\n",
    "    }"
   ],
   "id": "3e09a3e6c1248e7",
   "outputs": [],
   "execution_count": 42
  },
  {
   "metadata": {},
   "cell_type": "markdown",
   "source": "## 2.2 - Evaluate predictions",
   "id": "27875b7337d92fc7"
  },
  {
   "metadata": {
    "ExecuteTime": {
     "end_time": "2025-01-20T13:54:10.236247Z",
     "start_time": "2025-01-20T13:54:10.222568Z"
    }
   },
   "cell_type": "code",
   "source": [
    "y_pred = df_prediction['predicted_bot']\n",
    "y_test = df_prediction['true_bot']\n",
    "\n",
    "\n",
    "performance = pd.DataFrame.from_dict(evaluate_model(y_pred, y_test, ['Human', 'Bot']))\n",
    "performance.index = [NAME]\n"
   ],
   "id": "a7b6e3df427ec025",
   "outputs": [],
   "execution_count": 43
  },
  {
   "metadata": {
    "ExecuteTime": {
     "end_time": "2025-01-20T13:54:10.307991Z",
     "start_time": "2025-01-20T13:54:10.296374Z"
    }
   },
   "cell_type": "code",
   "source": "display(performance)",
   "id": "47eccb98abd948b5",
   "outputs": [
    {
     "data": {
      "text/plain": [
       "         precision  bot_precision  human_precision    recall  bot_recall  \\\n",
       "bimbas2    0.90047       0.905405         0.895674  0.900393    0.890957   \n",
       "\n",
       "         human_recall  weighted_f1  accuracy         tn_fp_fn_tp  num_contrib  \\\n",
       "bimbas2      0.909561     0.900376  0.900393  [352, 35, 41, 335]          763   \n",
       "\n",
       "          roc_auc  \n",
       "bimbas2  0.900259  "
      ],
      "text/html": [
       "<div>\n",
       "<style scoped>\n",
       "    .dataframe tbody tr th:only-of-type {\n",
       "        vertical-align: middle;\n",
       "    }\n",
       "\n",
       "    .dataframe tbody tr th {\n",
       "        vertical-align: top;\n",
       "    }\n",
       "\n",
       "    .dataframe thead th {\n",
       "        text-align: right;\n",
       "    }\n",
       "</style>\n",
       "<table border=\"1\" class=\"dataframe\">\n",
       "  <thead>\n",
       "    <tr style=\"text-align: right;\">\n",
       "      <th></th>\n",
       "      <th>precision</th>\n",
       "      <th>bot_precision</th>\n",
       "      <th>human_precision</th>\n",
       "      <th>recall</th>\n",
       "      <th>bot_recall</th>\n",
       "      <th>human_recall</th>\n",
       "      <th>weighted_f1</th>\n",
       "      <th>accuracy</th>\n",
       "      <th>tn_fp_fn_tp</th>\n",
       "      <th>num_contrib</th>\n",
       "      <th>roc_auc</th>\n",
       "    </tr>\n",
       "  </thead>\n",
       "  <tbody>\n",
       "    <tr>\n",
       "      <th>bimbas2</th>\n",
       "      <td>0.90047</td>\n",
       "      <td>0.905405</td>\n",
       "      <td>0.895674</td>\n",
       "      <td>0.900393</td>\n",
       "      <td>0.890957</td>\n",
       "      <td>0.909561</td>\n",
       "      <td>0.900376</td>\n",
       "      <td>0.900393</td>\n",
       "      <td>[352, 35, 41, 335]</td>\n",
       "      <td>763</td>\n",
       "      <td>0.900259</td>\n",
       "    </tr>\n",
       "  </tbody>\n",
       "</table>\n",
       "</div>"
      ]
     },
     "metadata": {},
     "output_type": "display_data"
    }
   ],
   "execution_count": 44
  },
  {
   "metadata": {},
   "cell_type": "markdown",
   "source": "## 2.3 - Save the evaluation",
   "id": "36a5065763d84da3"
  },
  {
   "metadata": {
    "ExecuteTime": {
     "end_time": "2025-01-20T13:54:10.359686Z",
     "start_time": "2025-01-20T13:54:10.355Z"
    }
   },
   "cell_type": "code",
   "source": "df_eval = pd.read_csv(f\"{EVAL_FOLDER}/{EVAL_FILE}\", index_col=0)",
   "id": "ad5b0ae7f7ef55bd",
   "outputs": [],
   "execution_count": 45
  },
  {
   "metadata": {
    "ExecuteTime": {
     "end_time": "2025-01-20T13:54:10.446642Z",
     "start_time": "2025-01-20T13:54:10.441462Z"
    }
   },
   "cell_type": "code",
   "source": [
    "# If the evaluation already exists, replace the line\n",
    "if NAME in df_eval.index:\n",
    "    df_eval.drop(index=NAME, inplace=True)\n",
    "df_eval = pd.concat([df_eval, performance], axis=0)\n",
    "df_eval.index.name = 'model'\n",
    "df_eval.to_csv(f\"{EVAL_FOLDER}/{EVAL_FILE}\", index=True)\n"
   ],
   "id": "3db05902b25e2d9c",
   "outputs": [],
   "execution_count": 46
  }
 ],
 "metadata": {
  "kernelspec": {
   "display_name": "Python 3",
   "language": "python",
   "name": "python3"
  },
  "language_info": {
   "codemirror_mode": {
    "name": "ipython",
    "version": 2
   },
   "file_extension": ".py",
   "mimetype": "text/x-python",
   "name": "python",
   "nbconvert_exporter": "python",
   "pygments_lexer": "ipython2",
   "version": "2.7.6"
  }
 },
 "nbformat": 4,
 "nbformat_minor": 5
}
