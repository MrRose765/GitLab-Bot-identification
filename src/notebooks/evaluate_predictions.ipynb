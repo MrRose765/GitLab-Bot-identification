{
 "cells": [
  {
   "metadata": {},
   "cell_type": "markdown",
   "source": [
    "# Evaluate predictions\n",
    "This notebook serves as a general evaluation of the predictions made on the test dataset.\n",
    "\n",
    "The prediction file should have the following columns:\n",
    "- contributor\n",
    "- type (Human, Bot)\n",
    "\n",
    "We will compare the predictions made with the real labels and compute the following metrics:\n",
    "- recall\n",
    "- precision\n",
    "- weighted f1-score\n",
    "- accuracy\n",
    "- roc-auc\n",
    "- num_contributors\n",
    "- tn_fp_fn_tp"
   ],
   "id": "c91897599c801eec"
  },
  {
   "cell_type": "code",
   "id": "initial_id",
   "metadata": {
    "collapsed": true,
    "ExecuteTime": {
     "end_time": "2025-01-09T11:19:31.015429Z",
     "start_time": "2025-01-09T11:19:31.012812Z"
    }
   },
   "source": [
    "import pandas as pd\n",
    "\n",
    "from sklearn.metrics import confusion_matrix, make_scorer, precision_recall_fscore_support\n",
    "from sklearn.metrics import f1_score, precision_score, recall_score, accuracy_score, roc_auc_score\n",
    "from sklearn.metrics import precision_recall_curve, auc"
   ],
   "outputs": [],
   "execution_count": 34
  },
  {
   "metadata": {},
   "cell_type": "markdown",
   "source": [
    "## Parameters\n",
    "The metrics will be added at the end the given evaluation file. The \"NAME\" variable is used to identify the evaluation in the file."
   ],
   "id": "e4d97dfbfb25047b"
  },
  {
   "metadata": {
    "ExecuteTime": {
     "end_time": "2025-01-09T11:19:31.061445Z",
     "start_time": "2025-01-09T11:19:31.058680Z"
    }
   },
   "cell_type": "code",
   "source": [
    "RESOURCE_FOLDER = '../resources'\n",
    "DATA_FOLDER = f'{RESOURCE_FOLDER}/data'\n",
    "EVAL_FOLDER = f'{RESOURCE_FOLDER}/evals'\n",
    "\n",
    "PRED_FILE = 'bimbis_predictions.csv'\n",
    "EVAL_FILE = 'evaluation.csv'\n",
    "NAME = 'bimbis'"
   ],
   "id": "f3fca498eb917577",
   "outputs": [],
   "execution_count": 35
  },
  {
   "metadata": {},
   "cell_type": "markdown",
   "source": "# 1 - Load data",
   "id": "3a0d89ecab22c091"
  },
  {
   "metadata": {},
   "cell_type": "markdown",
   "source": "## 1.1 - Load predictions",
   "id": "5b6e1084af71e93"
  },
  {
   "metadata": {
    "ExecuteTime": {
     "end_time": "2025-01-09T11:19:31.113207Z",
     "start_time": "2025-01-09T11:19:31.106042Z"
    }
   },
   "cell_type": "code",
   "source": [
    "df_prediction = pd.read_csv(f\"{EVAL_FOLDER}/{PRED_FILE}\", index_col=0)\n",
    "df_prediction.drop(columns=['confidence'], inplace=True)\n",
    "display(df_prediction.head())\n",
    "\n"
   ],
   "id": "e31146ed6319c34",
   "outputs": [
    {
     "data": {
      "text/plain": [
       "               true_bot predicted_bot\n",
       "contributor                          \n",
       "otc-zuul[bot]       Bot           Bot\n",
       "ljharb            Human         Human\n",
       "juancarlospaco    Human         Human\n",
       "tldr-bot            Bot           Bot\n",
       "jakirkham         Human         Human"
      ],
      "text/html": [
       "<div>\n",
       "<style scoped>\n",
       "    .dataframe tbody tr th:only-of-type {\n",
       "        vertical-align: middle;\n",
       "    }\n",
       "\n",
       "    .dataframe tbody tr th {\n",
       "        vertical-align: top;\n",
       "    }\n",
       "\n",
       "    .dataframe thead th {\n",
       "        text-align: right;\n",
       "    }\n",
       "</style>\n",
       "<table border=\"1\" class=\"dataframe\">\n",
       "  <thead>\n",
       "    <tr style=\"text-align: right;\">\n",
       "      <th></th>\n",
       "      <th>true_bot</th>\n",
       "      <th>predicted_bot</th>\n",
       "    </tr>\n",
       "    <tr>\n",
       "      <th>contributor</th>\n",
       "      <th></th>\n",
       "      <th></th>\n",
       "    </tr>\n",
       "  </thead>\n",
       "  <tbody>\n",
       "    <tr>\n",
       "      <th>otc-zuul[bot]</th>\n",
       "      <td>Bot</td>\n",
       "      <td>Bot</td>\n",
       "    </tr>\n",
       "    <tr>\n",
       "      <th>ljharb</th>\n",
       "      <td>Human</td>\n",
       "      <td>Human</td>\n",
       "    </tr>\n",
       "    <tr>\n",
       "      <th>juancarlospaco</th>\n",
       "      <td>Human</td>\n",
       "      <td>Human</td>\n",
       "    </tr>\n",
       "    <tr>\n",
       "      <th>tldr-bot</th>\n",
       "      <td>Bot</td>\n",
       "      <td>Bot</td>\n",
       "    </tr>\n",
       "    <tr>\n",
       "      <th>jakirkham</th>\n",
       "      <td>Human</td>\n",
       "      <td>Human</td>\n",
       "    </tr>\n",
       "  </tbody>\n",
       "</table>\n",
       "</div>"
      ]
     },
     "metadata": {},
     "output_type": "display_data"
    }
   ],
   "execution_count": 36
  },
  {
   "metadata": {},
   "cell_type": "markdown",
   "source": "Remove the unknown (< 5 events) and invalid (not found) contributors.",
   "id": "4066bf5d0ea10036"
  },
  {
   "metadata": {
    "ExecuteTime": {
     "end_time": "2025-01-09T11:19:31.157050Z",
     "start_time": "2025-01-09T11:19:31.153797Z"
    }
   },
   "cell_type": "code",
   "source": [
    "# Remove the 'Unknown' and Invalid types\n",
    "df_prediction = df_prediction[df_prediction['predicted_bot'] != 'Unknown']\n",
    "df_prediction = df_prediction[df_prediction['predicted_bot'] != 'Invalid']"
   ],
   "id": "dd4dc92638d7cc35",
   "outputs": [],
   "execution_count": 37
  },
  {
   "metadata": {},
   "cell_type": "markdown",
   "source": "Convert Bot and Human to 1 and 0 respectively.",
   "id": "aff3726e82bcf351"
  },
  {
   "metadata": {
    "ExecuteTime": {
     "end_time": "2025-01-09T11:19:31.239864Z",
     "start_time": "2025-01-09T11:19:31.233493Z"
    }
   },
   "cell_type": "code",
   "source": [
    "contributor_map = {\n",
    "    'Bot': 1,\n",
    "    'Human': 0\n",
    "}\n",
    "\n",
    "df_prediction['predicted_bot'] = df_prediction['predicted_bot'].map(contributor_map)\n",
    "\n",
    "# Set column type to int\n",
    "df_prediction['predicted_bot'] = df_prediction['predicted_bot'].astype(int)\n",
    "df_prediction.head()"
   ],
   "id": "690fc9979638ef3c",
   "outputs": [
    {
     "data": {
      "text/plain": [
       "               true_bot  predicted_bot\n",
       "contributor                           \n",
       "otc-zuul[bot]       Bot              1\n",
       "ljharb            Human              0\n",
       "juancarlospaco    Human              0\n",
       "tldr-bot            Bot              1\n",
       "jakirkham         Human              0"
      ],
      "text/html": [
       "<div>\n",
       "<style scoped>\n",
       "    .dataframe tbody tr th:only-of-type {\n",
       "        vertical-align: middle;\n",
       "    }\n",
       "\n",
       "    .dataframe tbody tr th {\n",
       "        vertical-align: top;\n",
       "    }\n",
       "\n",
       "    .dataframe thead th {\n",
       "        text-align: right;\n",
       "    }\n",
       "</style>\n",
       "<table border=\"1\" class=\"dataframe\">\n",
       "  <thead>\n",
       "    <tr style=\"text-align: right;\">\n",
       "      <th></th>\n",
       "      <th>true_bot</th>\n",
       "      <th>predicted_bot</th>\n",
       "    </tr>\n",
       "    <tr>\n",
       "      <th>contributor</th>\n",
       "      <th></th>\n",
       "      <th></th>\n",
       "    </tr>\n",
       "  </thead>\n",
       "  <tbody>\n",
       "    <tr>\n",
       "      <th>otc-zuul[bot]</th>\n",
       "      <td>Bot</td>\n",
       "      <td>1</td>\n",
       "    </tr>\n",
       "    <tr>\n",
       "      <th>ljharb</th>\n",
       "      <td>Human</td>\n",
       "      <td>0</td>\n",
       "    </tr>\n",
       "    <tr>\n",
       "      <th>juancarlospaco</th>\n",
       "      <td>Human</td>\n",
       "      <td>0</td>\n",
       "    </tr>\n",
       "    <tr>\n",
       "      <th>tldr-bot</th>\n",
       "      <td>Bot</td>\n",
       "      <td>1</td>\n",
       "    </tr>\n",
       "    <tr>\n",
       "      <th>jakirkham</th>\n",
       "      <td>Human</td>\n",
       "      <td>0</td>\n",
       "    </tr>\n",
       "  </tbody>\n",
       "</table>\n",
       "</div>"
      ]
     },
     "execution_count": 38,
     "metadata": {},
     "output_type": "execute_result"
    }
   ],
   "execution_count": 38
  },
  {
   "metadata": {},
   "cell_type": "markdown",
   "source": "## 1.2 - Load labels",
   "id": "7d1cca638393cf08"
  },
  {
   "metadata": {
    "ExecuteTime": {
     "end_time": "2025-01-09T11:19:31.317869Z",
     "start_time": "2025-01-09T11:19:31.310052Z"
    }
   },
   "cell_type": "code",
   "source": [
    "df_prediction['true_bot'] = df_prediction['true_bot'].map(contributor_map)\n",
    "df_prediction['true_bot'] = df_prediction['true_bot'].astype(int)\n",
    "df_prediction.head()"
   ],
   "id": "bd83e25a69eea52",
   "outputs": [
    {
     "data": {
      "text/plain": [
       "                true_bot  predicted_bot\n",
       "contributor                            \n",
       "otc-zuul[bot]          1              1\n",
       "ljharb                 0              0\n",
       "juancarlospaco         0              0\n",
       "tldr-bot               1              1\n",
       "jakirkham              0              0"
      ],
      "text/html": [
       "<div>\n",
       "<style scoped>\n",
       "    .dataframe tbody tr th:only-of-type {\n",
       "        vertical-align: middle;\n",
       "    }\n",
       "\n",
       "    .dataframe tbody tr th {\n",
       "        vertical-align: top;\n",
       "    }\n",
       "\n",
       "    .dataframe thead th {\n",
       "        text-align: right;\n",
       "    }\n",
       "</style>\n",
       "<table border=\"1\" class=\"dataframe\">\n",
       "  <thead>\n",
       "    <tr style=\"text-align: right;\">\n",
       "      <th></th>\n",
       "      <th>true_bot</th>\n",
       "      <th>predicted_bot</th>\n",
       "    </tr>\n",
       "    <tr>\n",
       "      <th>contributor</th>\n",
       "      <th></th>\n",
       "      <th></th>\n",
       "    </tr>\n",
       "  </thead>\n",
       "  <tbody>\n",
       "    <tr>\n",
       "      <th>otc-zuul[bot]</th>\n",
       "      <td>1</td>\n",
       "      <td>1</td>\n",
       "    </tr>\n",
       "    <tr>\n",
       "      <th>ljharb</th>\n",
       "      <td>0</td>\n",
       "      <td>0</td>\n",
       "    </tr>\n",
       "    <tr>\n",
       "      <th>juancarlospaco</th>\n",
       "      <td>0</td>\n",
       "      <td>0</td>\n",
       "    </tr>\n",
       "    <tr>\n",
       "      <th>tldr-bot</th>\n",
       "      <td>1</td>\n",
       "      <td>1</td>\n",
       "    </tr>\n",
       "    <tr>\n",
       "      <th>jakirkham</th>\n",
       "      <td>0</td>\n",
       "      <td>0</td>\n",
       "    </tr>\n",
       "  </tbody>\n",
       "</table>\n",
       "</div>"
      ]
     },
     "execution_count": 39,
     "metadata": {},
     "output_type": "execute_result"
    }
   ],
   "execution_count": 39
  },
  {
   "metadata": {},
   "cell_type": "markdown",
   "source": "# 2 - Evaluate predictions",
   "id": "c34becab914583ae"
  },
  {
   "metadata": {},
   "cell_type": "markdown",
   "source": "## 2.1 - Define the metrics",
   "id": "6c70e8cc92419d17"
  },
  {
   "metadata": {
    "ExecuteTime": {
     "end_time": "2025-01-09T11:19:31.383488Z",
     "start_time": "2025-01-09T11:19:31.378102Z"
    }
   },
   "cell_type": "code",
   "source": [
    "# Taken from RABBIT\n",
    "\n",
    "def botrecall(y_true, y_pred):\n",
    "    return precision_recall_fscore_support(y_true,y_pred,zero_division=0.0)[1][1]\n",
    "bot_recall = make_scorer(botrecall, greater_is_better=True)\n",
    "\n",
    "def humanrecall(y_true, y_pred):\n",
    "    return precision_recall_fscore_support(y_true,y_pred,zero_division=0.0)[1][0]\n",
    "human_recall = make_scorer(humanrecall, greater_is_better=True)\n",
    "\n",
    "def botprecision(y_true, y_pred):\n",
    "    return precision_recall_fscore_support(y_true,y_pred,zero_division=0.0)[0][1]\n",
    "bot_precision = make_scorer(botprecision, greater_is_better=True)\n",
    "\n",
    "def humanprecision(y_true, y_pred):\n",
    "    return precision_recall_fscore_support(y_true,y_pred,zero_division=0.0)[0][0]\n",
    "human_precision = make_scorer(humanprecision, greater_is_better=True)\n",
    "\n",
    "def wpscore(y_true, y_pred):\n",
    "    return precision_recall_fscore_support(y_true,y_pred,average='weighted',zero_division=0.0)[0]\n",
    "wprecision_score = make_scorer(wpscore, greater_is_better=True)\n",
    "\n",
    "def wrscore(y_true, y_pred):\n",
    "    return precision_recall_fscore_support(y_true,y_pred,average='weighted',zero_division=0.0)[1]\n",
    "wrecall_score = make_scorer(wrscore, greater_is_better=True)\n",
    "\n",
    "def auc_pr(y_true, y_pred):\n",
    "    P, R, T = precision_recall_curve(y_true, y_pred)\n",
    "    return auc(R, P)\n",
    "\n",
    "auc_pr = make_scorer(auc_pr, greater_is_better=True)"
   ],
   "id": "74e3775e9107032b",
   "outputs": [],
   "execution_count": 40
  },
  {
   "metadata": {},
   "cell_type": "markdown",
   "source": "## 2.2 - Evaluate predictions",
   "id": "27875b7337d92fc7"
  },
  {
   "metadata": {
    "ExecuteTime": {
     "end_time": "2025-01-09T11:19:31.440824Z",
     "start_time": "2025-01-09T11:19:31.418373Z"
    }
   },
   "cell_type": "code",
   "source": [
    "y_pred = df_prediction['predicted_bot']\n",
    "y_test = df_prediction['true_bot']\n",
    "\n",
    "perf = {\n",
    "    'precision': [precision_score(y_test, y_pred, average='weighted', zero_division=0.0)],\n",
    "    'bot_precision': [botprecision(y_test, y_pred)],\n",
    "    'human_precision': [humanprecision(y_test, y_pred)],\n",
    "    'recall': [recall_score(y_test, y_pred, average='weighted', zero_division=0.0)],\n",
    "    'bot_recall': [botrecall(y_test, y_pred)],\n",
    "    'human_recall': [humanrecall(y_test, y_pred)],\n",
    "    'weighted_f1': [f1_score(y_test, y_pred, average='weighted', zero_division=0.0)],\n",
    "    'accuracy': [accuracy_score(y_test, y_pred)],\n",
    "    'tn_fp_fn_tp': [confusion_matrix(y_test, y_pred).ravel()],\n",
    "    'num_contrib': df_prediction.index.nunique(),\n",
    "    'roc_auc': [roc_auc_score(y_test, y_pred)]\n",
    "}\n",
    "\n",
    "performance = pd.DataFrame.from_dict(perf)\n",
    "performance.index = [NAME]"
   ],
   "id": "a7b6e3df427ec025",
   "outputs": [],
   "execution_count": 41
  },
  {
   "metadata": {
    "ExecuteTime": {
     "end_time": "2025-01-09T11:19:31.534022Z",
     "start_time": "2025-01-09T11:19:31.525544Z"
    }
   },
   "cell_type": "code",
   "source": "display(performance)",
   "id": "47eccb98abd948b5",
   "outputs": [
    {
     "data": {
      "text/plain": [
       "        precision  bot_precision  human_precision    recall  bot_recall  \\\n",
       "bimbis   0.897916       0.904891         0.891139  0.897772    0.885638   \n",
       "\n",
       "        human_recall  weighted_f1  accuracy         tn_fp_fn_tp  num_contrib  \\\n",
       "bimbis      0.909561     0.897745  0.897772  [352, 35, 43, 333]          763   \n",
       "\n",
       "        roc_auc  \n",
       "bimbis   0.8976  "
      ],
      "text/html": [
       "<div>\n",
       "<style scoped>\n",
       "    .dataframe tbody tr th:only-of-type {\n",
       "        vertical-align: middle;\n",
       "    }\n",
       "\n",
       "    .dataframe tbody tr th {\n",
       "        vertical-align: top;\n",
       "    }\n",
       "\n",
       "    .dataframe thead th {\n",
       "        text-align: right;\n",
       "    }\n",
       "</style>\n",
       "<table border=\"1\" class=\"dataframe\">\n",
       "  <thead>\n",
       "    <tr style=\"text-align: right;\">\n",
       "      <th></th>\n",
       "      <th>precision</th>\n",
       "      <th>bot_precision</th>\n",
       "      <th>human_precision</th>\n",
       "      <th>recall</th>\n",
       "      <th>bot_recall</th>\n",
       "      <th>human_recall</th>\n",
       "      <th>weighted_f1</th>\n",
       "      <th>accuracy</th>\n",
       "      <th>tn_fp_fn_tp</th>\n",
       "      <th>num_contrib</th>\n",
       "      <th>roc_auc</th>\n",
       "    </tr>\n",
       "  </thead>\n",
       "  <tbody>\n",
       "    <tr>\n",
       "      <th>bimbis</th>\n",
       "      <td>0.897916</td>\n",
       "      <td>0.904891</td>\n",
       "      <td>0.891139</td>\n",
       "      <td>0.897772</td>\n",
       "      <td>0.885638</td>\n",
       "      <td>0.909561</td>\n",
       "      <td>0.897745</td>\n",
       "      <td>0.897772</td>\n",
       "      <td>[352, 35, 43, 333]</td>\n",
       "      <td>763</td>\n",
       "      <td>0.8976</td>\n",
       "    </tr>\n",
       "  </tbody>\n",
       "</table>\n",
       "</div>"
      ]
     },
     "metadata": {},
     "output_type": "display_data"
    }
   ],
   "execution_count": 42
  },
  {
   "metadata": {},
   "cell_type": "markdown",
   "source": "## 2.3 - Save the evaluation",
   "id": "36a5065763d84da3"
  },
  {
   "metadata": {
    "ExecuteTime": {
     "end_time": "2025-01-09T11:19:31.569424Z",
     "start_time": "2025-01-09T11:19:31.565614Z"
    }
   },
   "cell_type": "code",
   "source": "df_eval = pd.read_csv(f\"{EVAL_FOLDER}/{EVAL_FILE}\", index_col=0)",
   "id": "ad5b0ae7f7ef55bd",
   "outputs": [],
   "execution_count": 43
  },
  {
   "metadata": {
    "ExecuteTime": {
     "end_time": "2025-01-09T11:19:31.672856Z",
     "start_time": "2025-01-09T11:19:31.667636Z"
    }
   },
   "cell_type": "code",
   "source": [
    "# If the evaluation already exists, replace the line\n",
    "if NAME in df_eval.index:\n",
    "    df_eval.drop(index=NAME, inplace=True)\n",
    "df_eval = pd.concat([df_eval, performance], axis=0)\n",
    "df_eval.index.name = 'model'\n",
    "df_eval.to_csv(f\"{EVAL_FOLDER}/{EVAL_FILE}\", index=True)\n"
   ],
   "id": "3db05902b25e2d9c",
   "outputs": [],
   "execution_count": 44
  }
 ],
 "metadata": {
  "kernelspec": {
   "display_name": "Python 3",
   "language": "python",
   "name": "python3"
  },
  "language_info": {
   "codemirror_mode": {
    "name": "ipython",
    "version": 2
   },
   "file_extension": ".py",
   "mimetype": "text/x-python",
   "name": "python",
   "nbconvert_exporter": "python",
   "pygments_lexer": "ipython2",
   "version": "2.7.6"
  }
 },
 "nbformat": 4,
 "nbformat_minor": 5
}
