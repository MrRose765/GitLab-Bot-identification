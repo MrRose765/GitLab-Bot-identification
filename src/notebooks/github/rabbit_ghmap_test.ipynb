{
 "cells": [
  {
   "metadata": {},
   "cell_type": "markdown",
   "source": [
    "# Rabbit with ghmap\n",
    "This notebook demonstrates how to use GitHubManager to extract GitHub events, convert them into activities, and predict if a user is a bot or not using the BIMBAS model.\n",
    "\n",
    "- GitHubManager is used to extract GitHub events, convert them into activities and extract features.\n",
    "- The model_utils module is used to load the BIMBAS model and make predictions.\n"
   ],
   "id": "614e1dd8fe63c8b"
  },
  {
   "metadata": {},
   "cell_type": "markdown",
   "source": "# 1 - Extract activities",
   "id": "245ef1a1f6be91e1"
  },
  {
   "metadata": {},
   "cell_type": "markdown",
   "source": [
    "## 1.1 - Setup the variables\n",
    "The api key is not necessary to extract the events, but is needed to be able to make > 15 queries per hour.\n",
    "\n",
    "By default, in this notebook, we will use ghmap to extract the activities. If you want, you can use the mapping of RABBIT by setting the parameter `ghmap` to False."
   ],
   "id": "a7d3ea15c99d8c8"
  },
  {
   "metadata": {
    "ExecuteTime": {
     "end_time": "2025-05-13T12:53:21.804740Z",
     "start_time": "2025-05-13T12:53:21.801983Z"
    }
   },
   "cell_type": "code",
   "source": [
    "from gitbot_utils.gh_api import GitHubManager\n",
    "\n",
    "API_KEY = None # Set KEY\n",
    "USER = 'robodoo'\n",
    "\n",
    "gh_manager = GitHubManager(API_KEY, max_queries=3, min_events=5, ghmap=True)"
   ],
   "id": "7f96f7d9f96c9a75",
   "outputs": [],
   "execution_count": 2
  },
  {
   "metadata": {},
   "cell_type": "markdown",
   "source": [
    "## 1.2 - Get the raw events from the user\n",
    "The events are extracted from the GitHub API. Maximum `max_queries` of 100 events are extracted per query."
   ],
   "id": "f21467c0c0219e68"
  },
  {
   "metadata": {
    "ExecuteTime": {
     "end_time": "2025-05-13T12:54:52.282341Z",
     "start_time": "2025-05-13T12:54:51.450883Z"
    }
   },
   "cell_type": "code",
   "source": [
    "raw_events = gh_manager.query_events(USER)\n",
    "raw_events[0]"
   ],
   "id": "4dfdb897c04488fd",
   "outputs": [
    {
     "data": {
      "text/plain": [
       "{'id': '49656354046',\n",
       " 'type': 'PushEvent',\n",
       " 'actor': {'id': 16837285,\n",
       "  'login': 'robodoo',\n",
       "  'display_login': 'robodoo',\n",
       "  'gravatar_id': '',\n",
       "  'url': 'https://api.github.com/users/robodoo',\n",
       "  'avatar_url': 'https://avatars.githubusercontent.com/u/16837285?'},\n",
       " 'repo': {'id': 232060976,\n",
       "  'name': 'odoo/o-spreadsheet',\n",
       "  'url': 'https://api.github.com/repos/odoo/o-spreadsheet'},\n",
       " 'payload': {'repository_id': 232060976,\n",
       "  'push_id': 24264943310,\n",
       "  'size': 2,\n",
       "  'distinct_size': 2,\n",
       "  'ref': 'refs/heads/staging.17.0',\n",
       "  'head': '31c642c8a453afcfd29af16803190abee01c01b8',\n",
       "  'before': '485b23caaed69416abb311db5bec15a2f7ffb6b1',\n",
       "  'commits': [{'sha': 'e1458ae8347c6dfc18d6e8fab18994389e5ff998',\n",
       "    'author': {'email': 'lul@odoo.com', 'name': 'Lucas Lefèvre (lul)'},\n",
       "    'message': '[FIX] tokenizer: support signed scientific exponent\\n\\nsigns were not supported in the exponent: 1e+3 or 1e-1\\n\\nTask: 4766910\\nPart-of: odoo/o-spreadsheet#6390\\nSigned-off-by: Pierre Rousseau (pro) <pro@odoo.com>\\nSigned-off-by: Lucas Lefèvre (lul) <lul@odoo.com>',\n",
       "    'distinct': True,\n",
       "    'url': 'https://api.github.com/repos/odoo/o-spreadsheet/commits/e1458ae8347c6dfc18d6e8fab18994389e5ff998'},\n",
       "   {'sha': '31c642c8a453afcfd29af16803190abee01c01b8',\n",
       "    'author': {'email': 'lul@odoo.com', 'name': 'Lucas Lefèvre (lul)'},\n",
       "    'message': \"[FIX] evaluation: fix floating point precision\\n\\nSteps to reproduce\\n\\n=0.1+0.1+0.1=0.3\\n=> FALSE but it should be TRUE\\n\\nThis is of course the well known issue of floating point precision.\\n\\nExcel is rounding up to 1e-15 (for basic operators at least)\\n\\n=0.3+1E-16=0.3 => TRUE\\n=0.3+1E-15=0.3 => FALSE\\n\\nThere are some places where Excel gets it wrong (=DELTA(0.3,0.1+0.1+0.1))\\n\\nWe'll never get rid of floating point precision issues, unless we use\\na decimal representation instead of binary.\\nUsing decimals is unrealistic: huge impact on the codebase, performance.\\nExcel doesn't do it, accounting doesn't do it. We shouldn't do it either.\\n\\nLet's fix the basic arithmetic operators eq, lt, lte, gt and gte.\\n\\ncloses odoo/o-spreadsheet#6390\\n\\nTask: 4766910\\nSigned-off-by: Pierre Rousseau (pro) <pro@odoo.com>\\nSigned-off-by: Lucas Lefèvre (lul) <lul@odoo.com>\",\n",
       "    'distinct': True,\n",
       "    'url': 'https://api.github.com/repos/odoo/o-spreadsheet/commits/31c642c8a453afcfd29af16803190abee01c01b8'}]},\n",
       " 'public': True,\n",
       " 'created_at': '2025-05-13T09:34:54Z',\n",
       " 'org': {'id': 6368483,\n",
       "  'login': 'odoo',\n",
       "  'gravatar_id': '',\n",
       "  'url': 'https://api.github.com/orgs/odoo',\n",
       "  'avatar_url': 'https://avatars.githubusercontent.com/u/6368483?'}}"
      ]
     },
     "execution_count": 8,
     "metadata": {},
     "output_type": "execute_result"
    }
   ],
   "execution_count": 8
  },
  {
   "metadata": {},
   "cell_type": "markdown",
   "source": [
    "## 1.3 - Extract the activities\n",
    "We can now use ghmap to extract the activities from the raw events."
   ],
   "id": "90bebdb09da61094"
  },
  {
   "metadata": {
    "ExecuteTime": {
     "end_time": "2025-05-13T12:54:58.591272Z",
     "start_time": "2025-05-13T12:54:58.538535Z"
    }
   },
   "cell_type": "code",
   "source": "activities = gh_manager.events_to_activities(raw_events)",
   "id": "92f3098d72a21cb9",
   "outputs": [],
   "execution_count": 9
  },
  {
   "metadata": {
    "ExecuteTime": {
     "end_time": "2025-05-13T12:54:59.560107Z",
     "start_time": "2025-05-13T12:54:59.557729Z"
    }
   },
   "cell_type": "code",
   "source": "print(activities[-1])",
   "id": "e14d44488f05d5f",
   "outputs": [
    {
     "name": "stdout",
     "output_type": "stream",
     "text": [
      "{'activity': 'PushCommits', 'start_date': '2025-05-13T09:34:54Z', 'end_date': '2025-05-13T09:34:54Z', 'actor': {'id': 16837285, 'login': 'robodoo'}, 'repository': {'id': 232060976, 'name': 'odoo/o-spreadsheet', 'organisation': 'odoo', 'organisation_id': 6368483}, 'actions': [{'action': 'PushCommits', 'event_id': '49656354046', 'date': '2025-05-13T09:34:54Z', 'details': {'push': {'id': 24264943310, 'ref': 'refs/heads/staging.17.0', 'commits': 2}}}, {'action': 'PushCommits', 'event_id': '49656354046', 'date': '2025-05-13T09:34:54Z', 'details': {'push': {'id': 24264943310, 'ref': 'refs/heads/staging.17.0', 'commits': 2}}}, {'action': 'PushCommits', 'event_id': '49656354046', 'date': '2025-05-13T09:34:54Z', 'details': {'push': {'id': 24264943310, 'ref': 'refs/heads/staging.17.0', 'commits': 2}}}]}\n"
     ]
    }
   ],
   "execution_count": 10
  },
  {
   "metadata": {},
   "cell_type": "markdown",
   "source": [
    "# 2 - Extracting features\n",
    "Now, we can extract the features used by BIMBAS model.\n",
    "The features are devided in 2 groups :\n",
    "- **a** : Counting metrics\n",
    "- **b** : Aggregated metrics (mean, std, median, IQR, gini)\n",
    "\n"
   ],
   "id": "1384d0bffeb6da79"
  },
  {
   "metadata": {},
   "cell_type": "markdown",
   "source": [
    "## 2.1 - Convert to a DataFrame compatible with RABBIT\n",
    "RABBIT needs a DataFrame with the columns 'date', 'activity', 'contributor' and 'repository'.\n"
   ],
   "id": "af6b52d1c504157f"
  },
  {
   "metadata": {
    "ExecuteTime": {
     "end_time": "2025-05-13T12:55:14.871886Z",
     "start_time": "2025-05-13T12:55:14.806346Z"
    }
   },
   "cell_type": "code",
   "source": [
    "df = gh_manager.activity_to_df(activities)\n",
    "display(df)"
   ],
   "id": "e0c0c5adb8bd8cc0",
   "outputs": [
    {
     "data": {
      "text/plain": [
       "                  date            activity contributor  repository owner\n",
       "0  2025-05-13 08:37:46  CommentPullRequest     robodoo   677342336  odoo\n",
       "1  2025-05-13 08:43:22  CommentPullRequest     robodoo    19745004  odoo\n",
       "2  2025-05-13 08:46:10         PushCommits     robodoo    19745004  odoo\n",
       "3  2025-05-13 08:46:12         PushCommits     robodoo    38825372  odoo\n",
       "4  2025-05-13 08:46:17    ClosePullRequest     robodoo    19745004  odoo\n",
       "..                 ...                 ...         ...         ...   ...\n",
       "84 2025-05-13 09:28:11    ClosePullRequest     robodoo   232060976  odoo\n",
       "85 2025-05-13 09:28:13         PushCommits     robodoo   362812569  odoo\n",
       "86 2025-05-13 09:28:16         PushCommits     robodoo    38825372  odoo\n",
       "87 2025-05-13 09:32:44  CommentPullRequest     robodoo    19745004  odoo\n",
       "88 2025-05-13 09:34:54         PushCommits     robodoo   232060976  odoo\n",
       "\n",
       "[89 rows x 5 columns]"
      ],
      "text/html": [
       "<div>\n",
       "<style scoped>\n",
       "    .dataframe tbody tr th:only-of-type {\n",
       "        vertical-align: middle;\n",
       "    }\n",
       "\n",
       "    .dataframe tbody tr th {\n",
       "        vertical-align: top;\n",
       "    }\n",
       "\n",
       "    .dataframe thead th {\n",
       "        text-align: right;\n",
       "    }\n",
       "</style>\n",
       "<table border=\"1\" class=\"dataframe\">\n",
       "  <thead>\n",
       "    <tr style=\"text-align: right;\">\n",
       "      <th></th>\n",
       "      <th>date</th>\n",
       "      <th>activity</th>\n",
       "      <th>contributor</th>\n",
       "      <th>repository</th>\n",
       "      <th>owner</th>\n",
       "    </tr>\n",
       "  </thead>\n",
       "  <tbody>\n",
       "    <tr>\n",
       "      <th>0</th>\n",
       "      <td>2025-05-13 08:37:46</td>\n",
       "      <td>CommentPullRequest</td>\n",
       "      <td>robodoo</td>\n",
       "      <td>677342336</td>\n",
       "      <td>odoo</td>\n",
       "    </tr>\n",
       "    <tr>\n",
       "      <th>1</th>\n",
       "      <td>2025-05-13 08:43:22</td>\n",
       "      <td>CommentPullRequest</td>\n",
       "      <td>robodoo</td>\n",
       "      <td>19745004</td>\n",
       "      <td>odoo</td>\n",
       "    </tr>\n",
       "    <tr>\n",
       "      <th>2</th>\n",
       "      <td>2025-05-13 08:46:10</td>\n",
       "      <td>PushCommits</td>\n",
       "      <td>robodoo</td>\n",
       "      <td>19745004</td>\n",
       "      <td>odoo</td>\n",
       "    </tr>\n",
       "    <tr>\n",
       "      <th>3</th>\n",
       "      <td>2025-05-13 08:46:12</td>\n",
       "      <td>PushCommits</td>\n",
       "      <td>robodoo</td>\n",
       "      <td>38825372</td>\n",
       "      <td>odoo</td>\n",
       "    </tr>\n",
       "    <tr>\n",
       "      <th>4</th>\n",
       "      <td>2025-05-13 08:46:17</td>\n",
       "      <td>ClosePullRequest</td>\n",
       "      <td>robodoo</td>\n",
       "      <td>19745004</td>\n",
       "      <td>odoo</td>\n",
       "    </tr>\n",
       "    <tr>\n",
       "      <th>...</th>\n",
       "      <td>...</td>\n",
       "      <td>...</td>\n",
       "      <td>...</td>\n",
       "      <td>...</td>\n",
       "      <td>...</td>\n",
       "    </tr>\n",
       "    <tr>\n",
       "      <th>84</th>\n",
       "      <td>2025-05-13 09:28:11</td>\n",
       "      <td>ClosePullRequest</td>\n",
       "      <td>robodoo</td>\n",
       "      <td>232060976</td>\n",
       "      <td>odoo</td>\n",
       "    </tr>\n",
       "    <tr>\n",
       "      <th>85</th>\n",
       "      <td>2025-05-13 09:28:13</td>\n",
       "      <td>PushCommits</td>\n",
       "      <td>robodoo</td>\n",
       "      <td>362812569</td>\n",
       "      <td>odoo</td>\n",
       "    </tr>\n",
       "    <tr>\n",
       "      <th>86</th>\n",
       "      <td>2025-05-13 09:28:16</td>\n",
       "      <td>PushCommits</td>\n",
       "      <td>robodoo</td>\n",
       "      <td>38825372</td>\n",
       "      <td>odoo</td>\n",
       "    </tr>\n",
       "    <tr>\n",
       "      <th>87</th>\n",
       "      <td>2025-05-13 09:32:44</td>\n",
       "      <td>CommentPullRequest</td>\n",
       "      <td>robodoo</td>\n",
       "      <td>19745004</td>\n",
       "      <td>odoo</td>\n",
       "    </tr>\n",
       "    <tr>\n",
       "      <th>88</th>\n",
       "      <td>2025-05-13 09:34:54</td>\n",
       "      <td>PushCommits</td>\n",
       "      <td>robodoo</td>\n",
       "      <td>232060976</td>\n",
       "      <td>odoo</td>\n",
       "    </tr>\n",
       "  </tbody>\n",
       "</table>\n",
       "<p>89 rows × 5 columns</p>\n",
       "</div>"
      ]
     },
     "metadata": {},
     "output_type": "display_data"
    }
   ],
   "execution_count": 11
  },
  {
   "metadata": {},
   "cell_type": "markdown",
   "source": [
    "## 2.2 - Extract the features\n",
    "Since we have the DataFrame, we can now extract the features using RABBIT extractor."
   ],
   "id": "3e9c9c4f39bfda8c"
  },
  {
   "metadata": {
    "ExecuteTime": {
     "end_time": "2025-05-13T12:55:35.317839Z",
     "start_time": "2025-05-13T12:55:35.253694Z"
    }
   },
   "cell_type": "code",
   "source": [
    "df_feat = gh_manager.extract_features(df, USER)\n",
    "display(df_feat)"
   ],
   "id": "f21e3d181629279f",
   "outputs": [
    {
     "data": {
      "text/plain": [
       "         NA  NT   NR  NOR    ORR  NAR_mean  NAR_median  NAR_std  NAR_gini  \\\n",
       "robodoo  89   3  7.0    2  0.286    12.714         7.0   16.018     0.549   \n",
       "\n",
       "         NAR_IQR  ...  DCA_mean  DCA_median  DCA_std  DCA_gini  DCA_IQR  \\\n",
       "robodoo     10.5  ...     0.011       0.002    0.019     0.712     0.01   \n",
       "\n",
       "         DCAT_mean  DCAT_median  DCAT_std  DCAT_gini  DCAT_IQR  \n",
       "robodoo      0.013        0.002      0.02      0.695     0.018  \n",
       "\n",
       "[1 rows x 45 columns]"
      ],
      "text/html": [
       "<div>\n",
       "<style scoped>\n",
       "    .dataframe tbody tr th:only-of-type {\n",
       "        vertical-align: middle;\n",
       "    }\n",
       "\n",
       "    .dataframe tbody tr th {\n",
       "        vertical-align: top;\n",
       "    }\n",
       "\n",
       "    .dataframe thead th {\n",
       "        text-align: right;\n",
       "    }\n",
       "</style>\n",
       "<table border=\"1\" class=\"dataframe\">\n",
       "  <thead>\n",
       "    <tr style=\"text-align: right;\">\n",
       "      <th></th>\n",
       "      <th>NA</th>\n",
       "      <th>NT</th>\n",
       "      <th>NR</th>\n",
       "      <th>NOR</th>\n",
       "      <th>ORR</th>\n",
       "      <th>NAR_mean</th>\n",
       "      <th>NAR_median</th>\n",
       "      <th>NAR_std</th>\n",
       "      <th>NAR_gini</th>\n",
       "      <th>NAR_IQR</th>\n",
       "      <th>...</th>\n",
       "      <th>DCA_mean</th>\n",
       "      <th>DCA_median</th>\n",
       "      <th>DCA_std</th>\n",
       "      <th>DCA_gini</th>\n",
       "      <th>DCA_IQR</th>\n",
       "      <th>DCAT_mean</th>\n",
       "      <th>DCAT_median</th>\n",
       "      <th>DCAT_std</th>\n",
       "      <th>DCAT_gini</th>\n",
       "      <th>DCAT_IQR</th>\n",
       "    </tr>\n",
       "  </thead>\n",
       "  <tbody>\n",
       "    <tr>\n",
       "      <th>robodoo</th>\n",
       "      <td>89</td>\n",
       "      <td>3</td>\n",
       "      <td>7.0</td>\n",
       "      <td>2</td>\n",
       "      <td>0.286</td>\n",
       "      <td>12.714</td>\n",
       "      <td>7.0</td>\n",
       "      <td>16.018</td>\n",
       "      <td>0.549</td>\n",
       "      <td>10.5</td>\n",
       "      <td>...</td>\n",
       "      <td>0.011</td>\n",
       "      <td>0.002</td>\n",
       "      <td>0.019</td>\n",
       "      <td>0.712</td>\n",
       "      <td>0.01</td>\n",
       "      <td>0.013</td>\n",
       "      <td>0.002</td>\n",
       "      <td>0.02</td>\n",
       "      <td>0.695</td>\n",
       "      <td>0.018</td>\n",
       "    </tr>\n",
       "  </tbody>\n",
       "</table>\n",
       "<p>1 rows × 45 columns</p>\n",
       "</div>"
      ]
     },
     "metadata": {},
     "output_type": "display_data"
    }
   ],
   "execution_count": 12
  },
  {
   "metadata": {},
   "cell_type": "markdown",
   "source": [
    "To explain correctly how GitHubManager works, we made all steps manually. However, you can directly use the `compute_features` method to extract the features from the user. It does :\n",
    "1. Query the events from the user. (If the user has less than `min_events`, it returns None)\n",
    "2. Convert the events to activities.\n",
    "3. Convert the activities to a DataFrame.\n",
    "4. Extract the features from the DataFrame.\n"
   ],
   "id": "1bd644442caf3592"
  },
  {
   "metadata": {
    "ExecuteTime": {
     "end_time": "2025-05-13T13:05:32.754352Z",
     "start_time": "2025-05-13T13:05:31.743630Z"
    }
   },
   "cell_type": "code",
   "source": [
    "df_feat = gh_manager.compute_features(USER)\n",
    "display(df_feat)"
   ],
   "id": "41c87dcb63f0aeb2",
   "outputs": [
    {
     "data": {
      "text/plain": [
       "         NA  NT   NR  NOR    ORR  NAR_mean  NAR_median  NAR_std  NAR_gini  \\\n",
       "robodoo  90   3  7.0    2  0.286    12.857         6.0   18.106       0.6   \n",
       "\n",
       "         NAR_IQR  ...  DCA_mean  DCA_median  DCA_std  DCA_gini  DCA_IQR  \\\n",
       "robodoo     10.5  ...     0.012       0.002     0.03      0.76    0.008   \n",
       "\n",
       "         DCAT_mean  DCAT_median  DCAT_std  DCAT_gini  DCAT_IQR  \n",
       "robodoo      0.012        0.002     0.019      0.701     0.012  \n",
       "\n",
       "[1 rows x 45 columns]"
      ],
      "text/html": [
       "<div>\n",
       "<style scoped>\n",
       "    .dataframe tbody tr th:only-of-type {\n",
       "        vertical-align: middle;\n",
       "    }\n",
       "\n",
       "    .dataframe tbody tr th {\n",
       "        vertical-align: top;\n",
       "    }\n",
       "\n",
       "    .dataframe thead th {\n",
       "        text-align: right;\n",
       "    }\n",
       "</style>\n",
       "<table border=\"1\" class=\"dataframe\">\n",
       "  <thead>\n",
       "    <tr style=\"text-align: right;\">\n",
       "      <th></th>\n",
       "      <th>NA</th>\n",
       "      <th>NT</th>\n",
       "      <th>NR</th>\n",
       "      <th>NOR</th>\n",
       "      <th>ORR</th>\n",
       "      <th>NAR_mean</th>\n",
       "      <th>NAR_median</th>\n",
       "      <th>NAR_std</th>\n",
       "      <th>NAR_gini</th>\n",
       "      <th>NAR_IQR</th>\n",
       "      <th>...</th>\n",
       "      <th>DCA_mean</th>\n",
       "      <th>DCA_median</th>\n",
       "      <th>DCA_std</th>\n",
       "      <th>DCA_gini</th>\n",
       "      <th>DCA_IQR</th>\n",
       "      <th>DCAT_mean</th>\n",
       "      <th>DCAT_median</th>\n",
       "      <th>DCAT_std</th>\n",
       "      <th>DCAT_gini</th>\n",
       "      <th>DCAT_IQR</th>\n",
       "    </tr>\n",
       "  </thead>\n",
       "  <tbody>\n",
       "    <tr>\n",
       "      <th>robodoo</th>\n",
       "      <td>90</td>\n",
       "      <td>3</td>\n",
       "      <td>7.0</td>\n",
       "      <td>2</td>\n",
       "      <td>0.286</td>\n",
       "      <td>12.857</td>\n",
       "      <td>6.0</td>\n",
       "      <td>18.106</td>\n",
       "      <td>0.6</td>\n",
       "      <td>10.5</td>\n",
       "      <td>...</td>\n",
       "      <td>0.012</td>\n",
       "      <td>0.002</td>\n",
       "      <td>0.03</td>\n",
       "      <td>0.76</td>\n",
       "      <td>0.008</td>\n",
       "      <td>0.012</td>\n",
       "      <td>0.002</td>\n",
       "      <td>0.019</td>\n",
       "      <td>0.701</td>\n",
       "      <td>0.012</td>\n",
       "    </tr>\n",
       "  </tbody>\n",
       "</table>\n",
       "<p>1 rows × 45 columns</p>\n",
       "</div>"
      ]
     },
     "metadata": {},
     "output_type": "display_data"
    }
   ],
   "execution_count": 19
  },
  {
   "metadata": {},
   "cell_type": "markdown",
   "source": [
    "# 3 - Predict if the user is a bot or not\n",
    "We can now use the BIMBAS model to predict if the user is a bot or not."
   ],
   "id": "e636305b799d609b"
  },
  {
   "metadata": {
    "ExecuteTime": {
     "end_time": "2025-05-13T12:57:48.370259Z",
     "start_time": "2025-05-13T12:57:48.337174Z"
    }
   },
   "cell_type": "code",
   "source": [
    "import gitbot_utils.model_utils as mod\n",
    "\n",
    "bimbas = mod.load_model(\"../resources/models/bimbas.joblib\")\n",
    "\n",
    "label, confidence = mod.predict_contributor(df_feat, bimbas)\n",
    "print(f\"Contributor {USER} is a {label} with confidence {confidence}\")"
   ],
   "id": "73180a3cbe7805",
   "outputs": [
    {
     "name": "stdout",
     "output_type": "stream",
     "text": [
      "Contributor robodoo is a Bot with confidence 0.905\n"
     ]
    }
   ],
   "execution_count": 18
  }
 ],
 "metadata": {
  "kernelspec": {
   "display_name": "Python 3",
   "language": "python",
   "name": "python3"
  },
  "language_info": {
   "codemirror_mode": {
    "name": "ipython",
    "version": 2
   },
   "file_extension": ".py",
   "mimetype": "text/x-python",
   "name": "python",
   "nbconvert_exporter": "python",
   "pygments_lexer": "ipython2",
   "version": "2.7.6"
  }
 },
 "nbformat": 4,
 "nbformat_minor": 5
}
